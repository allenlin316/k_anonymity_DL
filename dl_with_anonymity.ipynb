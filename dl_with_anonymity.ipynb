{
 "cells": [
  {
   "cell_type": "code",
   "execution_count": 13,
   "metadata": {},
   "outputs": [],
   "source": [
    "import torch\n",
    "import torch.nn as nn\n",
    "from torch.utils.data import Dataset, DataLoader\n",
    "from torchvision import transforms\n",
    "\n",
    "from sklearn.preprocessing import LabelEncoder\n",
    "from sklearn.model_selection import train_test_split\n",
    "from sklearn.preprocessing import MinMaxScaler\n",
    "\n",
    "import pandas as pd\n",
    "import numpy as np\n",
    "from tqdm import tqdm\n",
    "import os"
   ]
  },
  {
   "cell_type": "code",
   "execution_count": 14,
   "metadata": {},
   "outputs": [],
   "source": [
    "class dataset(Dataset):\n",
    "    def __init__(self, x, y):\n",
    "        self.x = x\n",
    "        self.y = y\n",
    "        self.n_sample = len(x)\n",
    "    def __getitem__(self, index):\n",
    "        return self.x[index], self.y[index]\n",
    "    def __len__(self):\n",
    "        return self.n_sample"
   ]
  },
  {
   "cell_type": "code",
   "execution_count": 15,
   "metadata": {},
   "outputs": [],
   "source": [
    "class Model(nn.Module):\n",
    "    def __init__(self):\n",
    "        super(Model, self).__init__()\n",
    "        self.net = nn.Sequential(\n",
    "            nn.Linear(train_x.shape[1], 128),      # Increase the number of neurons\n",
    "            nn.ReLU(),\n",
    "            nn.Dropout(0.5),                # Add dropout for regularization\n",
    "            nn.Linear(128, 64),             # Add another layer\n",
    "            nn.ReLU(),\n",
    "            nn.Linear(64, 2),\n",
    "            nn.Softmax(dim=1)  \n",
    "        )\n",
    "    def forward(self, x):\n",
    "        return self.net(x)"
   ]
  },
  {
   "cell_type": "code",
   "execution_count": 16,
   "metadata": {
    "scrolled": true
   },
   "outputs": [
    {
     "data": {
      "text/html": [
       "<div>\n",
       "<style scoped>\n",
       "    .dataframe tbody tr th:only-of-type {\n",
       "        vertical-align: middle;\n",
       "    }\n",
       "\n",
       "    .dataframe tbody tr th {\n",
       "        vertical-align: top;\n",
       "    }\n",
       "\n",
       "    .dataframe thead th {\n",
       "        text-align: right;\n",
       "    }\n",
       "</style>\n",
       "<table border=\"1\" class=\"dataframe\">\n",
       "  <thead>\n",
       "    <tr style=\"text-align: right;\">\n",
       "      <th></th>\n",
       "      <th>age</th>\n",
       "      <th>workclass</th>\n",
       "      <th>education</th>\n",
       "      <th>education-num</th>\n",
       "      <th>marital-status</th>\n",
       "      <th>occupation</th>\n",
       "      <th>relationship</th>\n",
       "      <th>race</th>\n",
       "      <th>sex</th>\n",
       "      <th>hours-per-week</th>\n",
       "      <th>native-country</th>\n",
       "      <th>income</th>\n",
       "    </tr>\n",
       "  </thead>\n",
       "  <tbody>\n",
       "    <tr>\n",
       "      <th>0</th>\n",
       "      <td>[17-18]</td>\n",
       "      <td>Private</td>\n",
       "      <td>10th</td>\n",
       "      <td>[6-7]</td>\n",
       "      <td>Never-married</td>\n",
       "      <td>Other-service</td>\n",
       "      <td>Own-child</td>\n",
       "      <td>White</td>\n",
       "      <td>Male</td>\n",
       "      <td>[12-40]</td>\n",
       "      <td>United-States</td>\n",
       "      <td>&lt;=50K</td>\n",
       "    </tr>\n",
       "    <tr>\n",
       "      <th>1</th>\n",
       "      <td>[17-18]</td>\n",
       "      <td>Private</td>\n",
       "      <td>11th</td>\n",
       "      <td>[6-7]</td>\n",
       "      <td>Never-married</td>\n",
       "      <td>Sales</td>\n",
       "      <td>Own-child</td>\n",
       "      <td>White</td>\n",
       "      <td>Female</td>\n",
       "      <td>[12-40]</td>\n",
       "      <td>United-States</td>\n",
       "      <td>&lt;=50K</td>\n",
       "    </tr>\n",
       "    <tr>\n",
       "      <th>2</th>\n",
       "      <td>[17-18]</td>\n",
       "      <td>Private</td>\n",
       "      <td>11th</td>\n",
       "      <td>[6-7]</td>\n",
       "      <td>Never-married</td>\n",
       "      <td>Handlers-cleaners</td>\n",
       "      <td>Own-child</td>\n",
       "      <td>White</td>\n",
       "      <td>Male</td>\n",
       "      <td>[12-40]</td>\n",
       "      <td>United-States</td>\n",
       "      <td>&lt;=50K</td>\n",
       "    </tr>\n",
       "    <tr>\n",
       "      <th>3</th>\n",
       "      <td>[17-18]</td>\n",
       "      <td>Self-emp-inc</td>\n",
       "      <td>10th</td>\n",
       "      <td>[6-7]</td>\n",
       "      <td>Never-married</td>\n",
       "      <td>Craft-repair</td>\n",
       "      <td>Own-child</td>\n",
       "      <td>White</td>\n",
       "      <td>Male</td>\n",
       "      <td>[12-40]</td>\n",
       "      <td>United-States</td>\n",
       "      <td>&lt;=50K</td>\n",
       "    </tr>\n",
       "    <tr>\n",
       "      <th>4</th>\n",
       "      <td>[19-20]</td>\n",
       "      <td>Private</td>\n",
       "      <td>HS-grad</td>\n",
       "      <td>[9-10]</td>\n",
       "      <td>Never-married</td>\n",
       "      <td>Sales</td>\n",
       "      <td>Unmarried</td>\n",
       "      <td>Black</td>\n",
       "      <td>Female</td>\n",
       "      <td>[30-60]</td>\n",
       "      <td>United-States</td>\n",
       "      <td>&lt;=50K</td>\n",
       "    </tr>\n",
       "  </tbody>\n",
       "</table>\n",
       "</div>"
      ],
      "text/plain": [
       "       age     workclass education education-num marital-status  \\\n",
       "0  [17-18]       Private      10th         [6-7]  Never-married   \n",
       "1  [17-18]       Private      11th         [6-7]  Never-married   \n",
       "2  [17-18]       Private      11th         [6-7]  Never-married   \n",
       "3  [17-18]  Self-emp-inc      10th         [6-7]  Never-married   \n",
       "4  [19-20]       Private   HS-grad        [9-10]  Never-married   \n",
       "\n",
       "          occupation relationship   race     sex hours-per-week  \\\n",
       "0      Other-service    Own-child  White    Male        [12-40]   \n",
       "1              Sales    Own-child  White  Female        [12-40]   \n",
       "2  Handlers-cleaners    Own-child  White    Male        [12-40]   \n",
       "3       Craft-repair    Own-child  White    Male        [12-40]   \n",
       "4              Sales    Unmarried  Black  Female        [30-60]   \n",
       "\n",
       "  native-country income  \n",
       "0  United-States  <=50K  \n",
       "1  United-States  <=50K  \n",
       "2  United-States  <=50K  \n",
       "3  United-States  <=50K  \n",
       "4  United-States  <=50K  "
      ]
     },
     "execution_count": 16,
     "metadata": {},
     "output_type": "execute_result"
    }
   ],
   "source": [
    "df = pd.read_csv(\"adult_with_anonymity_k3.csv\")\n",
    "df.head()"
   ]
  },
  {
   "cell_type": "code",
   "execution_count": 17,
   "metadata": {},
   "outputs": [
    {
     "data": {
      "text/html": [
       "<div>\n",
       "<style scoped>\n",
       "    .dataframe tbody tr th:only-of-type {\n",
       "        vertical-align: middle;\n",
       "    }\n",
       "\n",
       "    .dataframe tbody tr th {\n",
       "        vertical-align: top;\n",
       "    }\n",
       "\n",
       "    .dataframe thead th {\n",
       "        text-align: right;\n",
       "    }\n",
       "</style>\n",
       "<table border=\"1\" class=\"dataframe\">\n",
       "  <thead>\n",
       "    <tr style=\"text-align: right;\">\n",
       "      <th></th>\n",
       "      <th>age</th>\n",
       "      <th>workclass</th>\n",
       "      <th>education</th>\n",
       "      <th>education-num</th>\n",
       "      <th>marital-status</th>\n",
       "      <th>occupation</th>\n",
       "      <th>relationship</th>\n",
       "      <th>race</th>\n",
       "      <th>sex</th>\n",
       "      <th>hours-per-week</th>\n",
       "      <th>native-country</th>\n",
       "      <th>income</th>\n",
       "    </tr>\n",
       "  </thead>\n",
       "  <tbody>\n",
       "    <tr>\n",
       "      <th>0</th>\n",
       "      <td>0</td>\n",
       "      <td>2</td>\n",
       "      <td>0</td>\n",
       "      <td>19</td>\n",
       "      <td>3</td>\n",
       "      <td>6</td>\n",
       "      <td>3</td>\n",
       "      <td>4</td>\n",
       "      <td>1</td>\n",
       "      <td>0</td>\n",
       "      <td>17</td>\n",
       "      <td>0</td>\n",
       "    </tr>\n",
       "    <tr>\n",
       "      <th>1</th>\n",
       "      <td>0</td>\n",
       "      <td>2</td>\n",
       "      <td>1</td>\n",
       "      <td>19</td>\n",
       "      <td>3</td>\n",
       "      <td>9</td>\n",
       "      <td>3</td>\n",
       "      <td>4</td>\n",
       "      <td>0</td>\n",
       "      <td>0</td>\n",
       "      <td>17</td>\n",
       "      <td>0</td>\n",
       "    </tr>\n",
       "    <tr>\n",
       "      <th>2</th>\n",
       "      <td>0</td>\n",
       "      <td>2</td>\n",
       "      <td>1</td>\n",
       "      <td>19</td>\n",
       "      <td>3</td>\n",
       "      <td>4</td>\n",
       "      <td>3</td>\n",
       "      <td>4</td>\n",
       "      <td>1</td>\n",
       "      <td>0</td>\n",
       "      <td>17</td>\n",
       "      <td>0</td>\n",
       "    </tr>\n",
       "    <tr>\n",
       "      <th>3</th>\n",
       "      <td>0</td>\n",
       "      <td>3</td>\n",
       "      <td>0</td>\n",
       "      <td>19</td>\n",
       "      <td>3</td>\n",
       "      <td>1</td>\n",
       "      <td>3</td>\n",
       "      <td>4</td>\n",
       "      <td>1</td>\n",
       "      <td>0</td>\n",
       "      <td>17</td>\n",
       "      <td>0</td>\n",
       "    </tr>\n",
       "    <tr>\n",
       "      <th>4</th>\n",
       "      <td>1</td>\n",
       "      <td>2</td>\n",
       "      <td>11</td>\n",
       "      <td>26</td>\n",
       "      <td>3</td>\n",
       "      <td>9</td>\n",
       "      <td>4</td>\n",
       "      <td>2</td>\n",
       "      <td>0</td>\n",
       "      <td>14</td>\n",
       "      <td>17</td>\n",
       "      <td>0</td>\n",
       "    </tr>\n",
       "  </tbody>\n",
       "</table>\n",
       "</div>"
      ],
      "text/plain": [
       "   age  workclass  education  education-num  marital-status  occupation  \\\n",
       "0    0          2          0             19               3           6   \n",
       "1    0          2          1             19               3           9   \n",
       "2    0          2          1             19               3           4   \n",
       "3    0          3          0             19               3           1   \n",
       "4    1          2         11             26               3           9   \n",
       "\n",
       "   relationship  race  sex  hours-per-week  native-country  income  \n",
       "0             3     4    1               0              17       0  \n",
       "1             3     4    0               0              17       0  \n",
       "2             3     4    1               0              17       0  \n",
       "3             3     4    1               0              17       0  \n",
       "4             4     2    0              14              17       0  "
      ]
     },
     "execution_count": 17,
     "metadata": {},
     "output_type": "execute_result"
    }
   ],
   "source": [
    "# Function to apply LabelEncoder on multiple columns\n",
    "def label_encode_columns(df, columns):\n",
    "    le = LabelEncoder()\n",
    "    for column in columns:\n",
    "        df[column] = le.fit_transform(df[column])\n",
    "    return df\n",
    "\n",
    "# Apply LabelEncoder on the specified columns\n",
    "df_encoded = label_encode_columns(df, df.columns)\n",
    "df_encoded.head()"
   ]
  },
  {
   "cell_type": "code",
   "execution_count": 18,
   "metadata": {},
   "outputs": [
    {
     "name": "stdout",
     "output_type": "stream",
     "text": [
      "<class 'numpy.ndarray'>\n",
      "(300, 11)\n",
      "<class 'numpy.ndarray'>\n",
      "(300,)\n"
     ]
    }
   ],
   "source": [
    "# transform pandas type into numpy type\n",
    "adult_x = df[['age', 'workclass', 'education', 'education-num', 'marital-status', 'occupation', 'relationship', 'race', 'sex', 'hours-per-week', 'native-country']].values\n",
    "adult_y = df['income'].values\n",
    "print(type(adult_x))\n",
    "print(adult_x.shape)\n",
    "print(type(adult_y))\n",
    "print(adult_y.shape)"
   ]
  },
  {
   "cell_type": "code",
   "execution_count": 19,
   "metadata": {},
   "outputs": [],
   "source": [
    "# normalize\n",
    "minmax = MinMaxScaler()\n",
    "adult_x = minmax.fit_transform(adult_x)"
   ]
  },
  {
   "cell_type": "code",
   "execution_count": 20,
   "metadata": {},
   "outputs": [
    {
     "name": "stdout",
     "output_type": "stream",
     "text": [
      "(240, 11)\n",
      "(240,)\n",
      "(30, 11)\n",
      "(30,)\n",
      "(30, 11)\n",
      "(30,)\n"
     ]
    }
   ],
   "source": [
    "# split dataset into training and validation\n",
    "train_x, valid_x, train_y, valid_y = train_test_split(adult_x, adult_y, test_size=0.2, random_state=1)\n",
    "valid_x, test_x, valid_y, test_y = train_test_split(valid_x, valid_y, test_size=0.5, random_state=1)\n",
    "print(train_x.shape)\n",
    "print(train_y.shape)\n",
    "print(valid_x.shape)\n",
    "print(valid_y.shape)\n",
    "print(test_x.shape)\n",
    "print(test_y.shape)"
   ]
  },
  {
   "cell_type": "code",
   "execution_count": 21,
   "metadata": {},
   "outputs": [],
   "source": [
    "train_x = torch.tensor(train_x, dtype=torch.float32)\n",
    "valid_x = torch.tensor(valid_x, dtype=torch.float32)\n",
    "test_x = torch.tensor(test_x, dtype=torch.float32)\n",
    "train_y = torch.tensor(train_y, dtype=torch.long)\n",
    "valid_y = torch.tensor(valid_y, dtype=torch.long)\n",
    "test_y = torch.tensor(test_y, dtype=torch.long)"
   ]
  },
  {
   "cell_type": "code",
   "execution_count": 22,
   "metadata": {},
   "outputs": [],
   "source": [
    "train_set = dataset(train_x, train_y)\n",
    "valid_set = dataset(valid_x, valid_y)\n",
    "test_set = dataset(test_x, test_y)\n",
    "batch_size = 8\n",
    "train_loader = DataLoader(dataset=train_set, batch_size=batch_size, shuffle=True)\n",
    "valid_loader = DataLoader(dataset=valid_set, batch_size=batch_size, shuffle=False)\n",
    "test_loader = DataLoader(dataset=test_set, batch_size=batch_size, shuffle=False)"
   ]
  },
  {
   "cell_type": "code",
   "execution_count": 23,
   "metadata": {},
   "outputs": [
    {
     "name": "stdout",
     "output_type": "stream",
     "text": [
      "Model(\n",
      "  (net): Sequential(\n",
      "    (0): Linear(in_features=11, out_features=128, bias=True)\n",
      "    (1): ReLU()\n",
      "    (2): Dropout(p=0.5, inplace=False)\n",
      "    (3): Linear(in_features=128, out_features=64, bias=True)\n",
      "    (4): ReLU()\n",
      "    (5): Linear(in_features=64, out_features=2, bias=True)\n",
      "    (6): Softmax(dim=1)\n",
      "  )\n",
      ")\n",
      "Running Epoch:1\n"
     ]
    },
    {
     "name": "stderr",
     "output_type": "stream",
     "text": [
      "Epoch 1 - Training: 100%|██████████████████████████████████████████████████████████████| 30/30 [00:00<00:00, 634.51it/s]\n"
     ]
    },
    {
     "name": "stdout",
     "output_type": "stream",
     "text": [
      "Training Loss= 0.6911068777243297\n",
      "Training Acc(%)= 50.416666666666664\n",
      "Validation Acc(%)= 60.0\n",
      "Running Epoch:2\n"
     ]
    },
    {
     "name": "stderr",
     "output_type": "stream",
     "text": [
      "Epoch 2 - Training: 100%|██████████████████████████████████████████████████████████████| 30/30 [00:00<00:00, 617.64it/s]\n"
     ]
    },
    {
     "name": "stdout",
     "output_type": "stream",
     "text": [
      "Training Loss= 0.6764072020848592\n",
      "Training Acc(%)= 61.25000000000001\n",
      "Validation Acc(%)= 66.66666666666666\n",
      "Running Epoch:3\n"
     ]
    },
    {
     "name": "stderr",
     "output_type": "stream",
     "text": [
      "Epoch 3 - Training: 100%|██████████████████████████████████████████████████████████████| 30/30 [00:00<00:00, 647.61it/s]\n"
     ]
    },
    {
     "name": "stdout",
     "output_type": "stream",
     "text": [
      "Training Loss= 0.6588689664999644\n",
      "Training Acc(%)= 66.66666666666666\n",
      "Validation Acc(%)= 66.66666666666666\n",
      "Running Epoch:4\n"
     ]
    },
    {
     "name": "stderr",
     "output_type": "stream",
     "text": [
      "Epoch 4 - Training: 100%|██████████████████████████████████████████████████████████████| 30/30 [00:00<00:00, 630.36it/s]\n"
     ]
    },
    {
     "name": "stdout",
     "output_type": "stream",
     "text": [
      "Training Loss= 0.6405029118061065\n",
      "Training Acc(%)= 65.41666666666667\n",
      "Validation Acc(%)= 70.0\n",
      "Running Epoch:5\n"
     ]
    },
    {
     "name": "stderr",
     "output_type": "stream",
     "text": [
      "Epoch 5 - Training: 100%|██████████████████████████████████████████████████████████████| 30/30 [00:00<00:00, 669.59it/s]\n"
     ]
    },
    {
     "name": "stdout",
     "output_type": "stream",
     "text": [
      "Training Loss= 0.6393412411212921\n",
      "Training Acc(%)= 65.41666666666667\n",
      "Validation Acc(%)= 66.66666666666666\n",
      "Running Epoch:6\n"
     ]
    },
    {
     "name": "stderr",
     "output_type": "stream",
     "text": [
      "Epoch 6 - Training: 100%|██████████████████████████████████████████████████████████████| 30/30 [00:00<00:00, 698.68it/s]\n"
     ]
    },
    {
     "name": "stdout",
     "output_type": "stream",
     "text": [
      "Training Loss= 0.6275526960690816\n",
      "Training Acc(%)= 64.16666666666667\n",
      "Validation Acc(%)= 70.0\n",
      "Running Epoch:7\n"
     ]
    },
    {
     "name": "stderr",
     "output_type": "stream",
     "text": [
      "Epoch 7 - Training: 100%|██████████████████████████████████████████████████████████████| 30/30 [00:00<00:00, 731.71it/s]\n"
     ]
    },
    {
     "name": "stdout",
     "output_type": "stream",
     "text": [
      "Training Loss= 0.621665433049202\n",
      "Training Acc(%)= 67.91666666666667\n",
      "Validation Acc(%)= 66.66666666666666\n",
      "Running Epoch:8\n"
     ]
    },
    {
     "name": "stderr",
     "output_type": "stream",
     "text": [
      "Epoch 8 - Training: 100%|██████████████████████████████████████████████████████████████| 30/30 [00:00<00:00, 695.53it/s]\n"
     ]
    },
    {
     "name": "stdout",
     "output_type": "stream",
     "text": [
      "Training Loss= 0.6123014887173971\n",
      "Training Acc(%)= 69.16666666666667\n",
      "Validation Acc(%)= 66.66666666666666\n",
      "Running Epoch:9\n"
     ]
    },
    {
     "name": "stderr",
     "output_type": "stream",
     "text": [
      "Epoch 9 - Training: 100%|██████████████████████████████████████████████████████████████| 30/30 [00:00<00:00, 709.58it/s]\n"
     ]
    },
    {
     "name": "stdout",
     "output_type": "stream",
     "text": [
      "Training Loss= 0.6157665193080902\n",
      "Training Acc(%)= 69.58333333333333\n",
      "Validation Acc(%)= 66.66666666666666\n",
      "Running Epoch:10\n"
     ]
    },
    {
     "name": "stderr",
     "output_type": "stream",
     "text": [
      "Epoch 10 - Training: 100%|█████████████████████████████████████████████████████████████| 30/30 [00:00<00:00, 746.46it/s]\n"
     ]
    },
    {
     "name": "stdout",
     "output_type": "stream",
     "text": [
      "Training Loss= 0.6024310141801834\n",
      "Training Acc(%)= 68.33333333333333\n",
      "Validation Acc(%)= 66.66666666666666\n",
      "Running Epoch:11\n"
     ]
    },
    {
     "name": "stderr",
     "output_type": "stream",
     "text": [
      "Epoch 11 - Training: 100%|█████████████████████████████████████████████████████████████| 30/30 [00:00<00:00, 734.01it/s]\n"
     ]
    },
    {
     "name": "stdout",
     "output_type": "stream",
     "text": [
      "Training Loss= 0.6020964860916138\n",
      "Training Acc(%)= 68.33333333333333\n",
      "Validation Acc(%)= 66.66666666666666\n",
      "Running Epoch:12\n"
     ]
    },
    {
     "name": "stderr",
     "output_type": "stream",
     "text": [
      "Epoch 12 - Training: 100%|█████████████████████████████████████████████████████████████| 30/30 [00:00<00:00, 768.40it/s]\n"
     ]
    },
    {
     "name": "stdout",
     "output_type": "stream",
     "text": [
      "Training Loss= 0.614640063047409\n",
      "Training Acc(%)= 68.33333333333333\n",
      "Validation Acc(%)= 66.66666666666666\n",
      "Running Epoch:13\n"
     ]
    },
    {
     "name": "stderr",
     "output_type": "stream",
     "text": [
      "Epoch 13 - Training: 100%|█████████████████████████████████████████████████████████████| 30/30 [00:00<00:00, 764.30it/s]\n"
     ]
    },
    {
     "name": "stdout",
     "output_type": "stream",
     "text": [
      "Training Loss= 0.5914555678764979\n",
      "Training Acc(%)= 69.16666666666667\n",
      "Validation Acc(%)= 70.0\n",
      "Running Epoch:14\n"
     ]
    },
    {
     "name": "stderr",
     "output_type": "stream",
     "text": [
      "Epoch 14 - Training: 100%|█████████████████████████████████████████████████████████████| 30/30 [00:00<00:00, 762.78it/s]\n"
     ]
    },
    {
     "name": "stdout",
     "output_type": "stream",
     "text": [
      "Training Loss= 0.597213809688886\n",
      "Training Acc(%)= 70.83333333333334\n",
      "Validation Acc(%)= 66.66666666666666\n",
      "Running Epoch:15\n"
     ]
    },
    {
     "name": "stderr",
     "output_type": "stream",
     "text": [
      "Epoch 15 - Training: 100%|█████████████████████████████████████████████████████████████| 30/30 [00:00<00:00, 738.16it/s]\n"
     ]
    },
    {
     "name": "stdout",
     "output_type": "stream",
     "text": [
      "Training Loss= 0.5992437660694122\n",
      "Training Acc(%)= 68.33333333333333\n",
      "Validation Acc(%)= 66.66666666666666\n",
      "Running Epoch:16\n"
     ]
    },
    {
     "name": "stderr",
     "output_type": "stream",
     "text": [
      "Epoch 16 - Training: 100%|█████████████████████████████████████████████████████████████| 30/30 [00:00<00:00, 808.45it/s]\n"
     ]
    },
    {
     "name": "stdout",
     "output_type": "stream",
     "text": [
      "Training Loss= 0.5867146114508311\n",
      "Training Acc(%)= 70.83333333333334\n",
      "Validation Acc(%)= 66.66666666666666\n",
      "Running Epoch:17\n"
     ]
    },
    {
     "name": "stderr",
     "output_type": "stream",
     "text": [
      "Epoch 17 - Training: 100%|█████████████████████████████████████████████████████████████| 30/30 [00:00<00:00, 781.06it/s]\n"
     ]
    },
    {
     "name": "stdout",
     "output_type": "stream",
     "text": [
      "Training Loss= 0.5896785279115041\n",
      "Training Acc(%)= 70.41666666666667\n",
      "Validation Acc(%)= 66.66666666666666\n",
      "Running Epoch:18\n"
     ]
    },
    {
     "name": "stderr",
     "output_type": "stream",
     "text": [
      "Epoch 18 - Training: 100%|█████████████████████████████████████████████████████████████| 30/30 [00:00<00:00, 772.10it/s]\n"
     ]
    },
    {
     "name": "stdout",
     "output_type": "stream",
     "text": [
      "Training Loss= 0.5884712666273118\n",
      "Training Acc(%)= 70.83333333333334\n",
      "Validation Acc(%)= 66.66666666666666\n",
      "Running Epoch:19\n"
     ]
    },
    {
     "name": "stderr",
     "output_type": "stream",
     "text": [
      "Epoch 19 - Training: 100%|█████████████████████████████████████████████████████████████| 30/30 [00:00<00:00, 778.29it/s]\n"
     ]
    },
    {
     "name": "stdout",
     "output_type": "stream",
     "text": [
      "Training Loss= 0.5789298196633657\n",
      "Training Acc(%)= 70.83333333333334\n",
      "Validation Acc(%)= 66.66666666666666\n",
      "Running Epoch:20\n"
     ]
    },
    {
     "name": "stderr",
     "output_type": "stream",
     "text": [
      "Epoch 20 - Training: 100%|█████████████████████████████████████████████████████████████| 30/30 [00:00<00:00, 752.61it/s]\n"
     ]
    },
    {
     "name": "stdout",
     "output_type": "stream",
     "text": [
      "Training Loss= 0.5839110523462295\n",
      "Training Acc(%)= 70.83333333333334\n",
      "Validation Acc(%)= 66.66666666666666\n",
      "Running Epoch:21\n"
     ]
    },
    {
     "name": "stderr",
     "output_type": "stream",
     "text": [
      "Epoch 21 - Training: 100%|█████████████████████████████████████████████████████████████| 30/30 [00:00<00:00, 773.00it/s]\n"
     ]
    },
    {
     "name": "stdout",
     "output_type": "stream",
     "text": [
      "Training Loss= 0.576666185259819\n",
      "Training Acc(%)= 71.66666666666667\n",
      "Validation Acc(%)= 66.66666666666666\n",
      "Running Epoch:22\n"
     ]
    },
    {
     "name": "stderr",
     "output_type": "stream",
     "text": [
      "Epoch 22 - Training: 100%|█████████████████████████████████████████████████████████████| 30/30 [00:00<00:00, 817.71it/s]\n"
     ]
    },
    {
     "name": "stdout",
     "output_type": "stream",
     "text": [
      "Training Loss= 0.5738587071498235\n",
      "Training Acc(%)= 72.91666666666666\n",
      "Validation Acc(%)= 66.66666666666666\n",
      "Running Epoch:23\n"
     ]
    },
    {
     "name": "stderr",
     "output_type": "stream",
     "text": [
      "Epoch 23 - Training: 100%|█████████████████████████████████████████████████████████████| 30/30 [00:00<00:00, 789.91it/s]\n"
     ]
    },
    {
     "name": "stdout",
     "output_type": "stream",
     "text": [
      "Training Loss= 0.5716837694247564\n",
      "Training Acc(%)= 74.16666666666667\n",
      "Validation Acc(%)= 70.0\n",
      "Running Epoch:24\n"
     ]
    },
    {
     "name": "stderr",
     "output_type": "stream",
     "text": [
      "Epoch 24 - Training: 100%|█████████████████████████████████████████████████████████████| 30/30 [00:00<00:00, 775.10it/s]\n"
     ]
    },
    {
     "name": "stdout",
     "output_type": "stream",
     "text": [
      "Training Loss= 0.5800748685995738\n",
      "Training Acc(%)= 74.16666666666667\n",
      "Validation Acc(%)= 70.0\n",
      "Running Epoch:25\n"
     ]
    },
    {
     "name": "stderr",
     "output_type": "stream",
     "text": [
      "Epoch 25 - Training: 100%|█████████████████████████████████████████████████████████████| 30/30 [00:00<00:00, 773.85it/s]\n"
     ]
    },
    {
     "name": "stdout",
     "output_type": "stream",
     "text": [
      "Training Loss= 0.564351745446523\n",
      "Training Acc(%)= 71.66666666666667\n",
      "Validation Acc(%)= 70.0\n",
      "Running Epoch:26\n"
     ]
    },
    {
     "name": "stderr",
     "output_type": "stream",
     "text": [
      "Epoch 26 - Training: 100%|█████████████████████████████████████████████████████████████| 30/30 [00:00<00:00, 776.33it/s]\n"
     ]
    },
    {
     "name": "stdout",
     "output_type": "stream",
     "text": [
      "Training Loss= 0.5715886612733205\n",
      "Training Acc(%)= 69.16666666666667\n",
      "Validation Acc(%)= 70.0\n",
      "Running Epoch:27\n"
     ]
    },
    {
     "name": "stderr",
     "output_type": "stream",
     "text": [
      "Epoch 27 - Training: 100%|█████████████████████████████████████████████████████████████| 30/30 [00:00<00:00, 712.01it/s]\n"
     ]
    },
    {
     "name": "stdout",
     "output_type": "stream",
     "text": [
      "Training Loss= 0.5555890440940857\n",
      "Training Acc(%)= 75.83333333333333\n",
      "Validation Acc(%)= 66.66666666666666\n",
      "Running Epoch:28\n"
     ]
    },
    {
     "name": "stderr",
     "output_type": "stream",
     "text": [
      "Epoch 28 - Training: 100%|█████████████████████████████████████████████████████████████| 30/30 [00:00<00:00, 708.03it/s]\n"
     ]
    },
    {
     "name": "stdout",
     "output_type": "stream",
     "text": [
      "Training Loss= 0.5676056275765101\n",
      "Training Acc(%)= 73.75\n",
      "Validation Acc(%)= 66.66666666666666\n",
      "Running Epoch:29\n"
     ]
    },
    {
     "name": "stderr",
     "output_type": "stream",
     "text": [
      "Epoch 29 - Training: 100%|█████████████████████████████████████████████████████████████| 30/30 [00:00<00:00, 753.46it/s]\n"
     ]
    },
    {
     "name": "stdout",
     "output_type": "stream",
     "text": [
      "Training Loss= 0.5577919205029805\n",
      "Training Acc(%)= 74.16666666666667\n",
      "Validation Acc(%)= 70.0\n",
      "Running Epoch:30\n"
     ]
    },
    {
     "name": "stderr",
     "output_type": "stream",
     "text": [
      "Epoch 30 - Training: 100%|█████████████████████████████████████████████████████████████| 30/30 [00:00<00:00, 733.24it/s]\n"
     ]
    },
    {
     "name": "stdout",
     "output_type": "stream",
     "text": [
      "Training Loss= 0.5611062029997508\n",
      "Training Acc(%)= 72.08333333333333\n",
      "Validation Acc(%)= 73.33333333333333\n",
      "Running Epoch:31\n"
     ]
    },
    {
     "name": "stderr",
     "output_type": "stream",
     "text": [
      "Epoch 31 - Training: 100%|█████████████████████████████████████████████████████████████| 30/30 [00:00<00:00, 687.41it/s]\n"
     ]
    },
    {
     "name": "stdout",
     "output_type": "stream",
     "text": [
      "Training Loss= 0.5530095756053924\n",
      "Training Acc(%)= 74.58333333333333\n",
      "Validation Acc(%)= 70.0\n",
      "Running Epoch:32\n"
     ]
    },
    {
     "name": "stderr",
     "output_type": "stream",
     "text": [
      "Epoch 32 - Training: 100%|█████████████████████████████████████████████████████████████| 30/30 [00:00<00:00, 721.58it/s]\n"
     ]
    },
    {
     "name": "stdout",
     "output_type": "stream",
     "text": [
      "Training Loss= 0.5551753630240758\n",
      "Training Acc(%)= 75.0\n",
      "Validation Acc(%)= 70.0\n",
      "Running Epoch:33\n"
     ]
    },
    {
     "name": "stderr",
     "output_type": "stream",
     "text": [
      "Epoch 33 - Training: 100%|█████████████████████████████████████████████████████████████| 30/30 [00:00<00:00, 684.74it/s]\n"
     ]
    },
    {
     "name": "stdout",
     "output_type": "stream",
     "text": [
      "Training Loss= 0.5526143093903859\n",
      "Training Acc(%)= 75.83333333333333\n",
      "Validation Acc(%)= 66.66666666666666\n",
      "Running Epoch:34\n"
     ]
    },
    {
     "name": "stderr",
     "output_type": "stream",
     "text": [
      "Epoch 34 - Training: 100%|█████████████████████████████████████████████████████████████| 30/30 [00:00<00:00, 753.66it/s]\n"
     ]
    },
    {
     "name": "stdout",
     "output_type": "stream",
     "text": [
      "Training Loss= 0.5573839435974757\n",
      "Training Acc(%)= 75.41666666666667\n",
      "Validation Acc(%)= 73.33333333333333\n",
      "Running Epoch:35\n"
     ]
    },
    {
     "name": "stderr",
     "output_type": "stream",
     "text": [
      "Epoch 35 - Training: 100%|█████████████████████████████████████████████████████████████| 30/30 [00:00<00:00, 798.85it/s]\n"
     ]
    },
    {
     "name": "stdout",
     "output_type": "stream",
     "text": [
      "Training Loss= 0.5474033931891124\n",
      "Training Acc(%)= 74.58333333333333\n",
      "Validation Acc(%)= 70.0\n",
      "Running Epoch:36\n"
     ]
    },
    {
     "name": "stderr",
     "output_type": "stream",
     "text": [
      "Epoch 36 - Training: 100%|█████████████████████████████████████████████████████████████| 30/30 [00:00<00:00, 717.29it/s]\n"
     ]
    },
    {
     "name": "stdout",
     "output_type": "stream",
     "text": [
      "Training Loss= 0.5367789745330811\n",
      "Training Acc(%)= 76.66666666666667\n",
      "Validation Acc(%)= 73.33333333333333\n",
      "Running Epoch:37\n"
     ]
    },
    {
     "name": "stderr",
     "output_type": "stream",
     "text": [
      "Epoch 37 - Training: 100%|█████████████████████████████████████████████████████████████| 30/30 [00:00<00:00, 710.18it/s]\n"
     ]
    },
    {
     "name": "stdout",
     "output_type": "stream",
     "text": [
      "Training Loss= 0.5531954785188039\n",
      "Training Acc(%)= 74.16666666666667\n",
      "Validation Acc(%)= 76.66666666666667\n",
      "Running Epoch:38\n"
     ]
    },
    {
     "name": "stderr",
     "output_type": "stream",
     "text": [
      "Epoch 38 - Training: 100%|█████████████████████████████████████████████████████████████| 30/30 [00:00<00:00, 660.37it/s]\n"
     ]
    },
    {
     "name": "stdout",
     "output_type": "stream",
     "text": [
      "Training Loss= 0.5381394545237224\n",
      "Training Acc(%)= 76.66666666666667\n",
      "Validation Acc(%)= 73.33333333333333\n",
      "Running Epoch:39\n"
     ]
    },
    {
     "name": "stderr",
     "output_type": "stream",
     "text": [
      "Epoch 39 - Training: 100%|█████████████████████████████████████████████████████████████| 30/30 [00:00<00:00, 689.64it/s]\n"
     ]
    },
    {
     "name": "stdout",
     "output_type": "stream",
     "text": [
      "Training Loss= 0.5292737871408463\n",
      "Training Acc(%)= 79.16666666666666\n",
      "Validation Acc(%)= 76.66666666666667\n",
      "Running Epoch:40\n"
     ]
    },
    {
     "name": "stderr",
     "output_type": "stream",
     "text": [
      "Epoch 40 - Training: 100%|█████████████████████████████████████████████████████████████| 30/30 [00:00<00:00, 716.71it/s]\n"
     ]
    },
    {
     "name": "stdout",
     "output_type": "stream",
     "text": [
      "Training Loss= 0.5480679829915365\n",
      "Training Acc(%)= 75.0\n",
      "Validation Acc(%)= 80.0\n",
      "Running Epoch:41\n"
     ]
    },
    {
     "name": "stderr",
     "output_type": "stream",
     "text": [
      "Epoch 41 - Training: 100%|█████████████████████████████████████████████████████████████| 30/30 [00:00<00:00, 701.32it/s]\n"
     ]
    },
    {
     "name": "stdout",
     "output_type": "stream",
     "text": [
      "Training Loss= 0.5321336050828298\n",
      "Training Acc(%)= 78.33333333333333\n",
      "Validation Acc(%)= 76.66666666666667\n",
      "Running Epoch:42\n"
     ]
    },
    {
     "name": "stderr",
     "output_type": "stream",
     "text": [
      "Epoch 42 - Training: 100%|█████████████████████████████████████████████████████████████| 30/30 [00:00<00:00, 703.92it/s]\n"
     ]
    },
    {
     "name": "stdout",
     "output_type": "stream",
     "text": [
      "Training Loss= 0.5468752145767212\n",
      "Training Acc(%)= 72.5\n",
      "Validation Acc(%)= 73.33333333333333\n",
      "Running Epoch:43\n"
     ]
    },
    {
     "name": "stderr",
     "output_type": "stream",
     "text": [
      "Epoch 43 - Training: 100%|█████████████████████████████████████████████████████████████| 30/30 [00:00<00:00, 741.63it/s]\n"
     ]
    },
    {
     "name": "stdout",
     "output_type": "stream",
     "text": [
      "Training Loss= 0.5369624962409337\n",
      "Training Acc(%)= 76.66666666666667\n",
      "Validation Acc(%)= 73.33333333333333\n",
      "Running Epoch:44\n"
     ]
    },
    {
     "name": "stderr",
     "output_type": "stream",
     "text": [
      "Epoch 44 - Training: 100%|█████████████████████████████████████████████████████████████| 30/30 [00:00<00:00, 759.26it/s]\n"
     ]
    },
    {
     "name": "stdout",
     "output_type": "stream",
     "text": [
      "Training Loss= 0.5287946671247482\n",
      "Training Acc(%)= 77.08333333333334\n",
      "Validation Acc(%)= 76.66666666666667\n",
      "Running Epoch:45\n"
     ]
    },
    {
     "name": "stderr",
     "output_type": "stream",
     "text": [
      "Epoch 45 - Training: 100%|█████████████████████████████████████████████████████████████| 30/30 [00:00<00:00, 737.12it/s]\n"
     ]
    },
    {
     "name": "stdout",
     "output_type": "stream",
     "text": [
      "Training Loss= 0.5329851150512696\n",
      "Training Acc(%)= 77.91666666666667\n",
      "Validation Acc(%)= 73.33333333333333\n",
      "Running Epoch:46\n"
     ]
    },
    {
     "name": "stderr",
     "output_type": "stream",
     "text": [
      "Epoch 46 - Training: 100%|█████████████████████████████████████████████████████████████| 30/30 [00:00<00:00, 756.48it/s]\n"
     ]
    },
    {
     "name": "stdout",
     "output_type": "stream",
     "text": [
      "Training Loss= 0.5264507114887238\n",
      "Training Acc(%)= 78.33333333333333\n",
      "Validation Acc(%)= 73.33333333333333\n",
      "Running Epoch:47\n"
     ]
    },
    {
     "name": "stderr",
     "output_type": "stream",
     "text": [
      "Epoch 47 - Training: 100%|█████████████████████████████████████████████████████████████| 30/30 [00:00<00:00, 739.25it/s]\n"
     ]
    },
    {
     "name": "stdout",
     "output_type": "stream",
     "text": [
      "Training Loss= 0.5212299793958663\n",
      "Training Acc(%)= 77.08333333333334\n",
      "Validation Acc(%)= 76.66666666666667\n",
      "Running Epoch:48\n"
     ]
    },
    {
     "name": "stderr",
     "output_type": "stream",
     "text": [
      "Epoch 48 - Training: 100%|█████████████████████████████████████████████████████████████| 30/30 [00:00<00:00, 725.53it/s]\n"
     ]
    },
    {
     "name": "stdout",
     "output_type": "stream",
     "text": [
      "Training Loss= 0.5279968609412511\n",
      "Training Acc(%)= 77.08333333333334\n",
      "Validation Acc(%)= 66.66666666666666\n",
      "Running Epoch:49\n"
     ]
    },
    {
     "name": "stderr",
     "output_type": "stream",
     "text": [
      "Epoch 49 - Training: 100%|█████████████████████████████████████████████████████████████| 30/30 [00:00<00:00, 744.06it/s]\n"
     ]
    },
    {
     "name": "stdout",
     "output_type": "stream",
     "text": [
      "Training Loss= 0.5376037389039994\n",
      "Training Acc(%)= 76.25\n",
      "Validation Acc(%)= 66.66666666666666\n",
      "Running Epoch:50\n"
     ]
    },
    {
     "name": "stderr",
     "output_type": "stream",
     "text": [
      "Epoch 50 - Training: 100%|█████████████████████████████████████████████████████████████| 30/30 [00:00<00:00, 723.20it/s]\n"
     ]
    },
    {
     "name": "stdout",
     "output_type": "stream",
     "text": [
      "Training Loss= 0.533801888426145\n",
      "Training Acc(%)= 77.08333333333334\n",
      "Validation Acc(%)= 66.66666666666666\n",
      "Running Epoch:51\n"
     ]
    },
    {
     "name": "stderr",
     "output_type": "stream",
     "text": [
      "Epoch 51 - Training: 100%|█████████████████████████████████████████████████████████████| 30/30 [00:00<00:00, 727.45it/s]\n"
     ]
    },
    {
     "name": "stdout",
     "output_type": "stream",
     "text": [
      "Training Loss= 0.5381336241960526\n",
      "Training Acc(%)= 77.5\n",
      "Validation Acc(%)= 76.66666666666667\n",
      "Running Epoch:52\n"
     ]
    },
    {
     "name": "stderr",
     "output_type": "stream",
     "text": [
      "Epoch 52 - Training: 100%|█████████████████████████████████████████████████████████████| 30/30 [00:00<00:00, 765.67it/s]\n"
     ]
    },
    {
     "name": "stdout",
     "output_type": "stream",
     "text": [
      "Training Loss= 0.508196743329366\n",
      "Training Acc(%)= 81.25\n",
      "Validation Acc(%)= 66.66666666666666\n",
      "Running Epoch:53\n"
     ]
    },
    {
     "name": "stderr",
     "output_type": "stream",
     "text": [
      "Epoch 53 - Training: 100%|█████████████████████████████████████████████████████████████| 30/30 [00:00<00:00, 723.26it/s]\n"
     ]
    },
    {
     "name": "stdout",
     "output_type": "stream",
     "text": [
      "Training Loss= 0.5190163801113764\n",
      "Training Acc(%)= 78.75\n",
      "Validation Acc(%)= 66.66666666666666\n",
      "Running Epoch:54\n"
     ]
    },
    {
     "name": "stderr",
     "output_type": "stream",
     "text": [
      "Epoch 54 - Training: 100%|█████████████████████████████████████████████████████████████| 30/30 [00:00<00:00, 766.23it/s]\n"
     ]
    },
    {
     "name": "stdout",
     "output_type": "stream",
     "text": [
      "Training Loss= 0.5178961704174677\n",
      "Training Acc(%)= 77.91666666666667\n",
      "Validation Acc(%)= 66.66666666666666\n",
      "Running Epoch:55\n"
     ]
    },
    {
     "name": "stderr",
     "output_type": "stream",
     "text": [
      "Epoch 55 - Training: 100%|█████████████████████████████████████████████████████████████| 30/30 [00:00<00:00, 703.62it/s]\n"
     ]
    },
    {
     "name": "stdout",
     "output_type": "stream",
     "text": [
      "Training Loss= 0.5145755271116893\n",
      "Training Acc(%)= 79.16666666666666\n",
      "Validation Acc(%)= 66.66666666666666\n",
      "Running Epoch:56\n"
     ]
    },
    {
     "name": "stderr",
     "output_type": "stream",
     "text": [
      "Epoch 56 - Training: 100%|█████████████████████████████████████████████████████████████| 30/30 [00:00<00:00, 724.33it/s]\n"
     ]
    },
    {
     "name": "stdout",
     "output_type": "stream",
     "text": [
      "Training Loss= 0.5313686947027842\n",
      "Training Acc(%)= 76.66666666666667\n",
      "Validation Acc(%)= 66.66666666666666\n",
      "Running Epoch:57\n"
     ]
    },
    {
     "name": "stderr",
     "output_type": "stream",
     "text": [
      "Epoch 57 - Training: 100%|█████████████████████████████████████████████████████████████| 30/30 [00:00<00:00, 768.13it/s]\n"
     ]
    },
    {
     "name": "stdout",
     "output_type": "stream",
     "text": [
      "Training Loss= 0.5307300080855687\n",
      "Training Acc(%)= 75.83333333333333\n",
      "Validation Acc(%)= 66.66666666666666\n",
      "Running Epoch:58\n"
     ]
    },
    {
     "name": "stderr",
     "output_type": "stream",
     "text": [
      "Epoch 58 - Training: 100%|█████████████████████████████████████████████████████████████| 30/30 [00:00<00:00, 718.72it/s]\n"
     ]
    },
    {
     "name": "stdout",
     "output_type": "stream",
     "text": [
      "Training Loss= 0.5032199323177338\n",
      "Training Acc(%)= 81.25\n",
      "Validation Acc(%)= 66.66666666666666\n",
      "Running Epoch:59\n"
     ]
    },
    {
     "name": "stderr",
     "output_type": "stream",
     "text": [
      "Epoch 59 - Training: 100%|█████████████████████████████████████████████████████████████| 30/30 [00:00<00:00, 703.46it/s]\n"
     ]
    },
    {
     "name": "stdout",
     "output_type": "stream",
     "text": [
      "Training Loss= 0.5031445225079855\n",
      "Training Acc(%)= 81.66666666666667\n",
      "Validation Acc(%)= 66.66666666666666\n",
      "Running Epoch:60\n"
     ]
    },
    {
     "name": "stderr",
     "output_type": "stream",
     "text": [
      "Epoch 60 - Training: 100%|█████████████████████████████████████████████████████████████| 30/30 [00:00<00:00, 735.77it/s]\n"
     ]
    },
    {
     "name": "stdout",
     "output_type": "stream",
     "text": [
      "Training Loss= 0.5248161792755127\n",
      "Training Acc(%)= 76.66666666666667\n",
      "Validation Acc(%)= 63.33333333333333\n",
      "Running Epoch:61\n"
     ]
    },
    {
     "name": "stderr",
     "output_type": "stream",
     "text": [
      "Epoch 61 - Training: 100%|█████████████████████████████████████████████████████████████| 30/30 [00:00<00:00, 753.27it/s]\n"
     ]
    },
    {
     "name": "stdout",
     "output_type": "stream",
     "text": [
      "Training Loss= 0.506699322660764\n",
      "Training Acc(%)= 77.91666666666667\n",
      "Validation Acc(%)= 66.66666666666666\n",
      "Running Epoch:62\n"
     ]
    },
    {
     "name": "stderr",
     "output_type": "stream",
     "text": [
      "Epoch 62 - Training: 100%|█████████████████████████████████████████████████████████████| 30/30 [00:00<00:00, 743.07it/s]\n"
     ]
    },
    {
     "name": "stdout",
     "output_type": "stream",
     "text": [
      "Training Loss= 0.5113932500282924\n",
      "Training Acc(%)= 79.58333333333333\n",
      "Validation Acc(%)= 70.0\n",
      "Running Epoch:63\n"
     ]
    },
    {
     "name": "stderr",
     "output_type": "stream",
     "text": [
      "Epoch 63 - Training: 100%|█████████████████████████████████████████████████████████████| 30/30 [00:00<00:00, 752.17it/s]\n"
     ]
    },
    {
     "name": "stdout",
     "output_type": "stream",
     "text": [
      "Training Loss= 0.5095983942349752\n",
      "Training Acc(%)= 78.33333333333333\n",
      "Validation Acc(%)= 66.66666666666666\n",
      "Running Epoch:64\n"
     ]
    },
    {
     "name": "stderr",
     "output_type": "stream",
     "text": [
      "Epoch 64 - Training: 100%|█████████████████████████████████████████████████████████████| 30/30 [00:00<00:00, 706.13it/s]\n"
     ]
    },
    {
     "name": "stdout",
     "output_type": "stream",
     "text": [
      "Training Loss= 0.5112681319316228\n",
      "Training Acc(%)= 78.33333333333333\n",
      "Validation Acc(%)= 70.0\n",
      "Running Epoch:65\n"
     ]
    },
    {
     "name": "stderr",
     "output_type": "stream",
     "text": [
      "Epoch 65 - Training: 100%|█████████████████████████████████████████████████████████████| 30/30 [00:00<00:00, 710.92it/s]\n"
     ]
    },
    {
     "name": "stdout",
     "output_type": "stream",
     "text": [
      "Training Loss= 0.5052590330441793\n",
      "Training Acc(%)= 81.66666666666667\n",
      "Validation Acc(%)= 70.0\n",
      "Running Epoch:66\n"
     ]
    },
    {
     "name": "stderr",
     "output_type": "stream",
     "text": [
      "Epoch 66 - Training: 100%|█████████████████████████████████████████████████████████████| 30/30 [00:00<00:00, 737.59it/s]\n"
     ]
    },
    {
     "name": "stdout",
     "output_type": "stream",
     "text": [
      "Training Loss= 0.5060928940773011\n",
      "Training Acc(%)= 80.41666666666667\n",
      "Validation Acc(%)= 70.0\n",
      "Running Epoch:67\n"
     ]
    },
    {
     "name": "stderr",
     "output_type": "stream",
     "text": [
      "Epoch 67 - Training: 100%|█████████████████████████████████████████████████████████████| 30/30 [00:00<00:00, 747.22it/s]\n"
     ]
    },
    {
     "name": "stdout",
     "output_type": "stream",
     "text": [
      "Training Loss= 0.49754174749056496\n",
      "Training Acc(%)= 81.25\n",
      "Validation Acc(%)= 70.0\n",
      "Running Epoch:68\n"
     ]
    },
    {
     "name": "stderr",
     "output_type": "stream",
     "text": [
      "Epoch 68 - Training: 100%|█████████████████████████████████████████████████████████████| 30/30 [00:00<00:00, 720.38it/s]\n"
     ]
    },
    {
     "name": "stdout",
     "output_type": "stream",
     "text": [
      "Training Loss= 0.5029865483442942\n",
      "Training Acc(%)= 80.83333333333333\n",
      "Validation Acc(%)= 70.0\n",
      "Running Epoch:69\n"
     ]
    },
    {
     "name": "stderr",
     "output_type": "stream",
     "text": [
      "Epoch 69 - Training: 100%|█████████████████████████████████████████████████████████████| 30/30 [00:00<00:00, 747.35it/s]\n"
     ]
    },
    {
     "name": "stdout",
     "output_type": "stream",
     "text": [
      "Training Loss= 0.5082927783330281\n",
      "Training Acc(%)= 80.41666666666667\n",
      "Validation Acc(%)= 66.66666666666666\n",
      "Running Epoch:70\n"
     ]
    },
    {
     "name": "stderr",
     "output_type": "stream",
     "text": [
      "Epoch 70 - Training: 100%|█████████████████████████████████████████████████████████████| 30/30 [00:00<00:00, 748.72it/s]\n"
     ]
    },
    {
     "name": "stdout",
     "output_type": "stream",
     "text": [
      "Training Loss= 0.5110501140356064\n",
      "Training Acc(%)= 78.75\n",
      "Validation Acc(%)= 66.66666666666666\n",
      "Running Epoch:71\n"
     ]
    },
    {
     "name": "stderr",
     "output_type": "stream",
     "text": [
      "Epoch 71 - Training: 100%|█████████████████████████████████████████████████████████████| 30/30 [00:00<00:00, 801.20it/s]\n"
     ]
    },
    {
     "name": "stdout",
     "output_type": "stream",
     "text": [
      "Training Loss= 0.4845133145650228\n",
      "Training Acc(%)= 81.25\n",
      "Validation Acc(%)= 70.0\n",
      "Running Epoch:72\n"
     ]
    },
    {
     "name": "stderr",
     "output_type": "stream",
     "text": [
      "Epoch 72 - Training: 100%|█████████████████████████████████████████████████████████████| 30/30 [00:00<00:00, 745.64it/s]\n"
     ]
    },
    {
     "name": "stdout",
     "output_type": "stream",
     "text": [
      "Training Loss= 0.5002807537714641\n",
      "Training Acc(%)= 80.83333333333333\n",
      "Validation Acc(%)= 70.0\n",
      "Running Epoch:73\n"
     ]
    },
    {
     "name": "stderr",
     "output_type": "stream",
     "text": [
      "Epoch 73 - Training: 100%|█████████████████████████████████████████████████████████████| 30/30 [00:00<00:00, 729.05it/s]\n"
     ]
    },
    {
     "name": "stdout",
     "output_type": "stream",
     "text": [
      "Training Loss= 0.49411013424396516\n",
      "Training Acc(%)= 81.25\n",
      "Validation Acc(%)= 66.66666666666666\n",
      "Running Epoch:74\n"
     ]
    },
    {
     "name": "stderr",
     "output_type": "stream",
     "text": [
      "Epoch 74 - Training: 100%|█████████████████████████████████████████████████████████████| 30/30 [00:00<00:00, 678.91it/s]\n"
     ]
    },
    {
     "name": "stdout",
     "output_type": "stream",
     "text": [
      "Training Loss= 0.5089822093645732\n",
      "Training Acc(%)= 80.0\n",
      "Validation Acc(%)= 70.0\n",
      "Running Epoch:75\n"
     ]
    },
    {
     "name": "stderr",
     "output_type": "stream",
     "text": [
      "Epoch 75 - Training: 100%|█████████████████████████████████████████████████████████████| 30/30 [00:00<00:00, 698.02it/s]\n"
     ]
    },
    {
     "name": "stdout",
     "output_type": "stream",
     "text": [
      "Training Loss= 0.4999781092007955\n",
      "Training Acc(%)= 79.58333333333333\n",
      "Validation Acc(%)= 70.0\n",
      "Running Epoch:76\n"
     ]
    },
    {
     "name": "stderr",
     "output_type": "stream",
     "text": [
      "Epoch 76 - Training: 100%|█████████████████████████████████████████████████████████████| 30/30 [00:00<00:00, 657.37it/s]\n"
     ]
    },
    {
     "name": "stdout",
     "output_type": "stream",
     "text": [
      "Training Loss= 0.489425328373909\n",
      "Training Acc(%)= 82.5\n",
      "Validation Acc(%)= 66.66666666666666\n",
      "Running Epoch:77\n"
     ]
    },
    {
     "name": "stderr",
     "output_type": "stream",
     "text": [
      "Epoch 77 - Training: 100%|█████████████████████████████████████████████████████████████| 30/30 [00:00<00:00, 713.06it/s]\n"
     ]
    },
    {
     "name": "stdout",
     "output_type": "stream",
     "text": [
      "Training Loss= 0.48832973341147107\n",
      "Training Acc(%)= 82.91666666666667\n",
      "Validation Acc(%)= 66.66666666666666\n",
      "Running Epoch:78\n"
     ]
    },
    {
     "name": "stderr",
     "output_type": "stream",
     "text": [
      "Epoch 78 - Training: 100%|█████████████████████████████████████████████████████████████| 30/30 [00:00<00:00, 679.32it/s]\n"
     ]
    },
    {
     "name": "stdout",
     "output_type": "stream",
     "text": [
      "Training Loss= 0.5018040041128794\n",
      "Training Acc(%)= 81.25\n",
      "Validation Acc(%)= 63.33333333333333\n",
      "Running Epoch:79\n"
     ]
    },
    {
     "name": "stderr",
     "output_type": "stream",
     "text": [
      "Epoch 79 - Training: 100%|█████████████████████████████████████████████████████████████| 30/30 [00:00<00:00, 648.02it/s]\n"
     ]
    },
    {
     "name": "stdout",
     "output_type": "stream",
     "text": [
      "Training Loss= 0.49307065705458325\n",
      "Training Acc(%)= 81.25\n",
      "Validation Acc(%)= 63.33333333333333\n",
      "Running Epoch:80\n"
     ]
    },
    {
     "name": "stderr",
     "output_type": "stream",
     "text": [
      "Epoch 80 - Training: 100%|█████████████████████████████████████████████████████████████| 30/30 [00:00<00:00, 728.49it/s]\n"
     ]
    },
    {
     "name": "stdout",
     "output_type": "stream",
     "text": [
      "Training Loss= 0.48782057662804923\n",
      "Training Acc(%)= 82.5\n",
      "Validation Acc(%)= 63.33333333333333\n",
      "Running Epoch:81\n"
     ]
    },
    {
     "name": "stderr",
     "output_type": "stream",
     "text": [
      "Epoch 81 - Training: 100%|█████████████████████████████████████████████████████████████| 30/30 [00:00<00:00, 761.50it/s]\n"
     ]
    },
    {
     "name": "stdout",
     "output_type": "stream",
     "text": [
      "Training Loss= 0.4769730190436045\n",
      "Training Acc(%)= 84.16666666666667\n",
      "Validation Acc(%)= 66.66666666666666\n",
      "Running Epoch:82\n"
     ]
    },
    {
     "name": "stderr",
     "output_type": "stream",
     "text": [
      "Epoch 82 - Training: 100%|█████████████████████████████████████████████████████████████| 30/30 [00:00<00:00, 715.23it/s]\n"
     ]
    },
    {
     "name": "stdout",
     "output_type": "stream",
     "text": [
      "Training Loss= 0.4986276427904765\n",
      "Training Acc(%)= 81.25\n",
      "Validation Acc(%)= 66.66666666666666\n",
      "Running Epoch:83\n"
     ]
    },
    {
     "name": "stderr",
     "output_type": "stream",
     "text": [
      "Epoch 83 - Training: 100%|█████████████████████████████████████████████████████████████| 30/30 [00:00<00:00, 757.30it/s]\n"
     ]
    },
    {
     "name": "stdout",
     "output_type": "stream",
     "text": [
      "Training Loss= 0.49439220627148944\n",
      "Training Acc(%)= 80.83333333333333\n",
      "Validation Acc(%)= 66.66666666666666\n",
      "Running Epoch:84\n"
     ]
    },
    {
     "name": "stderr",
     "output_type": "stream",
     "text": [
      "Epoch 84 - Training: 100%|█████████████████████████████████████████████████████████████| 30/30 [00:00<00:00, 741.96it/s]\n"
     ]
    },
    {
     "name": "stdout",
     "output_type": "stream",
     "text": [
      "Training Loss= 0.48521141906579335\n",
      "Training Acc(%)= 82.91666666666667\n",
      "Validation Acc(%)= 66.66666666666666\n",
      "Running Epoch:85\n"
     ]
    },
    {
     "name": "stderr",
     "output_type": "stream",
     "text": [
      "Epoch 85 - Training: 100%|█████████████████████████████████████████████████████████████| 30/30 [00:00<00:00, 721.63it/s]\n"
     ]
    },
    {
     "name": "stdout",
     "output_type": "stream",
     "text": [
      "Training Loss= 0.4811743100484212\n",
      "Training Acc(%)= 83.75\n",
      "Validation Acc(%)= 63.33333333333333\n",
      "Running Epoch:86\n"
     ]
    },
    {
     "name": "stderr",
     "output_type": "stream",
     "text": [
      "Epoch 86 - Training: 100%|█████████████████████████████████████████████████████████████| 30/30 [00:00<00:00, 738.71it/s]\n"
     ]
    },
    {
     "name": "stdout",
     "output_type": "stream",
     "text": [
      "Training Loss= 0.4828265905380249\n",
      "Training Acc(%)= 82.91666666666667\n",
      "Validation Acc(%)= 63.33333333333333\n",
      "Running Epoch:87\n"
     ]
    },
    {
     "name": "stderr",
     "output_type": "stream",
     "text": [
      "Epoch 87 - Training: 100%|█████████████████████████████████████████████████████████████| 30/30 [00:00<00:00, 748.64it/s]\n"
     ]
    },
    {
     "name": "stdout",
     "output_type": "stream",
     "text": [
      "Training Loss= 0.4649526615937551\n",
      "Training Acc(%)= 85.0\n",
      "Validation Acc(%)= 63.33333333333333\n",
      "Running Epoch:88\n"
     ]
    },
    {
     "name": "stderr",
     "output_type": "stream",
     "text": [
      "Epoch 88 - Training: 100%|█████████████████████████████████████████████████████████████| 30/30 [00:00<00:00, 710.61it/s]\n"
     ]
    },
    {
     "name": "stdout",
     "output_type": "stream",
     "text": [
      "Training Loss= 0.47562411427497864\n",
      "Training Acc(%)= 83.75\n",
      "Validation Acc(%)= 66.66666666666666\n",
      "Running Epoch:89\n"
     ]
    },
    {
     "name": "stderr",
     "output_type": "stream",
     "text": [
      "Epoch 89 - Training: 100%|█████████████████████████████████████████████████████████████| 30/30 [00:00<00:00, 706.94it/s]\n"
     ]
    },
    {
     "name": "stdout",
     "output_type": "stream",
     "text": [
      "Training Loss= 0.4947057088216146\n",
      "Training Acc(%)= 83.75\n",
      "Validation Acc(%)= 63.33333333333333\n",
      "Running Epoch:90\n"
     ]
    },
    {
     "name": "stderr",
     "output_type": "stream",
     "text": [
      "Epoch 90 - Training: 100%|█████████████████████████████████████████████████████████████| 30/30 [00:00<00:00, 717.36it/s]\n"
     ]
    },
    {
     "name": "stdout",
     "output_type": "stream",
     "text": [
      "Training Loss= 0.4914574464162191\n",
      "Training Acc(%)= 81.66666666666667\n",
      "Validation Acc(%)= 63.33333333333333\n",
      "Running Epoch:91\n"
     ]
    },
    {
     "name": "stderr",
     "output_type": "stream",
     "text": [
      "Epoch 91 - Training: 100%|█████████████████████████████████████████████████████████████| 30/30 [00:00<00:00, 708.98it/s]\n"
     ]
    },
    {
     "name": "stdout",
     "output_type": "stream",
     "text": [
      "Training Loss= 0.46709500153859457\n",
      "Training Acc(%)= 85.83333333333333\n",
      "Validation Acc(%)= 63.33333333333333\n",
      "Running Epoch:92\n"
     ]
    },
    {
     "name": "stderr",
     "output_type": "stream",
     "text": [
      "Epoch 92 - Training: 100%|█████████████████████████████████████████████████████████████| 30/30 [00:00<00:00, 663.13it/s]\n"
     ]
    },
    {
     "name": "stdout",
     "output_type": "stream",
     "text": [
      "Training Loss= 0.4680173933506012\n",
      "Training Acc(%)= 84.58333333333333\n",
      "Validation Acc(%)= 63.33333333333333\n",
      "Running Epoch:93\n"
     ]
    },
    {
     "name": "stderr",
     "output_type": "stream",
     "text": [
      "Epoch 93 - Training: 100%|█████████████████████████████████████████████████████████████| 30/30 [00:00<00:00, 618.84it/s]\n"
     ]
    },
    {
     "name": "stdout",
     "output_type": "stream",
     "text": [
      "Training Loss= 0.4782083104054133\n",
      "Training Acc(%)= 83.75\n",
      "Validation Acc(%)= 66.66666666666666\n",
      "Running Epoch:94\n"
     ]
    },
    {
     "name": "stderr",
     "output_type": "stream",
     "text": [
      "Epoch 94 - Training: 100%|█████████████████████████████████████████████████████████████| 30/30 [00:00<00:00, 699.99it/s]\n"
     ]
    },
    {
     "name": "stdout",
     "output_type": "stream",
     "text": [
      "Training Loss= 0.4973990927139918\n",
      "Training Acc(%)= 80.41666666666667\n",
      "Validation Acc(%)= 66.66666666666666\n",
      "Running Epoch:95\n"
     ]
    },
    {
     "name": "stderr",
     "output_type": "stream",
     "text": [
      "Epoch 95 - Training: 100%|█████████████████████████████████████████████████████████████| 30/30 [00:00<00:00, 749.69it/s]\n"
     ]
    },
    {
     "name": "stdout",
     "output_type": "stream",
     "text": [
      "Training Loss= 0.4943828364213308\n",
      "Training Acc(%)= 81.66666666666667\n",
      "Validation Acc(%)= 66.66666666666666\n",
      "Running Epoch:96\n"
     ]
    },
    {
     "name": "stderr",
     "output_type": "stream",
     "text": [
      "Epoch 96 - Training: 100%|█████████████████████████████████████████████████████████████| 30/30 [00:00<00:00, 757.46it/s]\n"
     ]
    },
    {
     "name": "stdout",
     "output_type": "stream",
     "text": [
      "Training Loss= 0.4890976349512736\n",
      "Training Acc(%)= 82.08333333333333\n",
      "Validation Acc(%)= 66.66666666666666\n",
      "Running Epoch:97\n"
     ]
    },
    {
     "name": "stderr",
     "output_type": "stream",
     "text": [
      "Epoch 97 - Training: 100%|█████████████████████████████████████████████████████████████| 30/30 [00:00<00:00, 730.89it/s]\n"
     ]
    },
    {
     "name": "stdout",
     "output_type": "stream",
     "text": [
      "Training Loss= 0.4818654050429662\n",
      "Training Acc(%)= 82.91666666666667\n",
      "Validation Acc(%)= 63.33333333333333\n",
      "Running Epoch:98\n"
     ]
    },
    {
     "name": "stderr",
     "output_type": "stream",
     "text": [
      "Epoch 98 - Training: 100%|█████████████████████████████████████████████████████████████| 30/30 [00:00<00:00, 666.21it/s]\n"
     ]
    },
    {
     "name": "stdout",
     "output_type": "stream",
     "text": [
      "Training Loss= 0.4807056387265523\n",
      "Training Acc(%)= 83.75\n",
      "Validation Acc(%)= 63.33333333333333\n",
      "Running Epoch:99\n"
     ]
    },
    {
     "name": "stderr",
     "output_type": "stream",
     "text": [
      "Epoch 99 - Training: 100%|█████████████████████████████████████████████████████████████| 30/30 [00:00<00:00, 644.73it/s]\n"
     ]
    },
    {
     "name": "stdout",
     "output_type": "stream",
     "text": [
      "Training Loss= 0.48598387638727825\n",
      "Training Acc(%)= 81.25\n",
      "Validation Acc(%)= 63.33333333333333\n",
      "Running Epoch:100\n"
     ]
    },
    {
     "name": "stderr",
     "output_type": "stream",
     "text": [
      "Epoch 100 - Training: 100%|████████████████████████████████████████████████████████████| 30/30 [00:00<00:00, 654.76it/s]\n"
     ]
    },
    {
     "name": "stdout",
     "output_type": "stream",
     "text": [
      "Training Loss= 0.4772352268298467\n",
      "Training Acc(%)= 83.33333333333334\n",
      "Validation Acc(%)= 66.66666666666666\n",
      "Running Epoch:101\n"
     ]
    },
    {
     "name": "stderr",
     "output_type": "stream",
     "text": [
      "Epoch 101 - Training: 100%|████████████████████████████████████████████████████████████| 30/30 [00:00<00:00, 682.30it/s]\n"
     ]
    },
    {
     "name": "stdout",
     "output_type": "stream",
     "text": [
      "Training Loss= 0.4750733812650045\n",
      "Training Acc(%)= 85.0\n",
      "Validation Acc(%)= 66.66666666666666\n",
      "Running Epoch:102\n"
     ]
    },
    {
     "name": "stderr",
     "output_type": "stream",
     "text": [
      "Epoch 102 - Training: 100%|████████████████████████████████████████████████████████████| 30/30 [00:00<00:00, 733.85it/s]\n"
     ]
    },
    {
     "name": "stdout",
     "output_type": "stream",
     "text": [
      "Training Loss= 0.47024933298428856\n",
      "Training Acc(%)= 84.16666666666667\n",
      "Validation Acc(%)= 63.33333333333333\n",
      "Running Epoch:103\n"
     ]
    },
    {
     "name": "stderr",
     "output_type": "stream",
     "text": [
      "Epoch 103 - Training: 100%|████████████████████████████████████████████████████████████| 30/30 [00:00<00:00, 760.83it/s]\n"
     ]
    },
    {
     "name": "stdout",
     "output_type": "stream",
     "text": [
      "Training Loss= 0.4719184547662735\n",
      "Training Acc(%)= 83.75\n",
      "Validation Acc(%)= 63.33333333333333\n",
      "Running Epoch:104\n"
     ]
    },
    {
     "name": "stderr",
     "output_type": "stream",
     "text": [
      "Epoch 104 - Training: 100%|████████████████████████████████████████████████████████████| 30/30 [00:00<00:00, 778.24it/s]\n"
     ]
    },
    {
     "name": "stdout",
     "output_type": "stream",
     "text": [
      "Training Loss= 0.4752738654613495\n",
      "Training Acc(%)= 84.16666666666667\n",
      "Validation Acc(%)= 63.33333333333333\n",
      "Running Epoch:105\n"
     ]
    },
    {
     "name": "stderr",
     "output_type": "stream",
     "text": [
      "Epoch 105 - Training: 100%|████████████████████████████████████████████████████████████| 30/30 [00:00<00:00, 748.30it/s]\n"
     ]
    },
    {
     "name": "stdout",
     "output_type": "stream",
     "text": [
      "Training Loss= 0.48309134542942045\n",
      "Training Acc(%)= 83.75\n",
      "Validation Acc(%)= 63.33333333333333\n",
      "Running Epoch:106\n"
     ]
    },
    {
     "name": "stderr",
     "output_type": "stream",
     "text": [
      "Epoch 106 - Training: 100%|████████████████████████████████████████████████████████████| 30/30 [00:00<00:00, 762.69it/s]\n"
     ]
    },
    {
     "name": "stdout",
     "output_type": "stream",
     "text": [
      "Training Loss= 0.5045711139837901\n",
      "Training Acc(%)= 79.58333333333333\n",
      "Validation Acc(%)= 63.33333333333333\n",
      "Running Epoch:107\n"
     ]
    },
    {
     "name": "stderr",
     "output_type": "stream",
     "text": [
      "Epoch 107 - Training: 100%|████████████████████████████████████████████████████████████| 30/30 [00:00<00:00, 688.91it/s]\n"
     ]
    },
    {
     "name": "stdout",
     "output_type": "stream",
     "text": [
      "Training Loss= 0.47046877443790436\n",
      "Training Acc(%)= 83.33333333333334\n",
      "Validation Acc(%)= 66.66666666666666\n",
      "Running Epoch:108\n"
     ]
    },
    {
     "name": "stderr",
     "output_type": "stream",
     "text": [
      "Epoch 108 - Training: 100%|████████████████████████████████████████████████████████████| 30/30 [00:00<00:00, 718.95it/s]\n"
     ]
    },
    {
     "name": "stdout",
     "output_type": "stream",
     "text": [
      "Training Loss= 0.48888006110986076\n",
      "Training Acc(%)= 81.25\n",
      "Validation Acc(%)= 63.33333333333333\n",
      "Running Epoch:109\n"
     ]
    },
    {
     "name": "stderr",
     "output_type": "stream",
     "text": [
      "Epoch 109 - Training: 100%|████████████████████████████████████████████████████████████| 30/30 [00:00<00:00, 717.42it/s]\n"
     ]
    },
    {
     "name": "stdout",
     "output_type": "stream",
     "text": [
      "Training Loss= 0.4769622425238291\n",
      "Training Acc(%)= 82.5\n",
      "Validation Acc(%)= 70.0\n",
      "Running Epoch:110\n"
     ]
    },
    {
     "name": "stderr",
     "output_type": "stream",
     "text": [
      "Epoch 110 - Training: 100%|████████████████████████████████████████████████████████████| 30/30 [00:00<00:00, 764.74it/s]\n"
     ]
    },
    {
     "name": "stdout",
     "output_type": "stream",
     "text": [
      "Training Loss= 0.46151934067408246\n",
      "Training Acc(%)= 84.58333333333333\n",
      "Validation Acc(%)= 66.66666666666666\n",
      "Running Epoch:111\n"
     ]
    },
    {
     "name": "stderr",
     "output_type": "stream",
     "text": [
      "Epoch 111 - Training: 100%|████████████████████████████████████████████████████████████| 30/30 [00:00<00:00, 720.24it/s]\n"
     ]
    },
    {
     "name": "stdout",
     "output_type": "stream",
     "text": [
      "Training Loss= 0.47359559237957\n",
      "Training Acc(%)= 82.91666666666667\n",
      "Validation Acc(%)= 63.33333333333333\n",
      "Running Epoch:112\n"
     ]
    },
    {
     "name": "stderr",
     "output_type": "stream",
     "text": [
      "Epoch 112 - Training: 100%|████████████████████████████████████████████████████████████| 30/30 [00:00<00:00, 737.28it/s]\n"
     ]
    },
    {
     "name": "stdout",
     "output_type": "stream",
     "text": [
      "Training Loss= 0.4672775983810425\n",
      "Training Acc(%)= 85.0\n",
      "Validation Acc(%)= 66.66666666666666\n",
      "Running Epoch:113\n"
     ]
    },
    {
     "name": "stderr",
     "output_type": "stream",
     "text": [
      "Epoch 113 - Training: 100%|████████████████████████████████████████████████████████████| 30/30 [00:00<00:00, 601.98it/s]\n"
     ]
    },
    {
     "name": "stdout",
     "output_type": "stream",
     "text": [
      "Training Loss= 0.46564778288205466\n",
      "Training Acc(%)= 84.58333333333333\n",
      "Validation Acc(%)= 66.66666666666666\n",
      "Running Epoch:114\n"
     ]
    },
    {
     "name": "stderr",
     "output_type": "stream",
     "text": [
      "Epoch 114 - Training: 100%|████████████████████████████████████████████████████████████| 30/30 [00:00<00:00, 582.30it/s]\n"
     ]
    },
    {
     "name": "stdout",
     "output_type": "stream",
     "text": [
      "Training Loss= 0.46781203349431355\n",
      "Training Acc(%)= 85.0\n",
      "Validation Acc(%)= 63.33333333333333\n",
      "Running Epoch:115\n"
     ]
    },
    {
     "name": "stderr",
     "output_type": "stream",
     "text": [
      "Epoch 115 - Training: 100%|████████████████████████████████████████████████████████████| 30/30 [00:00<00:00, 679.14it/s]\n"
     ]
    },
    {
     "name": "stdout",
     "output_type": "stream",
     "text": [
      "Training Loss= 0.44894242386023203\n",
      "Training Acc(%)= 85.83333333333333\n",
      "Validation Acc(%)= 66.66666666666666\n",
      "Running Epoch:116\n"
     ]
    },
    {
     "name": "stderr",
     "output_type": "stream",
     "text": [
      "Epoch 116 - Training: 100%|████████████████████████████████████████████████████████████| 30/30 [00:00<00:00, 748.27it/s]\n"
     ]
    },
    {
     "name": "stdout",
     "output_type": "stream",
     "text": [
      "Training Loss= 0.4705990453561147\n",
      "Training Acc(%)= 84.16666666666667\n",
      "Validation Acc(%)= 63.33333333333333\n",
      "Running Epoch:117\n"
     ]
    },
    {
     "name": "stderr",
     "output_type": "stream",
     "text": [
      "Epoch 117 - Training: 100%|████████████████████████████████████████████████████████████| 30/30 [00:00<00:00, 721.07it/s]\n"
     ]
    },
    {
     "name": "stdout",
     "output_type": "stream",
     "text": [
      "Training Loss= 0.4633029967546463\n",
      "Training Acc(%)= 85.0\n",
      "Validation Acc(%)= 66.66666666666666\n",
      "Running Epoch:118\n"
     ]
    },
    {
     "name": "stderr",
     "output_type": "stream",
     "text": [
      "Epoch 118 - Training: 100%|████████████████████████████████████████████████████████████| 30/30 [00:00<00:00, 712.26it/s]\n"
     ]
    },
    {
     "name": "stdout",
     "output_type": "stream",
     "text": [
      "Training Loss= 0.4838021198908488\n",
      "Training Acc(%)= 81.25\n",
      "Validation Acc(%)= 63.33333333333333\n",
      "Running Epoch:119\n"
     ]
    },
    {
     "name": "stderr",
     "output_type": "stream",
     "text": [
      "Epoch 119 - Training: 100%|████████████████████████████████████████████████████████████| 30/30 [00:00<00:00, 772.30it/s]\n"
     ]
    },
    {
     "name": "stdout",
     "output_type": "stream",
     "text": [
      "Training Loss= 0.48793282608191174\n",
      "Training Acc(%)= 81.25\n",
      "Validation Acc(%)= 63.33333333333333\n",
      "Running Epoch:120\n"
     ]
    },
    {
     "name": "stderr",
     "output_type": "stream",
     "text": [
      "Epoch 120 - Training: 100%|████████████████████████████████████████████████████████████| 30/30 [00:00<00:00, 752.73it/s]\n"
     ]
    },
    {
     "name": "stdout",
     "output_type": "stream",
     "text": [
      "Training Loss= 0.4556878536939621\n",
      "Training Acc(%)= 87.08333333333333\n",
      "Validation Acc(%)= 66.66666666666666\n",
      "Running Epoch:121\n"
     ]
    },
    {
     "name": "stderr",
     "output_type": "stream",
     "text": [
      "Epoch 121 - Training: 100%|████████████████████████████████████████████████████████████| 30/30 [00:00<00:00, 706.77it/s]\n"
     ]
    },
    {
     "name": "stdout",
     "output_type": "stream",
     "text": [
      "Training Loss= 0.467853585879008\n",
      "Training Acc(%)= 84.58333333333333\n",
      "Validation Acc(%)= 66.66666666666666\n",
      "Running Epoch:122\n"
     ]
    },
    {
     "name": "stderr",
     "output_type": "stream",
     "text": [
      "Epoch 122 - Training: 100%|████████████████████████████████████████████████████████████| 30/30 [00:00<00:00, 730.85it/s]\n"
     ]
    },
    {
     "name": "stdout",
     "output_type": "stream",
     "text": [
      "Training Loss= 0.46728002627690635\n",
      "Training Acc(%)= 85.41666666666666\n",
      "Validation Acc(%)= 66.66666666666666\n",
      "Running Epoch:123\n"
     ]
    },
    {
     "name": "stderr",
     "output_type": "stream",
     "text": [
      "Epoch 123 - Training: 100%|████████████████████████████████████████████████████████████| 30/30 [00:00<00:00, 729.75it/s]\n"
     ]
    },
    {
     "name": "stdout",
     "output_type": "stream",
     "text": [
      "Training Loss= 0.46422985196113586\n",
      "Training Acc(%)= 85.0\n",
      "Validation Acc(%)= 66.66666666666666\n",
      "Running Epoch:124\n"
     ]
    },
    {
     "name": "stderr",
     "output_type": "stream",
     "text": [
      "Epoch 124 - Training: 100%|████████████████████████████████████████████████████████████| 30/30 [00:00<00:00, 752.12it/s]\n"
     ]
    },
    {
     "name": "stdout",
     "output_type": "stream",
     "text": [
      "Training Loss= 0.45520210862159727\n",
      "Training Acc(%)= 85.41666666666666\n",
      "Validation Acc(%)= 66.66666666666666\n",
      "Running Epoch:125\n"
     ]
    },
    {
     "name": "stderr",
     "output_type": "stream",
     "text": [
      "Epoch 125 - Training: 100%|████████████████████████████████████████████████████████████| 30/30 [00:00<00:00, 758.56it/s]\n"
     ]
    },
    {
     "name": "stdout",
     "output_type": "stream",
     "text": [
      "Training Loss= 0.45895598928133646\n",
      "Training Acc(%)= 85.41666666666666\n",
      "Validation Acc(%)= 66.66666666666666\n",
      "Running Epoch:126\n"
     ]
    },
    {
     "name": "stderr",
     "output_type": "stream",
     "text": [
      "Epoch 126 - Training: 100%|████████████████████████████████████████████████████████████| 30/30 [00:00<00:00, 730.30it/s]\n"
     ]
    },
    {
     "name": "stdout",
     "output_type": "stream",
     "text": [
      "Training Loss= 0.4612271954615911\n",
      "Training Acc(%)= 84.16666666666667\n",
      "Validation Acc(%)= 66.66666666666666\n",
      "Running Epoch:127\n"
     ]
    },
    {
     "name": "stderr",
     "output_type": "stream",
     "text": [
      "Epoch 127 - Training: 100%|████████████████████████████████████████████████████████████| 30/30 [00:00<00:00, 785.39it/s]\n"
     ]
    },
    {
     "name": "stdout",
     "output_type": "stream",
     "text": [
      "Training Loss= 0.4663620968659719\n",
      "Training Acc(%)= 84.58333333333333\n",
      "Validation Acc(%)= 63.33333333333333\n",
      "Running Epoch:128\n"
     ]
    },
    {
     "name": "stderr",
     "output_type": "stream",
     "text": [
      "Epoch 128 - Training: 100%|████████████████████████████████████████████████████████████| 30/30 [00:00<00:00, 728.50it/s]\n"
     ]
    },
    {
     "name": "stdout",
     "output_type": "stream",
     "text": [
      "Training Loss= 0.466939714550972\n",
      "Training Acc(%)= 83.33333333333334\n",
      "Validation Acc(%)= 66.66666666666666\n",
      "Running Epoch:129\n"
     ]
    },
    {
     "name": "stderr",
     "output_type": "stream",
     "text": [
      "Epoch 129 - Training: 100%|████████████████████████████████████████████████████████████| 30/30 [00:00<00:00, 683.48it/s]\n"
     ]
    },
    {
     "name": "stdout",
     "output_type": "stream",
     "text": [
      "Training Loss= 0.4587483793497086\n",
      "Training Acc(%)= 85.0\n",
      "Validation Acc(%)= 70.0\n",
      "Running Epoch:130\n"
     ]
    },
    {
     "name": "stderr",
     "output_type": "stream",
     "text": [
      "Epoch 130 - Training: 100%|████████████████████████████████████████████████████████████| 30/30 [00:00<00:00, 733.07it/s]\n"
     ]
    },
    {
     "name": "stdout",
     "output_type": "stream",
     "text": [
      "Training Loss= 0.4698435664176941\n",
      "Training Acc(%)= 84.16666666666667\n",
      "Validation Acc(%)= 66.66666666666666\n",
      "Running Epoch:131\n"
     ]
    },
    {
     "name": "stderr",
     "output_type": "stream",
     "text": [
      "Epoch 131 - Training: 100%|████████████████████████████████████████████████████████████| 30/30 [00:00<00:00, 719.42it/s]\n"
     ]
    },
    {
     "name": "stdout",
     "output_type": "stream",
     "text": [
      "Training Loss= 0.46900405089060465\n",
      "Training Acc(%)= 83.75\n",
      "Validation Acc(%)= 66.66666666666666\n",
      "Running Epoch:132\n"
     ]
    },
    {
     "name": "stderr",
     "output_type": "stream",
     "text": [
      "Epoch 132 - Training: 100%|████████████████████████████████████████████████████████████| 30/30 [00:00<00:00, 728.73it/s]\n"
     ]
    },
    {
     "name": "stdout",
     "output_type": "stream",
     "text": [
      "Training Loss= 0.4532631168762843\n",
      "Training Acc(%)= 86.66666666666667\n",
      "Validation Acc(%)= 63.33333333333333\n",
      "Running Epoch:133\n"
     ]
    },
    {
     "name": "stderr",
     "output_type": "stream",
     "text": [
      "Epoch 133 - Training: 100%|████████████████████████████████████████████████████████████| 30/30 [00:00<00:00, 751.06it/s]\n"
     ]
    },
    {
     "name": "stdout",
     "output_type": "stream",
     "text": [
      "Training Loss= 0.4578749974568685\n",
      "Training Acc(%)= 85.0\n",
      "Validation Acc(%)= 63.33333333333333\n",
      "Running Epoch:134\n"
     ]
    },
    {
     "name": "stderr",
     "output_type": "stream",
     "text": [
      "Epoch 134 - Training: 100%|████████████████████████████████████████████████████████████| 30/30 [00:00<00:00, 753.14it/s]\n"
     ]
    },
    {
     "name": "stdout",
     "output_type": "stream",
     "text": [
      "Training Loss= 0.46377070049444835\n",
      "Training Acc(%)= 84.58333333333333\n",
      "Validation Acc(%)= 66.66666666666666\n",
      "Running Epoch:135\n"
     ]
    },
    {
     "name": "stderr",
     "output_type": "stream",
     "text": [
      "Epoch 135 - Training: 100%|████████████████████████████████████████████████████████████| 30/30 [00:00<00:00, 712.65it/s]\n"
     ]
    },
    {
     "name": "stdout",
     "output_type": "stream",
     "text": [
      "Training Loss= 0.4497629076242447\n",
      "Training Acc(%)= 86.25\n",
      "Validation Acc(%)= 63.33333333333333\n",
      "Running Epoch:136\n"
     ]
    },
    {
     "name": "stderr",
     "output_type": "stream",
     "text": [
      "Epoch 136 - Training: 100%|████████████████████████████████████████████████████████████| 30/30 [00:00<00:00, 757.42it/s]\n"
     ]
    },
    {
     "name": "stdout",
     "output_type": "stream",
     "text": [
      "Training Loss= 0.4588942925135295\n",
      "Training Acc(%)= 85.0\n",
      "Validation Acc(%)= 66.66666666666666\n",
      "Running Epoch:137\n"
     ]
    },
    {
     "name": "stderr",
     "output_type": "stream",
     "text": [
      "Epoch 137 - Training: 100%|████████████████████████████████████████████████████████████| 30/30 [00:00<00:00, 752.98it/s]\n"
     ]
    },
    {
     "name": "stdout",
     "output_type": "stream",
     "text": [
      "Training Loss= 0.44977968831857046\n",
      "Training Acc(%)= 86.25\n",
      "Validation Acc(%)= 66.66666666666666\n",
      "Running Epoch:138\n"
     ]
    },
    {
     "name": "stderr",
     "output_type": "stream",
     "text": [
      "Epoch 138 - Training: 100%|████████████████████████████████████████████████████████████| 30/30 [00:00<00:00, 672.71it/s]\n"
     ]
    },
    {
     "name": "stdout",
     "output_type": "stream",
     "text": [
      "Training Loss= 0.47085854212443035\n",
      "Training Acc(%)= 84.58333333333333\n",
      "Validation Acc(%)= 66.66666666666666\n",
      "Running Epoch:139\n"
     ]
    },
    {
     "name": "stderr",
     "output_type": "stream",
     "text": [
      "Epoch 139 - Training: 100%|████████████████████████████████████████████████████████████| 30/30 [00:00<00:00, 709.31it/s]\n"
     ]
    },
    {
     "name": "stdout",
     "output_type": "stream",
     "text": [
      "Training Loss= 0.44389394919077557\n",
      "Training Acc(%)= 85.41666666666666\n",
      "Validation Acc(%)= 63.33333333333333\n",
      "Running Epoch:140\n"
     ]
    },
    {
     "name": "stderr",
     "output_type": "stream",
     "text": [
      "Epoch 140 - Training: 100%|████████████████████████████████████████████████████████████| 30/30 [00:00<00:00, 751.34it/s]\n"
     ]
    },
    {
     "name": "stdout",
     "output_type": "stream",
     "text": [
      "Training Loss= 0.45693932672341664\n",
      "Training Acc(%)= 85.0\n",
      "Validation Acc(%)= 63.33333333333333\n",
      "Running Epoch:141\n"
     ]
    },
    {
     "name": "stderr",
     "output_type": "stream",
     "text": [
      "Epoch 141 - Training: 100%|████████████████████████████████████████████████████████████| 30/30 [00:00<00:00, 736.42it/s]\n"
     ]
    },
    {
     "name": "stdout",
     "output_type": "stream",
     "text": [
      "Training Loss= 0.44950388073921205\n",
      "Training Acc(%)= 87.5\n",
      "Validation Acc(%)= 66.66666666666666\n",
      "Running Epoch:142\n"
     ]
    },
    {
     "name": "stderr",
     "output_type": "stream",
     "text": [
      "Epoch 142 - Training: 100%|████████████████████████████████████████████████████████████| 30/30 [00:00<00:00, 750.13it/s]\n"
     ]
    },
    {
     "name": "stdout",
     "output_type": "stream",
     "text": [
      "Training Loss= 0.46437564492225647\n",
      "Training Acc(%)= 83.75\n",
      "Validation Acc(%)= 66.66666666666666\n",
      "Running Epoch:143\n"
     ]
    },
    {
     "name": "stderr",
     "output_type": "stream",
     "text": [
      "Epoch 143 - Training: 100%|████████████████████████████████████████████████████████████| 30/30 [00:00<00:00, 709.36it/s]\n"
     ]
    },
    {
     "name": "stdout",
     "output_type": "stream",
     "text": [
      "Training Loss= 0.45408306221167244\n",
      "Training Acc(%)= 85.0\n",
      "Validation Acc(%)= 66.66666666666666\n",
      "Running Epoch:144\n"
     ]
    },
    {
     "name": "stderr",
     "output_type": "stream",
     "text": [
      "Epoch 144 - Training: 100%|████████████████████████████████████████████████████████████| 30/30 [00:00<00:00, 785.48it/s]\n"
     ]
    },
    {
     "name": "stdout",
     "output_type": "stream",
     "text": [
      "Training Loss= 0.46419802407423655\n",
      "Training Acc(%)= 84.16666666666667\n",
      "Validation Acc(%)= 66.66666666666666\n",
      "Running Epoch:145\n"
     ]
    },
    {
     "name": "stderr",
     "output_type": "stream",
     "text": [
      "Epoch 145 - Training: 100%|████████████████████████████████████████████████████████████| 30/30 [00:00<00:00, 742.28it/s]\n"
     ]
    },
    {
     "name": "stdout",
     "output_type": "stream",
     "text": [
      "Training Loss= 0.4520147641499837\n",
      "Training Acc(%)= 85.0\n",
      "Validation Acc(%)= 66.66666666666666\n",
      "Running Epoch:146\n"
     ]
    },
    {
     "name": "stderr",
     "output_type": "stream",
     "text": [
      "Epoch 146 - Training: 100%|████████████████████████████████████████████████████████████| 30/30 [00:00<00:00, 752.63it/s]\n"
     ]
    },
    {
     "name": "stdout",
     "output_type": "stream",
     "text": [
      "Training Loss= 0.4712220162153244\n",
      "Training Acc(%)= 83.75\n",
      "Validation Acc(%)= 66.66666666666666\n",
      "Running Epoch:147\n"
     ]
    },
    {
     "name": "stderr",
     "output_type": "stream",
     "text": [
      "Epoch 147 - Training: 100%|████████████████████████████████████████████████████████████| 30/30 [00:00<00:00, 752.40it/s]\n"
     ]
    },
    {
     "name": "stdout",
     "output_type": "stream",
     "text": [
      "Training Loss= 0.4468259731928507\n",
      "Training Acc(%)= 87.5\n",
      "Validation Acc(%)= 63.33333333333333\n",
      "Running Epoch:148\n"
     ]
    },
    {
     "name": "stderr",
     "output_type": "stream",
     "text": [
      "Epoch 148 - Training: 100%|████████████████████████████████████████████████████████████| 30/30 [00:00<00:00, 745.69it/s]\n"
     ]
    },
    {
     "name": "stdout",
     "output_type": "stream",
     "text": [
      "Training Loss= 0.4500300198793411\n",
      "Training Acc(%)= 85.0\n",
      "Validation Acc(%)= 63.33333333333333\n",
      "Running Epoch:149\n"
     ]
    },
    {
     "name": "stderr",
     "output_type": "stream",
     "text": [
      "Epoch 149 - Training: 100%|████████████████████████████████████████████████████████████| 30/30 [00:00<00:00, 712.95it/s]\n"
     ]
    },
    {
     "name": "stdout",
     "output_type": "stream",
     "text": [
      "Training Loss= 0.4537721951802572\n",
      "Training Acc(%)= 85.41666666666666\n",
      "Validation Acc(%)= 66.66666666666666\n",
      "Running Epoch:150\n"
     ]
    },
    {
     "name": "stderr",
     "output_type": "stream",
     "text": [
      "Epoch 150 - Training: 100%|████████████████████████████████████████████████████████████| 30/30 [00:00<00:00, 752.18it/s]\n"
     ]
    },
    {
     "name": "stdout",
     "output_type": "stream",
     "text": [
      "Training Loss= 0.4576658676067988\n",
      "Training Acc(%)= 86.25\n",
      "Validation Acc(%)= 66.66666666666666\n",
      "Running Epoch:151\n"
     ]
    },
    {
     "name": "stderr",
     "output_type": "stream",
     "text": [
      "Epoch 151 - Training: 100%|████████████████████████████████████████████████████████████| 30/30 [00:00<00:00, 731.84it/s]\n"
     ]
    },
    {
     "name": "stdout",
     "output_type": "stream",
     "text": [
      "Training Loss= 0.46470100184281665\n",
      "Training Acc(%)= 84.16666666666667\n",
      "Validation Acc(%)= 66.66666666666666\n",
      "Running Epoch:152\n"
     ]
    },
    {
     "name": "stderr",
     "output_type": "stream",
     "text": [
      "Epoch 152 - Training: 100%|████████████████████████████████████████████████████████████| 30/30 [00:00<00:00, 719.22it/s]\n"
     ]
    },
    {
     "name": "stdout",
     "output_type": "stream",
     "text": [
      "Training Loss= 0.451580939690272\n",
      "Training Acc(%)= 85.83333333333333\n",
      "Validation Acc(%)= 66.66666666666666\n",
      "Running Epoch:153\n"
     ]
    },
    {
     "name": "stderr",
     "output_type": "stream",
     "text": [
      "Epoch 153 - Training: 100%|████████████████████████████████████████████████████████████| 30/30 [00:00<00:00, 706.91it/s]\n"
     ]
    },
    {
     "name": "stdout",
     "output_type": "stream",
     "text": [
      "Training Loss= 0.45469373762607573\n",
      "Training Acc(%)= 86.25\n",
      "Validation Acc(%)= 63.33333333333333\n",
      "Running Epoch:154\n"
     ]
    },
    {
     "name": "stderr",
     "output_type": "stream",
     "text": [
      "Epoch 154 - Training: 100%|████████████████████████████████████████████████████████████| 30/30 [00:00<00:00, 715.45it/s]\n"
     ]
    },
    {
     "name": "stdout",
     "output_type": "stream",
     "text": [
      "Training Loss= 0.4504651536544164\n",
      "Training Acc(%)= 87.08333333333333\n",
      "Validation Acc(%)= 66.66666666666666\n",
      "Running Epoch:155\n"
     ]
    },
    {
     "name": "stderr",
     "output_type": "stream",
     "text": [
      "Epoch 155 - Training: 100%|████████████████████████████████████████████████████████████| 30/30 [00:00<00:00, 698.91it/s]\n"
     ]
    },
    {
     "name": "stdout",
     "output_type": "stream",
     "text": [
      "Training Loss= 0.45960204005241395\n",
      "Training Acc(%)= 85.0\n",
      "Validation Acc(%)= 66.66666666666666\n",
      "Running Epoch:156\n"
     ]
    },
    {
     "name": "stderr",
     "output_type": "stream",
     "text": [
      "Epoch 156 - Training: 100%|████████████████████████████████████████████████████████████| 30/30 [00:00<00:00, 787.75it/s]\n"
     ]
    },
    {
     "name": "stdout",
     "output_type": "stream",
     "text": [
      "Training Loss= 0.45279056231180825\n",
      "Training Acc(%)= 85.83333333333333\n",
      "Validation Acc(%)= 63.33333333333333\n",
      "Running Epoch:157\n"
     ]
    },
    {
     "name": "stderr",
     "output_type": "stream",
     "text": [
      "Epoch 157 - Training: 100%|████████████████████████████████████████████████████████████| 30/30 [00:00<00:00, 683.30it/s]\n"
     ]
    },
    {
     "name": "stdout",
     "output_type": "stream",
     "text": [
      "Training Loss= 0.4595454196135203\n",
      "Training Acc(%)= 85.0\n",
      "Validation Acc(%)= 63.33333333333333\n",
      "Running Epoch:158\n"
     ]
    },
    {
     "name": "stderr",
     "output_type": "stream",
     "text": [
      "Epoch 158 - Training: 100%|████████████████████████████████████████████████████████████| 30/30 [00:00<00:00, 757.13it/s]\n"
     ]
    },
    {
     "name": "stdout",
     "output_type": "stream",
     "text": [
      "Training Loss= 0.4411415060361226\n",
      "Training Acc(%)= 87.08333333333333\n",
      "Validation Acc(%)= 63.33333333333333\n",
      "Running Epoch:159\n"
     ]
    },
    {
     "name": "stderr",
     "output_type": "stream",
     "text": [
      "Epoch 159 - Training: 100%|████████████████████████████████████████████████████████████| 30/30 [00:00<00:00, 673.04it/s]\n"
     ]
    },
    {
     "name": "stdout",
     "output_type": "stream",
     "text": [
      "Training Loss= 0.436287318666776\n",
      "Training Acc(%)= 87.91666666666667\n",
      "Validation Acc(%)= 66.66666666666666\n",
      "Running Epoch:160\n"
     ]
    },
    {
     "name": "stderr",
     "output_type": "stream",
     "text": [
      "Epoch 160 - Training: 100%|████████████████████████████████████████████████████████████| 30/30 [00:00<00:00, 799.20it/s]\n"
     ]
    },
    {
     "name": "stdout",
     "output_type": "stream",
     "text": [
      "Training Loss= 0.4483015845219294\n",
      "Training Acc(%)= 86.25\n",
      "Validation Acc(%)= 63.33333333333333\n",
      "Running Epoch:161\n"
     ]
    },
    {
     "name": "stderr",
     "output_type": "stream",
     "text": [
      "Epoch 161 - Training: 100%|████████████████████████████████████████████████████████████| 30/30 [00:00<00:00, 750.31it/s]\n"
     ]
    },
    {
     "name": "stdout",
     "output_type": "stream",
     "text": [
      "Training Loss= 0.46880282163619996\n",
      "Training Acc(%)= 82.91666666666667\n",
      "Validation Acc(%)= 66.66666666666666\n",
      "Running Epoch:162\n"
     ]
    },
    {
     "name": "stderr",
     "output_type": "stream",
     "text": [
      "Epoch 162 - Training: 100%|████████████████████████████████████████████████████████████| 30/30 [00:00<00:00, 703.69it/s]\n"
     ]
    },
    {
     "name": "stdout",
     "output_type": "stream",
     "text": [
      "Training Loss= 0.4488181620836258\n",
      "Training Acc(%)= 88.33333333333333\n",
      "Validation Acc(%)= 66.66666666666666\n",
      "Running Epoch:163\n"
     ]
    },
    {
     "name": "stderr",
     "output_type": "stream",
     "text": [
      "Epoch 163 - Training: 100%|████████████████████████████████████████████████████████████| 30/30 [00:00<00:00, 732.28it/s]\n"
     ]
    },
    {
     "name": "stdout",
     "output_type": "stream",
     "text": [
      "Training Loss= 0.44237835506598155\n",
      "Training Acc(%)= 87.08333333333333\n",
      "Validation Acc(%)= 66.66666666666666\n",
      "Running Epoch:164\n"
     ]
    },
    {
     "name": "stderr",
     "output_type": "stream",
     "text": [
      "Epoch 164 - Training: 100%|████████████████████████████████████████████████████████████| 30/30 [00:00<00:00, 783.84it/s]\n"
     ]
    },
    {
     "name": "stdout",
     "output_type": "stream",
     "text": [
      "Training Loss= 0.44351043105125426\n",
      "Training Acc(%)= 86.66666666666667\n",
      "Validation Acc(%)= 66.66666666666666\n",
      "Running Epoch:165\n"
     ]
    },
    {
     "name": "stderr",
     "output_type": "stream",
     "text": [
      "Epoch 165 - Training: 100%|████████████████████████████████████████████████████████████| 30/30 [00:00<00:00, 736.90it/s]\n"
     ]
    },
    {
     "name": "stdout",
     "output_type": "stream",
     "text": [
      "Training Loss= 0.45796962479750314\n",
      "Training Acc(%)= 85.41666666666666\n",
      "Validation Acc(%)= 63.33333333333333\n",
      "Running Epoch:166\n"
     ]
    },
    {
     "name": "stderr",
     "output_type": "stream",
     "text": [
      "Epoch 166 - Training: 100%|████████████████████████████████████████████████████████████| 30/30 [00:00<00:00, 677.88it/s]\n"
     ]
    },
    {
     "name": "stdout",
     "output_type": "stream",
     "text": [
      "Training Loss= 0.44612318674723306\n",
      "Training Acc(%)= 86.66666666666667\n",
      "Validation Acc(%)= 63.33333333333333\n",
      "Running Epoch:167\n"
     ]
    },
    {
     "name": "stderr",
     "output_type": "stream",
     "text": [
      "Epoch 167 - Training: 100%|████████████████████████████████████████████████████████████| 30/30 [00:00<00:00, 745.84it/s]\n"
     ]
    },
    {
     "name": "stdout",
     "output_type": "stream",
     "text": [
      "Training Loss= 0.45980437298615773\n",
      "Training Acc(%)= 85.41666666666666\n",
      "Validation Acc(%)= 66.66666666666666\n",
      "Running Epoch:168\n"
     ]
    },
    {
     "name": "stderr",
     "output_type": "stream",
     "text": [
      "Epoch 168 - Training: 100%|████████████████████████████████████████████████████████████| 30/30 [00:00<00:00, 742.98it/s]\n"
     ]
    },
    {
     "name": "stdout",
     "output_type": "stream",
     "text": [
      "Training Loss= 0.45360527038574217\n",
      "Training Acc(%)= 85.83333333333333\n",
      "Validation Acc(%)= 66.66666666666666\n",
      "Running Epoch:169\n"
     ]
    },
    {
     "name": "stderr",
     "output_type": "stream",
     "text": [
      "Epoch 169 - Training: 100%|████████████████████████████████████████████████████████████| 30/30 [00:00<00:00, 769.60it/s]\n"
     ]
    },
    {
     "name": "stdout",
     "output_type": "stream",
     "text": [
      "Training Loss= 0.43661389450232185\n",
      "Training Acc(%)= 88.33333333333333\n",
      "Validation Acc(%)= 63.33333333333333\n",
      "Running Epoch:170\n"
     ]
    },
    {
     "name": "stderr",
     "output_type": "stream",
     "text": [
      "Epoch 170 - Training: 100%|████████████████████████████████████████████████████████████| 30/30 [00:00<00:00, 768.22it/s]\n"
     ]
    },
    {
     "name": "stdout",
     "output_type": "stream",
     "text": [
      "Training Loss= 0.4530783861875534\n",
      "Training Acc(%)= 85.83333333333333\n",
      "Validation Acc(%)= 66.66666666666666\n",
      "Running Epoch:171\n"
     ]
    },
    {
     "name": "stderr",
     "output_type": "stream",
     "text": [
      "Epoch 171 - Training: 100%|████████████████████████████████████████████████████████████| 30/30 [00:00<00:00, 781.88it/s]\n"
     ]
    },
    {
     "name": "stdout",
     "output_type": "stream",
     "text": [
      "Training Loss= 0.44879705806573233\n",
      "Training Acc(%)= 85.0\n",
      "Validation Acc(%)= 66.66666666666666\n",
      "Running Epoch:172\n"
     ]
    },
    {
     "name": "stderr",
     "output_type": "stream",
     "text": [
      "Epoch 172 - Training: 100%|████████████████████████████████████████████████████████████| 30/30 [00:00<00:00, 700.78it/s]\n"
     ]
    },
    {
     "name": "stdout",
     "output_type": "stream",
     "text": [
      "Training Loss= 0.4686327228943507\n",
      "Training Acc(%)= 84.16666666666667\n",
      "Validation Acc(%)= 70.0\n",
      "Running Epoch:173\n"
     ]
    },
    {
     "name": "stderr",
     "output_type": "stream",
     "text": [
      "Epoch 173 - Training: 100%|████████████████████████████████████████████████████████████| 30/30 [00:00<00:00, 729.22it/s]\n"
     ]
    },
    {
     "name": "stdout",
     "output_type": "stream",
     "text": [
      "Training Loss= 0.4471541206041972\n",
      "Training Acc(%)= 86.66666666666667\n",
      "Validation Acc(%)= 70.0\n",
      "Running Epoch:174\n"
     ]
    },
    {
     "name": "stderr",
     "output_type": "stream",
     "text": [
      "Epoch 174 - Training: 100%|████████████████████████████████████████████████████████████| 30/30 [00:00<00:00, 691.68it/s]\n"
     ]
    },
    {
     "name": "stdout",
     "output_type": "stream",
     "text": [
      "Training Loss= 0.4378362645705541\n",
      "Training Acc(%)= 87.91666666666667\n",
      "Validation Acc(%)= 66.66666666666666\n",
      "Running Epoch:175\n"
     ]
    },
    {
     "name": "stderr",
     "output_type": "stream",
     "text": [
      "Epoch 175 - Training: 100%|████████████████████████████████████████████████████████████| 30/30 [00:00<00:00, 761.92it/s]\n"
     ]
    },
    {
     "name": "stdout",
     "output_type": "stream",
     "text": [
      "Training Loss= 0.4470822552839915\n",
      "Training Acc(%)= 87.5\n",
      "Validation Acc(%)= 63.33333333333333\n",
      "Running Epoch:176\n"
     ]
    },
    {
     "name": "stderr",
     "output_type": "stream",
     "text": [
      "Epoch 176 - Training: 100%|████████████████████████████████████████████████████████████| 30/30 [00:00<00:00, 739.15it/s]\n"
     ]
    },
    {
     "name": "stdout",
     "output_type": "stream",
     "text": [
      "Training Loss= 0.4500966380039851\n",
      "Training Acc(%)= 86.25\n",
      "Validation Acc(%)= 63.33333333333333\n",
      "Running Epoch:177\n"
     ]
    },
    {
     "name": "stderr",
     "output_type": "stream",
     "text": [
      "Epoch 177 - Training: 100%|████████████████████████████████████████████████████████████| 30/30 [00:00<00:00, 714.23it/s]\n"
     ]
    },
    {
     "name": "stdout",
     "output_type": "stream",
     "text": [
      "Training Loss= 0.46824504137039186\n",
      "Training Acc(%)= 84.16666666666667\n",
      "Validation Acc(%)= 66.66666666666666\n",
      "Running Epoch:178\n"
     ]
    },
    {
     "name": "stderr",
     "output_type": "stream",
     "text": [
      "Epoch 178 - Training: 100%|████████████████████████████████████████████████████████████| 30/30 [00:00<00:00, 748.99it/s]\n"
     ]
    },
    {
     "name": "stdout",
     "output_type": "stream",
     "text": [
      "Training Loss= 0.4496378928422928\n",
      "Training Acc(%)= 87.08333333333333\n",
      "Validation Acc(%)= 66.66666666666666\n",
      "Running Epoch:179\n"
     ]
    },
    {
     "name": "stderr",
     "output_type": "stream",
     "text": [
      "Epoch 179 - Training: 100%|████████████████████████████████████████████████████████████| 30/30 [00:00<00:00, 773.52it/s]\n"
     ]
    },
    {
     "name": "stdout",
     "output_type": "stream",
     "text": [
      "Training Loss= 0.44433093070983887\n",
      "Training Acc(%)= 86.66666666666667\n",
      "Validation Acc(%)= 66.66666666666666\n",
      "Running Epoch:180\n"
     ]
    },
    {
     "name": "stderr",
     "output_type": "stream",
     "text": [
      "Epoch 180 - Training: 100%|████████████████████████████████████████████████████████████| 30/30 [00:00<00:00, 794.12it/s]\n"
     ]
    },
    {
     "name": "stdout",
     "output_type": "stream",
     "text": [
      "Training Loss= 0.46119014322757723\n",
      "Training Acc(%)= 84.16666666666667\n",
      "Validation Acc(%)= 66.66666666666666\n",
      "Running Epoch:181\n"
     ]
    },
    {
     "name": "stderr",
     "output_type": "stream",
     "text": [
      "Epoch 181 - Training: 100%|████████████████████████████████████████████████████████████| 30/30 [00:00<00:00, 745.61it/s]\n"
     ]
    },
    {
     "name": "stdout",
     "output_type": "stream",
     "text": [
      "Training Loss= 0.4360866963863373\n",
      "Training Acc(%)= 88.75\n",
      "Validation Acc(%)= 66.66666666666666\n",
      "Running Epoch:182\n"
     ]
    },
    {
     "name": "stderr",
     "output_type": "stream",
     "text": [
      "Epoch 182 - Training: 100%|████████████████████████████████████████████████████████████| 30/30 [00:00<00:00, 689.81it/s]\n"
     ]
    },
    {
     "name": "stdout",
     "output_type": "stream",
     "text": [
      "Training Loss= 0.4518407960732778\n",
      "Training Acc(%)= 85.41666666666666\n",
      "Validation Acc(%)= 66.66666666666666\n",
      "Running Epoch:183\n"
     ]
    },
    {
     "name": "stderr",
     "output_type": "stream",
     "text": [
      "Epoch 183 - Training: 100%|████████████████████████████████████████████████████████████| 30/30 [00:00<00:00, 748.97it/s]\n"
     ]
    },
    {
     "name": "stdout",
     "output_type": "stream",
     "text": [
      "Training Loss= 0.45305223365624747\n",
      "Training Acc(%)= 85.41666666666666\n",
      "Validation Acc(%)= 66.66666666666666\n",
      "Running Epoch:184\n"
     ]
    },
    {
     "name": "stderr",
     "output_type": "stream",
     "text": [
      "Epoch 184 - Training: 100%|████████████████████████████████████████████████████████████| 30/30 [00:00<00:00, 735.03it/s]\n"
     ]
    },
    {
     "name": "stdout",
     "output_type": "stream",
     "text": [
      "Training Loss= 0.44965206682682035\n",
      "Training Acc(%)= 85.83333333333333\n",
      "Validation Acc(%)= 66.66666666666666\n",
      "Running Epoch:185\n"
     ]
    },
    {
     "name": "stderr",
     "output_type": "stream",
     "text": [
      "Epoch 185 - Training: 100%|████████████████████████████████████████████████████████████| 30/30 [00:00<00:00, 715.43it/s]\n"
     ]
    },
    {
     "name": "stdout",
     "output_type": "stream",
     "text": [
      "Training Loss= 0.45836264789104464\n",
      "Training Acc(%)= 84.58333333333333\n",
      "Validation Acc(%)= 63.33333333333333\n",
      "Running Epoch:186\n"
     ]
    },
    {
     "name": "stderr",
     "output_type": "stream",
     "text": [
      "Epoch 186 - Training: 100%|████████████████████████████████████████████████████████████| 30/30 [00:00<00:00, 734.27it/s]\n"
     ]
    },
    {
     "name": "stdout",
     "output_type": "stream",
     "text": [
      "Training Loss= 0.44351256887118023\n",
      "Training Acc(%)= 87.08333333333333\n",
      "Validation Acc(%)= 63.33333333333333\n",
      "Running Epoch:187\n"
     ]
    },
    {
     "name": "stderr",
     "output_type": "stream",
     "text": [
      "Epoch 187 - Training: 100%|████████████████████████████████████████████████████████████| 30/30 [00:00<00:00, 728.57it/s]\n"
     ]
    },
    {
     "name": "stdout",
     "output_type": "stream",
     "text": [
      "Training Loss= 0.43091850678126015\n",
      "Training Acc(%)= 88.75\n",
      "Validation Acc(%)= 63.33333333333333\n",
      "Running Epoch:188\n"
     ]
    },
    {
     "name": "stderr",
     "output_type": "stream",
     "text": [
      "Epoch 188 - Training: 100%|████████████████████████████████████████████████████████████| 30/30 [00:00<00:00, 763.18it/s]\n"
     ]
    },
    {
     "name": "stdout",
     "output_type": "stream",
     "text": [
      "Training Loss= 0.43880684971809386\n",
      "Training Acc(%)= 87.91666666666667\n",
      "Validation Acc(%)= 66.66666666666666\n",
      "Running Epoch:189\n"
     ]
    },
    {
     "name": "stderr",
     "output_type": "stream",
     "text": [
      "Epoch 189 - Training: 100%|████████████████████████████████████████████████████████████| 30/30 [00:00<00:00, 747.36it/s]\n"
     ]
    },
    {
     "name": "stdout",
     "output_type": "stream",
     "text": [
      "Training Loss= 0.450366398692131\n",
      "Training Acc(%)= 86.25\n",
      "Validation Acc(%)= 66.66666666666666\n",
      "Running Epoch:190\n"
     ]
    },
    {
     "name": "stderr",
     "output_type": "stream",
     "text": [
      "Epoch 190 - Training: 100%|████████████████████████████████████████████████████████████| 30/30 [00:00<00:00, 713.37it/s]\n"
     ]
    },
    {
     "name": "stdout",
     "output_type": "stream",
     "text": [
      "Training Loss= 0.4477656940619151\n",
      "Training Acc(%)= 86.66666666666667\n",
      "Validation Acc(%)= 56.666666666666664\n",
      "Running Epoch:191\n"
     ]
    },
    {
     "name": "stderr",
     "output_type": "stream",
     "text": [
      "Epoch 191 - Training: 100%|████████████████████████████████████████████████████████████| 30/30 [00:00<00:00, 725.81it/s]\n"
     ]
    },
    {
     "name": "stdout",
     "output_type": "stream",
     "text": [
      "Training Loss= 0.4488556404908498\n",
      "Training Acc(%)= 86.25\n",
      "Validation Acc(%)= 63.33333333333333\n",
      "Running Epoch:192\n"
     ]
    },
    {
     "name": "stderr",
     "output_type": "stream",
     "text": [
      "Epoch 192 - Training: 100%|████████████████████████████████████████████████████████████| 30/30 [00:00<00:00, 812.53it/s]\n"
     ]
    },
    {
     "name": "stdout",
     "output_type": "stream",
     "text": [
      "Training Loss= 0.4554997424284617\n",
      "Training Acc(%)= 84.16666666666667\n",
      "Validation Acc(%)= 63.33333333333333\n",
      "Running Epoch:193\n"
     ]
    },
    {
     "name": "stderr",
     "output_type": "stream",
     "text": [
      "Epoch 193 - Training: 100%|████████████████████████████████████████████████████████████| 30/30 [00:00<00:00, 748.89it/s]\n"
     ]
    },
    {
     "name": "stdout",
     "output_type": "stream",
     "text": [
      "Training Loss= 0.45789941449960075\n",
      "Training Acc(%)= 84.16666666666667\n",
      "Validation Acc(%)= 63.33333333333333\n",
      "Running Epoch:194\n"
     ]
    },
    {
     "name": "stderr",
     "output_type": "stream",
     "text": [
      "Epoch 194 - Training: 100%|████████████████████████████████████████████████████████████| 30/30 [00:00<00:00, 745.53it/s]\n"
     ]
    },
    {
     "name": "stdout",
     "output_type": "stream",
     "text": [
      "Training Loss= 0.437710240483284\n",
      "Training Acc(%)= 87.5\n",
      "Validation Acc(%)= 66.66666666666666\n",
      "Running Epoch:195\n"
     ]
    },
    {
     "name": "stderr",
     "output_type": "stream",
     "text": [
      "Epoch 195 - Training: 100%|████████████████████████████████████████████████████████████| 30/30 [00:00<00:00, 676.58it/s]\n"
     ]
    },
    {
     "name": "stdout",
     "output_type": "stream",
     "text": [
      "Training Loss= 0.42294370035330453\n",
      "Training Acc(%)= 89.58333333333334\n",
      "Validation Acc(%)= 66.66666666666666\n",
      "Running Epoch:196\n"
     ]
    },
    {
     "name": "stderr",
     "output_type": "stream",
     "text": [
      "Epoch 196 - Training: 100%|████████████████████████████████████████████████████████████| 30/30 [00:00<00:00, 782.24it/s]\n"
     ]
    },
    {
     "name": "stdout",
     "output_type": "stream",
     "text": [
      "Training Loss= 0.435630139708519\n",
      "Training Acc(%)= 87.5\n",
      "Validation Acc(%)= 66.66666666666666\n",
      "Running Epoch:197\n"
     ]
    },
    {
     "name": "stderr",
     "output_type": "stream",
     "text": [
      "Epoch 197 - Training: 100%|████████████████████████████████████████████████████████████| 30/30 [00:00<00:00, 790.92it/s]\n"
     ]
    },
    {
     "name": "stdout",
     "output_type": "stream",
     "text": [
      "Training Loss= 0.430098956823349\n",
      "Training Acc(%)= 87.91666666666667\n",
      "Validation Acc(%)= 66.66666666666666\n",
      "Running Epoch:198\n"
     ]
    },
    {
     "name": "stderr",
     "output_type": "stream",
     "text": [
      "Epoch 198 - Training: 100%|████████████████████████████████████████████████████████████| 30/30 [00:00<00:00, 697.42it/s]\n"
     ]
    },
    {
     "name": "stdout",
     "output_type": "stream",
     "text": [
      "Training Loss= 0.43978447616100313\n",
      "Training Acc(%)= 87.91666666666667\n",
      "Validation Acc(%)= 63.33333333333333\n",
      "Running Epoch:199\n"
     ]
    },
    {
     "name": "stderr",
     "output_type": "stream",
     "text": [
      "Epoch 199 - Training: 100%|████████████████████████████████████████████████████████████| 30/30 [00:00<00:00, 723.78it/s]\n"
     ]
    },
    {
     "name": "stdout",
     "output_type": "stream",
     "text": [
      "Training Loss= 0.4475892633199692\n",
      "Training Acc(%)= 86.66666666666667\n",
      "Validation Acc(%)= 63.33333333333333\n",
      "Running Epoch:200\n"
     ]
    },
    {
     "name": "stderr",
     "output_type": "stream",
     "text": [
      "Epoch 200 - Training: 100%|████████████████████████████████████████████████████████████| 30/30 [00:00<00:00, 646.65it/s]\n"
     ]
    },
    {
     "name": "stdout",
     "output_type": "stream",
     "text": [
      "Training Loss= 0.437981445590655\n",
      "Training Acc(%)= 87.08333333333333\n",
      "Validation Acc(%)= 63.33333333333333\n",
      "Running Epoch:201\n"
     ]
    },
    {
     "name": "stderr",
     "output_type": "stream",
     "text": [
      "Epoch 201 - Training: 100%|████████████████████████████████████████████████████████████| 30/30 [00:00<00:00, 705.70it/s]\n"
     ]
    },
    {
     "name": "stdout",
     "output_type": "stream",
     "text": [
      "Training Loss= 0.44052141110102333\n",
      "Training Acc(%)= 88.33333333333333\n",
      "Validation Acc(%)= 63.33333333333333\n",
      "Running Epoch:202\n"
     ]
    },
    {
     "name": "stderr",
     "output_type": "stream",
     "text": [
      "Epoch 202 - Training: 100%|████████████████████████████████████████████████████████████| 30/30 [00:00<00:00, 802.79it/s]\n"
     ]
    },
    {
     "name": "stdout",
     "output_type": "stream",
     "text": [
      "Training Loss= 0.44199806650479634\n",
      "Training Acc(%)= 87.91666666666667\n",
      "Validation Acc(%)= 66.66666666666666\n",
      "Running Epoch:203\n"
     ]
    },
    {
     "name": "stderr",
     "output_type": "stream",
     "text": [
      "Epoch 203 - Training: 100%|████████████████████████████████████████████████████████████| 30/30 [00:00<00:00, 767.17it/s]\n"
     ]
    },
    {
     "name": "stdout",
     "output_type": "stream",
     "text": [
      "Training Loss= 0.4409211258093516\n",
      "Training Acc(%)= 87.08333333333333\n",
      "Validation Acc(%)= 66.66666666666666\n",
      "Running Epoch:204\n"
     ]
    },
    {
     "name": "stderr",
     "output_type": "stream",
     "text": [
      "Epoch 204 - Training: 100%|████████████████████████████████████████████████████████████| 30/30 [00:00<00:00, 767.05it/s]\n"
     ]
    },
    {
     "name": "stdout",
     "output_type": "stream",
     "text": [
      "Training Loss= 0.44603264331817627\n",
      "Training Acc(%)= 85.83333333333333\n",
      "Validation Acc(%)= 63.33333333333333\n",
      "Running Epoch:205\n"
     ]
    },
    {
     "name": "stderr",
     "output_type": "stream",
     "text": [
      "Epoch 205 - Training: 100%|████████████████████████████████████████████████████████████| 30/30 [00:00<00:00, 748.66it/s]\n"
     ]
    },
    {
     "name": "stdout",
     "output_type": "stream",
     "text": [
      "Training Loss= 0.4420086642106374\n",
      "Training Acc(%)= 87.5\n",
      "Validation Acc(%)= 63.33333333333333\n",
      "Running Epoch:206\n"
     ]
    },
    {
     "name": "stderr",
     "output_type": "stream",
     "text": [
      "Epoch 206 - Training: 100%|████████████████████████████████████████████████████████████| 30/30 [00:00<00:00, 744.08it/s]\n"
     ]
    },
    {
     "name": "stdout",
     "output_type": "stream",
     "text": [
      "Training Loss= 0.43212332725524905\n",
      "Training Acc(%)= 87.91666666666667\n",
      "Validation Acc(%)= 66.66666666666666\n",
      "Running Epoch:207\n"
     ]
    },
    {
     "name": "stderr",
     "output_type": "stream",
     "text": [
      "Epoch 207 - Training: 100%|████████████████████████████████████████████████████████████| 30/30 [00:00<00:00, 737.92it/s]\n"
     ]
    },
    {
     "name": "stdout",
     "output_type": "stream",
     "text": [
      "Training Loss= 0.4398271044095357\n",
      "Training Acc(%)= 87.08333333333333\n",
      "Validation Acc(%)= 63.33333333333333\n",
      "Running Epoch:208\n"
     ]
    },
    {
     "name": "stderr",
     "output_type": "stream",
     "text": [
      "Epoch 208 - Training: 100%|████████████████████████████████████████████████████████████| 30/30 [00:00<00:00, 754.92it/s]\n"
     ]
    },
    {
     "name": "stdout",
     "output_type": "stream",
     "text": [
      "Training Loss= 0.4425749192635218\n",
      "Training Acc(%)= 88.33333333333333\n",
      "Validation Acc(%)= 63.33333333333333\n",
      "Running Epoch:209\n"
     ]
    },
    {
     "name": "stderr",
     "output_type": "stream",
     "text": [
      "Epoch 209 - Training: 100%|████████████████████████████████████████████████████████████| 30/30 [00:00<00:00, 783.60it/s]\n"
     ]
    },
    {
     "name": "stdout",
     "output_type": "stream",
     "text": [
      "Training Loss= 0.43554958899815877\n",
      "Training Acc(%)= 87.08333333333333\n",
      "Validation Acc(%)= 56.666666666666664\n",
      "Running Epoch:210\n"
     ]
    },
    {
     "name": "stderr",
     "output_type": "stream",
     "text": [
      "Epoch 210 - Training: 100%|████████████████████████████████████████████████████████████| 30/30 [00:00<00:00, 779.42it/s]\n"
     ]
    },
    {
     "name": "stdout",
     "output_type": "stream",
     "text": [
      "Training Loss= 0.4483770797650019\n",
      "Training Acc(%)= 85.83333333333333\n",
      "Validation Acc(%)= 63.33333333333333\n",
      "Running Epoch:211\n"
     ]
    },
    {
     "name": "stderr",
     "output_type": "stream",
     "text": [
      "Epoch 211 - Training: 100%|████████████████████████████████████████████████████████████| 30/30 [00:00<00:00, 254.15it/s]\n"
     ]
    },
    {
     "name": "stdout",
     "output_type": "stream",
     "text": [
      "Training Loss= 0.41266918877760567\n",
      "Training Acc(%)= 91.25\n",
      "Validation Acc(%)= 63.33333333333333\n",
      "Running Epoch:212\n"
     ]
    },
    {
     "name": "stderr",
     "output_type": "stream",
     "text": [
      "Epoch 212 - Training: 100%|████████████████████████████████████████████████████████████| 30/30 [00:00<00:00, 713.22it/s]\n"
     ]
    },
    {
     "name": "stdout",
     "output_type": "stream",
     "text": [
      "Training Loss= 0.4365622808535894\n",
      "Training Acc(%)= 88.33333333333333\n",
      "Validation Acc(%)= 63.33333333333333\n",
      "Running Epoch:213\n"
     ]
    },
    {
     "name": "stderr",
     "output_type": "stream",
     "text": [
      "Epoch 213 - Training: 100%|████████████████████████████████████████████████████████████| 30/30 [00:00<00:00, 787.33it/s]\n"
     ]
    },
    {
     "name": "stdout",
     "output_type": "stream",
     "text": [
      "Training Loss= 0.43420644402503966\n",
      "Training Acc(%)= 87.91666666666667\n",
      "Validation Acc(%)= 63.33333333333333\n",
      "Running Epoch:214\n"
     ]
    },
    {
     "name": "stderr",
     "output_type": "stream",
     "text": [
      "Epoch 214 - Training: 100%|████████████████████████████████████████████████████████████| 30/30 [00:00<00:00, 776.16it/s]\n"
     ]
    },
    {
     "name": "stdout",
     "output_type": "stream",
     "text": [
      "Training Loss= 0.4295503189166387\n",
      "Training Acc(%)= 87.5\n",
      "Validation Acc(%)= 60.0\n",
      "Running Epoch:215\n"
     ]
    },
    {
     "name": "stderr",
     "output_type": "stream",
     "text": [
      "Epoch 215 - Training: 100%|████████████████████████████████████████████████████████████| 30/30 [00:00<00:00, 676.49it/s]\n"
     ]
    },
    {
     "name": "stdout",
     "output_type": "stream",
     "text": [
      "Training Loss= 0.43014132579167685\n",
      "Training Acc(%)= 87.5\n",
      "Validation Acc(%)= 60.0\n",
      "Running Epoch:216\n"
     ]
    },
    {
     "name": "stderr",
     "output_type": "stream",
     "text": [
      "Epoch 216 - Training: 100%|████████████████████████████████████████████████████████████| 30/30 [00:00<00:00, 753.51it/s]\n"
     ]
    },
    {
     "name": "stdout",
     "output_type": "stream",
     "text": [
      "Training Loss= 0.4438931971788406\n",
      "Training Acc(%)= 87.5\n",
      "Validation Acc(%)= 63.33333333333333\n",
      "Running Epoch:217\n"
     ]
    },
    {
     "name": "stderr",
     "output_type": "stream",
     "text": [
      "Epoch 217 - Training: 100%|████████████████████████████████████████████████████████████| 30/30 [00:00<00:00, 742.84it/s]\n"
     ]
    },
    {
     "name": "stdout",
     "output_type": "stream",
     "text": [
      "Training Loss= 0.4349431256453196\n",
      "Training Acc(%)= 87.5\n",
      "Validation Acc(%)= 60.0\n",
      "Running Epoch:218\n"
     ]
    },
    {
     "name": "stderr",
     "output_type": "stream",
     "text": [
      "Epoch 218 - Training: 100%|████████████████████████████████████████████████████████████| 30/30 [00:00<00:00, 746.00it/s]\n"
     ]
    },
    {
     "name": "stdout",
     "output_type": "stream",
     "text": [
      "Training Loss= 0.442807744940122\n",
      "Training Acc(%)= 86.66666666666667\n",
      "Validation Acc(%)= 63.33333333333333\n",
      "Running Epoch:219\n"
     ]
    },
    {
     "name": "stderr",
     "output_type": "stream",
     "text": [
      "Epoch 219 - Training: 100%|████████████████████████████████████████████████████████████| 30/30 [00:00<00:00, 728.55it/s]\n"
     ]
    },
    {
     "name": "stdout",
     "output_type": "stream",
     "text": [
      "Training Loss= 0.4314497580130895\n",
      "Training Acc(%)= 88.75\n",
      "Validation Acc(%)= 63.33333333333333\n",
      "Running Epoch:220\n"
     ]
    },
    {
     "name": "stderr",
     "output_type": "stream",
     "text": [
      "Epoch 220 - Training: 100%|████████████████████████████████████████████████████████████| 30/30 [00:00<00:00, 755.61it/s]\n"
     ]
    },
    {
     "name": "stdout",
     "output_type": "stream",
     "text": [
      "Training Loss= 0.43150109648704527\n",
      "Training Acc(%)= 88.75\n",
      "Validation Acc(%)= 60.0\n",
      "Running Epoch:221\n"
     ]
    },
    {
     "name": "stderr",
     "output_type": "stream",
     "text": [
      "Epoch 221 - Training: 100%|████████████████████████████████████████████████████████████| 30/30 [00:00<00:00, 706.19it/s]\n"
     ]
    },
    {
     "name": "stdout",
     "output_type": "stream",
     "text": [
      "Training Loss= 0.43604426781336464\n",
      "Training Acc(%)= 87.5\n",
      "Validation Acc(%)= 56.666666666666664\n",
      "Running Epoch:222\n"
     ]
    },
    {
     "name": "stderr",
     "output_type": "stream",
     "text": [
      "Epoch 222 - Training: 100%|████████████████████████████████████████████████████████████| 30/30 [00:00<00:00, 734.08it/s]\n"
     ]
    },
    {
     "name": "stdout",
     "output_type": "stream",
     "text": [
      "Training Loss= 0.42348663608233134\n",
      "Training Acc(%)= 87.91666666666667\n",
      "Validation Acc(%)= 60.0\n",
      "Running Epoch:223\n"
     ]
    },
    {
     "name": "stderr",
     "output_type": "stream",
     "text": [
      "Epoch 223 - Training: 100%|████████████████████████████████████████████████████████████| 30/30 [00:00<00:00, 775.72it/s]\n"
     ]
    },
    {
     "name": "stdout",
     "output_type": "stream",
     "text": [
      "Training Loss= 0.43858760595321655\n",
      "Training Acc(%)= 88.33333333333333\n",
      "Validation Acc(%)= 50.0\n",
      "Running Epoch:224\n"
     ]
    },
    {
     "name": "stderr",
     "output_type": "stream",
     "text": [
      "Epoch 224 - Training: 100%|████████████████████████████████████████████████████████████| 30/30 [00:00<00:00, 777.08it/s]\n"
     ]
    },
    {
     "name": "stdout",
     "output_type": "stream",
     "text": [
      "Training Loss= 0.4225004514058431\n",
      "Training Acc(%)= 89.16666666666667\n",
      "Validation Acc(%)= 60.0\n",
      "Running Epoch:225\n"
     ]
    },
    {
     "name": "stderr",
     "output_type": "stream",
     "text": [
      "Epoch 225 - Training: 100%|████████████████████████████████████████████████████████████| 30/30 [00:00<00:00, 731.28it/s]\n"
     ]
    },
    {
     "name": "stdout",
     "output_type": "stream",
     "text": [
      "Training Loss= 0.44479356904824574\n",
      "Training Acc(%)= 86.66666666666667\n",
      "Validation Acc(%)= 66.66666666666666\n",
      "Running Epoch:226\n"
     ]
    },
    {
     "name": "stderr",
     "output_type": "stream",
     "text": [
      "Epoch 226 - Training: 100%|████████████████████████████████████████████████████████████| 30/30 [00:00<00:00, 736.30it/s]\n"
     ]
    },
    {
     "name": "stdout",
     "output_type": "stream",
     "text": [
      "Training Loss= 0.42828716735045114\n",
      "Training Acc(%)= 87.08333333333333\n",
      "Validation Acc(%)= 60.0\n",
      "Running Epoch:227\n"
     ]
    },
    {
     "name": "stderr",
     "output_type": "stream",
     "text": [
      "Epoch 227 - Training: 100%|████████████████████████████████████████████████████████████| 30/30 [00:00<00:00, 733.25it/s]\n"
     ]
    },
    {
     "name": "stdout",
     "output_type": "stream",
     "text": [
      "Training Loss= 0.44081449111302695\n",
      "Training Acc(%)= 87.91666666666667\n",
      "Validation Acc(%)= 60.0\n",
      "Running Epoch:228\n"
     ]
    },
    {
     "name": "stderr",
     "output_type": "stream",
     "text": [
      "Epoch 228 - Training: 100%|████████████████████████████████████████████████████████████| 30/30 [00:00<00:00, 746.77it/s]\n"
     ]
    },
    {
     "name": "stdout",
     "output_type": "stream",
     "text": [
      "Training Loss= 0.432009827097257\n",
      "Training Acc(%)= 86.25\n",
      "Validation Acc(%)= 60.0\n",
      "Running Epoch:229\n"
     ]
    },
    {
     "name": "stderr",
     "output_type": "stream",
     "text": [
      "Epoch 229 - Training: 100%|████████████████████████████████████████████████████████████| 30/30 [00:00<00:00, 712.07it/s]\n"
     ]
    },
    {
     "name": "stdout",
     "output_type": "stream",
     "text": [
      "Training Loss= 0.42715740700562793\n",
      "Training Acc(%)= 88.75\n",
      "Validation Acc(%)= 63.33333333333333\n",
      "Running Epoch:230\n"
     ]
    },
    {
     "name": "stderr",
     "output_type": "stream",
     "text": [
      "Epoch 230 - Training: 100%|████████████████████████████████████████████████████████████| 30/30 [00:00<00:00, 742.49it/s]\n"
     ]
    },
    {
     "name": "stdout",
     "output_type": "stream",
     "text": [
      "Training Loss= 0.42449169953664145\n",
      "Training Acc(%)= 88.33333333333333\n",
      "Validation Acc(%)= 60.0\n",
      "Running Epoch:231\n"
     ]
    },
    {
     "name": "stderr",
     "output_type": "stream",
     "text": [
      "Epoch 231 - Training: 100%|████████████████████████████████████████████████████████████| 30/30 [00:00<00:00, 759.70it/s]\n"
     ]
    },
    {
     "name": "stdout",
     "output_type": "stream",
     "text": [
      "Training Loss= 0.4291970878839493\n",
      "Training Acc(%)= 87.91666666666667\n",
      "Validation Acc(%)= 66.66666666666666\n",
      "Running Epoch:232\n"
     ]
    },
    {
     "name": "stderr",
     "output_type": "stream",
     "text": [
      "Epoch 232 - Training: 100%|████████████████████████████████████████████████████████████| 30/30 [00:00<00:00, 710.00it/s]\n"
     ]
    },
    {
     "name": "stdout",
     "output_type": "stream",
     "text": [
      "Training Loss= 0.43104242781798047\n",
      "Training Acc(%)= 87.91666666666667\n",
      "Validation Acc(%)= 60.0\n",
      "Running Epoch:233\n"
     ]
    },
    {
     "name": "stderr",
     "output_type": "stream",
     "text": [
      "Epoch 233 - Training: 100%|████████████████████████████████████████████████████████████| 30/30 [00:00<00:00, 782.37it/s]\n"
     ]
    },
    {
     "name": "stdout",
     "output_type": "stream",
     "text": [
      "Training Loss= 0.43406966626644133\n",
      "Training Acc(%)= 88.75\n",
      "Validation Acc(%)= 60.0\n",
      "Running Epoch:234\n"
     ]
    },
    {
     "name": "stderr",
     "output_type": "stream",
     "text": [
      "Epoch 234 - Training: 100%|████████████████████████████████████████████████████████████| 30/30 [00:00<00:00, 783.62it/s]\n"
     ]
    },
    {
     "name": "stdout",
     "output_type": "stream",
     "text": [
      "Training Loss= 0.4243589103221893\n",
      "Training Acc(%)= 88.75\n",
      "Validation Acc(%)= 60.0\n",
      "Running Epoch:235\n"
     ]
    },
    {
     "name": "stderr",
     "output_type": "stream",
     "text": [
      "Epoch 235 - Training: 100%|████████████████████████████████████████████████████████████| 30/30 [00:00<00:00, 761.65it/s]\n"
     ]
    },
    {
     "name": "stdout",
     "output_type": "stream",
     "text": [
      "Training Loss= 0.4351903875668844\n",
      "Training Acc(%)= 88.33333333333333\n",
      "Validation Acc(%)= 56.666666666666664\n",
      "Running Epoch:236\n"
     ]
    },
    {
     "name": "stderr",
     "output_type": "stream",
     "text": [
      "Epoch 236 - Training: 100%|████████████████████████████████████████████████████████████| 30/30 [00:00<00:00, 720.73it/s]\n"
     ]
    },
    {
     "name": "stdout",
     "output_type": "stream",
     "text": [
      "Training Loss= 0.4181606451670329\n",
      "Training Acc(%)= 89.58333333333334\n",
      "Validation Acc(%)= 56.666666666666664\n",
      "Running Epoch:237\n"
     ]
    },
    {
     "name": "stderr",
     "output_type": "stream",
     "text": [
      "Epoch 237 - Training: 100%|████████████████████████████████████████████████████████████| 30/30 [00:00<00:00, 730.74it/s]\n"
     ]
    },
    {
     "name": "stdout",
     "output_type": "stream",
     "text": [
      "Training Loss= 0.4406324485937754\n",
      "Training Acc(%)= 87.5\n",
      "Validation Acc(%)= 63.33333333333333\n",
      "Running Epoch:238\n"
     ]
    },
    {
     "name": "stderr",
     "output_type": "stream",
     "text": [
      "Epoch 238 - Training: 100%|████████████████████████████████████████████████████████████| 30/30 [00:00<00:00, 733.10it/s]\n"
     ]
    },
    {
     "name": "stdout",
     "output_type": "stream",
     "text": [
      "Training Loss= 0.4339824835459391\n",
      "Training Acc(%)= 88.33333333333333\n",
      "Validation Acc(%)= 66.66666666666666\n",
      "Running Epoch:239\n"
     ]
    },
    {
     "name": "stderr",
     "output_type": "stream",
     "text": [
      "Epoch 239 - Training: 100%|████████████████████████████████████████████████████████████| 30/30 [00:00<00:00, 660.77it/s]\n"
     ]
    },
    {
     "name": "stdout",
     "output_type": "stream",
     "text": [
      "Training Loss= 0.435237913330396\n",
      "Training Acc(%)= 87.5\n",
      "Validation Acc(%)= 63.33333333333333\n",
      "Running Epoch:240\n"
     ]
    },
    {
     "name": "stderr",
     "output_type": "stream",
     "text": [
      "Epoch 240 - Training: 100%|████████████████████████████████████████████████████████████| 30/30 [00:00<00:00, 721.13it/s]\n"
     ]
    },
    {
     "name": "stdout",
     "output_type": "stream",
     "text": [
      "Training Loss= 0.4506862133741379\n",
      "Training Acc(%)= 86.66666666666667\n",
      "Validation Acc(%)= 63.33333333333333\n",
      "Running Epoch:241\n"
     ]
    },
    {
     "name": "stderr",
     "output_type": "stream",
     "text": [
      "Epoch 241 - Training: 100%|████████████████████████████████████████████████████████████| 30/30 [00:00<00:00, 760.34it/s]\n"
     ]
    },
    {
     "name": "stdout",
     "output_type": "stream",
     "text": [
      "Training Loss= 0.44641939202944436\n",
      "Training Acc(%)= 85.41666666666666\n",
      "Validation Acc(%)= 63.33333333333333\n",
      "Running Epoch:242\n"
     ]
    },
    {
     "name": "stderr",
     "output_type": "stream",
     "text": [
      "Epoch 242 - Training: 100%|████████████████████████████████████████████████████████████| 30/30 [00:00<00:00, 731.18it/s]\n"
     ]
    },
    {
     "name": "stdout",
     "output_type": "stream",
     "text": [
      "Training Loss= 0.4317699839671453\n",
      "Training Acc(%)= 88.75\n",
      "Validation Acc(%)= 60.0\n",
      "Running Epoch:243\n"
     ]
    },
    {
     "name": "stderr",
     "output_type": "stream",
     "text": [
      "Epoch 243 - Training: 100%|████████████████████████████████████████████████████████████| 30/30 [00:00<00:00, 774.53it/s]\n"
     ]
    },
    {
     "name": "stdout",
     "output_type": "stream",
     "text": [
      "Training Loss= 0.4242214888334274\n",
      "Training Acc(%)= 88.75\n",
      "Validation Acc(%)= 63.33333333333333\n",
      "Running Epoch:244\n"
     ]
    },
    {
     "name": "stderr",
     "output_type": "stream",
     "text": [
      "Epoch 244 - Training: 100%|████████████████████████████████████████████████████████████| 30/30 [00:00<00:00, 729.52it/s]\n"
     ]
    },
    {
     "name": "stdout",
     "output_type": "stream",
     "text": [
      "Training Loss= 0.41549613575140637\n",
      "Training Acc(%)= 89.58333333333334\n",
      "Validation Acc(%)= 63.33333333333333\n",
      "Running Epoch:245\n"
     ]
    },
    {
     "name": "stderr",
     "output_type": "stream",
     "text": [
      "Epoch 245 - Training: 100%|████████████████████████████████████████████████████████████| 30/30 [00:00<00:00, 769.86it/s]\n"
     ]
    },
    {
     "name": "stdout",
     "output_type": "stream",
     "text": [
      "Training Loss= 0.42086890935897825\n",
      "Training Acc(%)= 90.0\n",
      "Validation Acc(%)= 63.33333333333333\n",
      "Running Epoch:246\n"
     ]
    },
    {
     "name": "stderr",
     "output_type": "stream",
     "text": [
      "Epoch 246 - Training: 100%|████████████████████████████████████████████████████████████| 30/30 [00:00<00:00, 708.03it/s]\n"
     ]
    },
    {
     "name": "stdout",
     "output_type": "stream",
     "text": [
      "Training Loss= 0.4110016137361526\n",
      "Training Acc(%)= 90.41666666666667\n",
      "Validation Acc(%)= 56.666666666666664\n",
      "Running Epoch:247\n"
     ]
    },
    {
     "name": "stderr",
     "output_type": "stream",
     "text": [
      "Epoch 247 - Training: 100%|████████████████████████████████████████████████████████████| 30/30 [00:00<00:00, 740.08it/s]\n"
     ]
    },
    {
     "name": "stdout",
     "output_type": "stream",
     "text": [
      "Training Loss= 0.4340222915013631\n",
      "Training Acc(%)= 88.33333333333333\n",
      "Validation Acc(%)= 63.33333333333333\n",
      "Running Epoch:248\n"
     ]
    },
    {
     "name": "stderr",
     "output_type": "stream",
     "text": [
      "Epoch 248 - Training: 100%|████████████████████████████████████████████████████████████| 30/30 [00:00<00:00, 736.04it/s]\n"
     ]
    },
    {
     "name": "stdout",
     "output_type": "stream",
     "text": [
      "Training Loss= 0.4213044981161753\n",
      "Training Acc(%)= 87.91666666666667\n",
      "Validation Acc(%)= 60.0\n",
      "Running Epoch:249\n"
     ]
    },
    {
     "name": "stderr",
     "output_type": "stream",
     "text": [
      "Epoch 249 - Training: 100%|████████████████████████████████████████████████████████████| 30/30 [00:00<00:00, 767.47it/s]\n"
     ]
    },
    {
     "name": "stdout",
     "output_type": "stream",
     "text": [
      "Training Loss= 0.4268267333507538\n",
      "Training Acc(%)= 88.33333333333333\n",
      "Validation Acc(%)= 60.0\n",
      "Running Epoch:250\n"
     ]
    },
    {
     "name": "stderr",
     "output_type": "stream",
     "text": [
      "Epoch 250 - Training: 100%|████████████████████████████████████████████████████████████| 30/30 [00:00<00:00, 718.59it/s]"
     ]
    },
    {
     "name": "stdout",
     "output_type": "stream",
     "text": [
      "Training Loss= 0.444927911957105\n",
      "Training Acc(%)= 86.25\n",
      "Validation Acc(%)= 60.0\n"
     ]
    },
    {
     "name": "stderr",
     "output_type": "stream",
     "text": [
      "\n"
     ]
    }
   ],
   "source": [
    "device=torch.device('cuda')\n",
    "step_size=1000\n",
    "learning_rate = 0.001\n",
    "epoch = 250\n",
    "\n",
    "model = Model().to(device)\n",
    "print(model)\n",
    "criterion = nn.CrossEntropyLoss()\n",
    "optimizer = torch.optim.Adam(model.parameters(), lr=learning_rate)\n",
    "scheduler=torch.optim.lr_scheduler.StepLR(optimizer,step_size,0.1)\n",
    "train_acc_his,train_losses_his,valid_acc_his,valid_losses_his=[],[],[],[]\n",
    "for i in range(1, epoch+1):\n",
    "    print('Running Epoch:'+str(i))\n",
    "    train_correct,train_loss,train_total,valid_correct,valid_loss,valid_total=0,0,0,0,0,0\n",
    "    model.train()\n",
    "    for samples,labels in tqdm(train_loader, desc=f'Epoch {i} - Training'):\n",
    "        samples, labels = samples.to(device), labels.to(device)\n",
    "        pred = model(samples)\n",
    "        loss = criterion(pred, labels)\n",
    "        output_id = torch.max(pred, dim=1)[1]\n",
    "        train_correct += np.sum(torch.eq(labels, output_id).cpu().numpy())\n",
    "        train_loss += loss.item()*samples.size(0)\n",
    "        train_total += samples.size(0)\n",
    "        optimizer.zero_grad()\n",
    "        loss.backward()\n",
    "        optimizer.step()\n",
    "    model.eval()\n",
    "    for samples,labels in valid_loader:\n",
    "        samples, labels = samples.to(device), labels.to(device)\n",
    "        pred = model(samples)\n",
    "        loss = criterion(pred, labels)\n",
    "        output_id = torch.max(pred, dim=1)[1]\n",
    "        valid_correct += np.sum(torch.eq(labels, output_id).cpu().numpy())\n",
    "        valid_loss += loss.item()*samples.size(0)\n",
    "        valid_total += samples.size(0)\n",
    "    \n",
    "    train_acc = train_correct/train_total*100\n",
    "    train_loss = train_loss/train_total\n",
    "    valid_acc = valid_correct/valid_total*100\n",
    "    valid_loss = valid_loss/valid_total\n",
    "    train_acc_his.append(train_acc)\n",
    "    train_losses_his.append(train_loss)\n",
    "    valid_acc_his.append(valid_acc)\n",
    "    valid_losses_his.append(valid_loss)\n",
    "    print(f'Training Loss= {train_loss}')\n",
    "    print(f'Training Acc(%)= {train_acc}')\n",
    "    print(f'Validation Acc(%)= {valid_acc}')"
   ]
  },
  {
   "cell_type": "code",
   "execution_count": 24,
   "metadata": {
    "scrolled": true
   },
   "outputs": [
    {
     "data": {
      "image/png": "[encoded data removed]",
      "text/plain": [
       "<Figure size 1500x1000 with 2 Axes>"
      ]
     },
     "metadata": {},
     "output_type": "display_data"
    }
   ],
   "source": [
    "import matplotlib.pyplot as plt\n",
    "\n",
    "plt.figure(figsize=(15,10))\n",
    "plt.subplot(211)\n",
    "plt.plot(train_acc_his,'b',label='training accuracy')\n",
    "plt.plot(valid_acc_his,'r',label='validation accuracy')\n",
    "plt.title('Accuracy(%)')\n",
    "plt.legend(loc='best')\n",
    "plt.subplot(212)\n",
    "plt.plot(train_losses_his,'b',label='training loss')\n",
    "plt.plot(valid_losses_his,'r',label='validation loss')\n",
    "plt.title('Loss')\n",
    "plt.legend(loc='best')\n",
    "plt.show()\n",
    "#plt.savefig(\"training and validation fig.jpg\")"
   ]
  },
  {
   "cell_type": "markdown",
   "metadata": {},
   "source": [
    "## Prediction (After Training)"
   ]
  },
  {
   "cell_type": "code",
   "execution_count": 25,
   "metadata": {},
   "outputs": [
    {
     "name": "stdout",
     "output_type": "stream",
     "text": [
      "Confusion matrix: [[10  5]\n",
      " [ 4 11]]\n",
      "\n",
      "Accuracy: 0.70\n",
      "\n",
      "Precision (per class): [0.71428571 0.6875    ]\n",
      "\n",
      "Recall (per class): [0.66666667 0.73333333]\n",
      "\n"
     ]
    }
   ],
   "source": [
    "import matplotlib.pyplot as plt\n",
    "from sklearn.metrics import confusion_matrix\n",
    "\n",
    "all_preds = []\n",
    "all_labels = []\n",
    "\n",
    "with torch.no_grad():\n",
    "    for images, labels in test_loader:\n",
    "        images,labbels = images.to(device), labels.to(device)\n",
    "        output = model(images).to(device)\n",
    "        _, preds = torch.max(output, 1)\n",
    "        all_preds.extend(preds.cpu().numpy())\n",
    "        all_labels.extend(labels.numpy())\n",
    "\n",
    "# Calculate confusion matrix\n",
    "cm = confusion_matrix(all_labels, all_preds)\n",
    "from sklearn.metrics import confusion_matrix, accuracy_score, precision_score, recall_score\n",
    "\n",
    "# all_labels: ground truth labels\n",
    "# all_preds: predicted labels\n",
    "\n",
    "# Compute the confusion matrix\n",
    "cm = confusion_matrix(all_labels, all_preds)\n",
    "\n",
    "# Calculate accuracy\n",
    "accuracy = accuracy_score(all_labels, all_preds)\n",
    "\n",
    "# Calculate precision and recall for each class\n",
    "precision = precision_score(all_labels, all_preds, average=None)\n",
    "recall = recall_score(all_labels, all_preds, average=None)\n",
    "\n",
    "# Print the results\n",
    "print(f'Confusion matrix: {cm}\\n')\n",
    "print(f\"Accuracy: {accuracy:.2f}\\n\")\n",
    "print(f\"Precision (per class): {precision}\\n\")\n",
    "print(f\"Recall (per class): {recall}\\n\")"
   ]
  },
  {
   "cell_type": "code",
   "execution_count": 26,
   "metadata": {},
   "outputs": [
    {
     "data": {
      "image/png": "[encoded data removed]",
      "text/plain": [
       "<Figure size 640x480 with 1 Axes>"
      ]
     },
     "metadata": {},
     "output_type": "display_data"
    }
   ],
   "source": [
    "from sklearn.metrics import roc_auc_score, roc_curve, auc, RocCurveDisplay\n",
    "import numpy as np\n",
    "import torch\n",
    "\n",
    "all_probs = []\n",
    "all_labels = []\n",
    "\n",
    "model.eval()  # Set the model to evaluation mode\n",
    "\n",
    "with torch.no_grad():  # Disable gradient calculation for inference\n",
    "    for images, labels in test_loader:\n",
    "        images, labels = images.to(device), labels.to(device)\n",
    "        output = model(images).to(device)  # Get model outputs\n",
    "        \n",
    "        #print(f'output: {output}')\n",
    "        # Assuming output is a tensor of shape (batch_size, num_classes)\n",
    "        #probs = torch.softmax(output, dim=1)  # Get predicted probabilities\n",
    "        #print(f'probs: {probs}')\n",
    "        \n",
    "        # Collect all probabilities\n",
    "        all_probs.extend(output.cpu().numpy())\n",
    "        \n",
    "        # Collect true labels\n",
    "        all_labels.extend(labels.cpu().numpy())\n",
    "\n",
    "# Convert lists to NumPy arrays\n",
    "all_probs = np.array(all_probs)\n",
    "all_labels = np.array(all_labels)\n",
    " \n",
    "np.save('k3_all_labels', all_labels)\n",
    "np.save('k3_all_probs', all_probs)\n",
    "fpr, tpr, _ = roc_curve(all_labels, all_probs[:, 1])\n",
    "roc_auc = auc(fpr, tpr)\n",
    "display = RocCurveDisplay(fpr=fpr, tpr=tpr, roc_auc=roc_auc,\n",
    "                                  estimator_name='ANN ')\n",
    "\n",
    "display.plot()\n",
    "plt.plot([0, 1], [0, 1], color='navy', lw=2, linestyle='--')\n",
    "plt.title('Deep Learning with anonymized dataset')\n",
    "plt.legend(loc='lower right')\n",
    "plt.show()\n"
   ]
  },
  {
   "cell_type": "markdown",
   "metadata": {},
   "source": [
    "## Different k value ROC curve"
   ]
  },
  {
   "cell_type": "code",
   "execution_count": 28,
   "metadata": {},
   "outputs": [
    {
     "data": {
      "image/png": "[encoded data removed]",
      "text/plain": [
       "<Figure size 640x480 with 1 Axes>"
      ]
     },
     "metadata": {},
     "output_type": "display_data"
    }
   ],
   "source": [
    "import matplotlib.pyplot as plt\n",
    "from sklearn.metrics import RocCurveDisplay, roc_curve\n",
    "\n",
    "# load numpy file\n",
    "k2_all_labels = np.load('k2_all_labels.npy')\n",
    "k2_all_probs = np.load('k2_all_probs.npy')\n",
    "k3_all_labels = np.load('k3_all_labels.npy')\n",
    "k3_all_probs = np.load('k3_all_probs.npy')\n",
    "k4_all_labels = np.load('k4_all_labels.npy')\n",
    "k4_all_probs = np.load('k4_all_probs.npy')\n",
    "\n",
    "# Compute ROC curve and ROC area for each set of scores\n",
    "fpr1, tpr1, _ = roc_curve(k2_all_labels, k2_all_probs[:, 1])\n",
    "fpr2, tpr2, _ = roc_curve(k3_all_labels, k3_all_probs[:, 1])\n",
    "fpr3, tpr3, _ = roc_curve(k4_all_labels, k4_all_probs[:, 1])\n",
    "\n",
    "auc1 = roc_auc_score(k2_all_labels, k2_all_probs[:, 1])\n",
    "auc2 = roc_auc_score(k3_all_labels, k3_all_probs[:, 1])\n",
    "auc3 = roc_auc_score(k4_all_labels, k4_all_probs[:, 1])\n",
    "\n",
    "# Create a figure and axis to plot on\n",
    "fig, ax = plt.subplots()\n",
    "\n",
    "# Create RocCurveDisplay objects\n",
    "roc_display1 = RocCurveDisplay(fpr=fpr1, tpr=tpr1).plot(ax=ax, name=f'k=2 (AUC = {auc1:.2f})')\n",
    "roc_display2 = RocCurveDisplay(fpr=fpr2, tpr=tpr2).plot(ax=ax, name=f'k=3 (AUC = {auc2:.2f})')\n",
    "roc_display3 = RocCurveDisplay(fpr=fpr3, tpr=tpr3).plot(ax=ax, name=f'k=4 (AUC = {auc3:.2f})')\n",
    "\n",
    "# Customize the plot\n",
    "ax.plot([0, 1], [0, 1], 'k--')  # Diagonal line\n",
    "ax.set_xlabel('False Positive Rate')\n",
    "ax.set_ylabel('True Positive Rate')\n",
    "ax.set_title('Different Privacy Level for ROC Curves')\n",
    "ax.legend()\n",
    "\n",
    "# Show the plot\n",
    "plt.show()\n"
   ]
  },
  {
   "cell_type": "code",
   "execution_count": null,
   "metadata": {},
   "outputs": [],
   "source": []
  }
 ],
 "metadata": {
  "kernelspec": {
   "display_name": "Python 3 (ipykernel)",
   "language": "python",
   "name": "python3"
  },
  "language_info": {
   "codemirror_mode": {
    "name": "ipython",
    "version": 3
   },
   "file_extension": ".py",
   "mimetype": "text/x-python",
   "name": "python",
   "nbconvert_exporter": "python",
   "pygments_lexer": "ipython3",
   "version": "3.10.12"
  }
 },
 "nbformat": 4,
 "nbformat_minor": 2
}
