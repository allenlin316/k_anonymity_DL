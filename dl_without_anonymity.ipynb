{
 "cells": [
  {
   "cell_type": "code",
   "execution_count": 1,
   "metadata": {},
   "outputs": [],
   "source": [
    "import torch\n",
    "import torch.nn as nn\n",
    "from torch.utils.data import Dataset, DataLoader\n",
    "from torchvision import transforms\n",
    "\n",
    "from sklearn.preprocessing import LabelEncoder\n",
    "from sklearn.model_selection import train_test_split\n",
    "from sklearn.preprocessing import MinMaxScaler\n",
    "\n",
    "import pandas as pd\n",
    "import numpy as np\n",
    "from tqdm import tqdm\n",
    "import os"
   ]
  },
  {
   "cell_type": "code",
   "execution_count": 2,
   "metadata": {},
   "outputs": [],
   "source": [
    "class dataset(Dataset):\n",
    "    def __init__(self, x, y):\n",
    "        self.x = x\n",
    "        self.y = y\n",
    "        self.n_sample = len(x)\n",
    "    def __getitem__(self, index):\n",
    "        return self.x[index], self.y[index]\n",
    "    def __len__(self):\n",
    "        return self.n_sample"
   ]
  },
  {
   "cell_type": "code",
   "execution_count": 3,
   "metadata": {},
   "outputs": [],
   "source": [
    "class Model(nn.Module):\n",
    "    def __init__(self):\n",
    "        super(Model, self).__init__()\n",
    "        self.net = nn.Sequential(\n",
    "            nn.Linear(train_x.shape[1], 128),      # Increase the number of neurons\n",
    "            nn.ReLU(),\n",
    "            nn.Dropout(0.5),                # Add dropout for regularization\n",
    "            nn.Linear(128, 64),             # Add another layer\n",
    "            nn.ReLU(),\n",
    "            nn.Linear(64, 2),\n",
    "            nn.Softmax(dim=1)  \n",
    "        )\n",
    "    def forward(self, x):\n",
    "        return self.net(x)"
   ]
  },
  {
   "cell_type": "code",
   "execution_count": 4,
   "metadata": {
    "scrolled": true
   },
   "outputs": [
    {
     "data": {
      "text/html": [
       "<div>\n",
       "<style scoped>\n",
       "    .dataframe tbody tr th:only-of-type {\n",
       "        vertical-align: middle;\n",
       "    }\n",
       "\n",
       "    .dataframe tbody tr th {\n",
       "        vertical-align: top;\n",
       "    }\n",
       "\n",
       "    .dataframe thead th {\n",
       "        text-align: right;\n",
       "    }\n",
       "</style>\n",
       "<table border=\"1\" class=\"dataframe\">\n",
       "  <thead>\n",
       "    <tr style=\"text-align: right;\">\n",
       "      <th></th>\n",
       "      <th>age</th>\n",
       "      <th>workclass</th>\n",
       "      <th>education</th>\n",
       "      <th>education-num</th>\n",
       "      <th>marital-status</th>\n",
       "      <th>occupation</th>\n",
       "      <th>relationship</th>\n",
       "      <th>race</th>\n",
       "      <th>sex</th>\n",
       "      <th>hours-per-week</th>\n",
       "      <th>native-country</th>\n",
       "      <th>income</th>\n",
       "    </tr>\n",
       "  </thead>\n",
       "  <tbody>\n",
       "    <tr>\n",
       "      <th>0</th>\n",
       "      <td>54</td>\n",
       "      <td>Private</td>\n",
       "      <td>1st-4th</td>\n",
       "      <td>2</td>\n",
       "      <td>Married-civ-spouse</td>\n",
       "      <td>Other-service</td>\n",
       "      <td>Husband</td>\n",
       "      <td>White</td>\n",
       "      <td>Male</td>\n",
       "      <td>40</td>\n",
       "      <td>Mexico</td>\n",
       "      <td>&lt;=50K</td>\n",
       "    </tr>\n",
       "    <tr>\n",
       "      <th>1</th>\n",
       "      <td>24</td>\n",
       "      <td>Private</td>\n",
       "      <td>HS-grad</td>\n",
       "      <td>9</td>\n",
       "      <td>Married-civ-spouse</td>\n",
       "      <td>Exec-managerial</td>\n",
       "      <td>Husband</td>\n",
       "      <td>White</td>\n",
       "      <td>Male</td>\n",
       "      <td>50</td>\n",
       "      <td>United-States</td>\n",
       "      <td>&lt;=50K</td>\n",
       "    </tr>\n",
       "    <tr>\n",
       "      <th>2</th>\n",
       "      <td>20</td>\n",
       "      <td>Private</td>\n",
       "      <td>Some-college</td>\n",
       "      <td>10</td>\n",
       "      <td>Never-married</td>\n",
       "      <td>Machine-op-inspct</td>\n",
       "      <td>Own-child</td>\n",
       "      <td>White</td>\n",
       "      <td>Female</td>\n",
       "      <td>40</td>\n",
       "      <td>United-States</td>\n",
       "      <td>&lt;=50K</td>\n",
       "    </tr>\n",
       "    <tr>\n",
       "      <th>3</th>\n",
       "      <td>38</td>\n",
       "      <td>Self-emp-not-inc</td>\n",
       "      <td>Masters</td>\n",
       "      <td>14</td>\n",
       "      <td>Married-civ-spouse</td>\n",
       "      <td>Farming-fishing</td>\n",
       "      <td>Husband</td>\n",
       "      <td>White</td>\n",
       "      <td>Male</td>\n",
       "      <td>70</td>\n",
       "      <td>United-States</td>\n",
       "      <td>&lt;=50K</td>\n",
       "    </tr>\n",
       "    <tr>\n",
       "      <th>4</th>\n",
       "      <td>37</td>\n",
       "      <td>Private</td>\n",
       "      <td>Bachelors</td>\n",
       "      <td>13</td>\n",
       "      <td>Never-married</td>\n",
       "      <td>Tech-support</td>\n",
       "      <td>Not-in-family</td>\n",
       "      <td>White</td>\n",
       "      <td>Female</td>\n",
       "      <td>40</td>\n",
       "      <td>United-States</td>\n",
       "      <td>&lt;=50K</td>\n",
       "    </tr>\n",
       "  </tbody>\n",
       "</table>\n",
       "</div>"
      ],
      "text/plain": [
       "   age         workclass     education  education-num      marital-status  \\\n",
       "0   54           Private       1st-4th              2  Married-civ-spouse   \n",
       "1   24           Private       HS-grad              9  Married-civ-spouse   \n",
       "2   20           Private  Some-college             10       Never-married   \n",
       "3   38  Self-emp-not-inc       Masters             14  Married-civ-spouse   \n",
       "4   37           Private     Bachelors             13       Never-married   \n",
       "\n",
       "          occupation   relationship   race     sex  hours-per-week  \\\n",
       "0      Other-service        Husband  White    Male              40   \n",
       "1    Exec-managerial        Husband  White    Male              50   \n",
       "2  Machine-op-inspct      Own-child  White  Female              40   \n",
       "3    Farming-fishing        Husband  White    Male              70   \n",
       "4       Tech-support  Not-in-family  White  Female              40   \n",
       "\n",
       "  native-country income  \n",
       "0         Mexico  <=50K  \n",
       "1  United-States  <=50K  \n",
       "2  United-States  <=50K  \n",
       "3  United-States  <=50K  \n",
       "4  United-States  <=50K  "
      ]
     },
     "execution_count": 4,
     "metadata": {},
     "output_type": "execute_result"
    }
   ],
   "source": [
    "df = pd.read_csv(\"adult_300.csv\")\n",
    "df = df.drop(columns=['capital-gain', 'capital-loss'])\n",
    "df.head()"
   ]
  },
  {
   "cell_type": "code",
   "execution_count": 5,
   "metadata": {},
   "outputs": [
    {
     "data": {
      "text/html": [
       "<div>\n",
       "<style scoped>\n",
       "    .dataframe tbody tr th:only-of-type {\n",
       "        vertical-align: middle;\n",
       "    }\n",
       "\n",
       "    .dataframe tbody tr th {\n",
       "        vertical-align: top;\n",
       "    }\n",
       "\n",
       "    .dataframe thead th {\n",
       "        text-align: right;\n",
       "    }\n",
       "</style>\n",
       "<table border=\"1\" class=\"dataframe\">\n",
       "  <thead>\n",
       "    <tr style=\"text-align: right;\">\n",
       "      <th></th>\n",
       "      <th>age</th>\n",
       "      <th>workclass</th>\n",
       "      <th>education</th>\n",
       "      <th>education-num</th>\n",
       "      <th>marital-status</th>\n",
       "      <th>occupation</th>\n",
       "      <th>relationship</th>\n",
       "      <th>race</th>\n",
       "      <th>sex</th>\n",
       "      <th>hours-per-week</th>\n",
       "      <th>native-country</th>\n",
       "      <th>income</th>\n",
       "    </tr>\n",
       "  </thead>\n",
       "  <tbody>\n",
       "    <tr>\n",
       "      <th>0</th>\n",
       "      <td>37</td>\n",
       "      <td>2</td>\n",
       "      <td>3</td>\n",
       "      <td>0</td>\n",
       "      <td>1</td>\n",
       "      <td>6</td>\n",
       "      <td>0</td>\n",
       "      <td>4</td>\n",
       "      <td>1</td>\n",
       "      <td>21</td>\n",
       "      <td>11</td>\n",
       "      <td>0</td>\n",
       "    </tr>\n",
       "    <tr>\n",
       "      <th>1</th>\n",
       "      <td>7</td>\n",
       "      <td>2</td>\n",
       "      <td>11</td>\n",
       "      <td>7</td>\n",
       "      <td>1</td>\n",
       "      <td>2</td>\n",
       "      <td>0</td>\n",
       "      <td>4</td>\n",
       "      <td>1</td>\n",
       "      <td>28</td>\n",
       "      <td>17</td>\n",
       "      <td>0</td>\n",
       "    </tr>\n",
       "    <tr>\n",
       "      <th>2</th>\n",
       "      <td>3</td>\n",
       "      <td>2</td>\n",
       "      <td>14</td>\n",
       "      <td>8</td>\n",
       "      <td>3</td>\n",
       "      <td>5</td>\n",
       "      <td>3</td>\n",
       "      <td>4</td>\n",
       "      <td>0</td>\n",
       "      <td>21</td>\n",
       "      <td>17</td>\n",
       "      <td>0</td>\n",
       "    </tr>\n",
       "    <tr>\n",
       "      <th>3</th>\n",
       "      <td>21</td>\n",
       "      <td>4</td>\n",
       "      <td>12</td>\n",
       "      <td>12</td>\n",
       "      <td>1</td>\n",
       "      <td>3</td>\n",
       "      <td>0</td>\n",
       "      <td>4</td>\n",
       "      <td>1</td>\n",
       "      <td>36</td>\n",
       "      <td>17</td>\n",
       "      <td>0</td>\n",
       "    </tr>\n",
       "    <tr>\n",
       "      <th>4</th>\n",
       "      <td>20</td>\n",
       "      <td>2</td>\n",
       "      <td>9</td>\n",
       "      <td>11</td>\n",
       "      <td>3</td>\n",
       "      <td>10</td>\n",
       "      <td>1</td>\n",
       "      <td>4</td>\n",
       "      <td>0</td>\n",
       "      <td>21</td>\n",
       "      <td>17</td>\n",
       "      <td>0</td>\n",
       "    </tr>\n",
       "  </tbody>\n",
       "</table>\n",
       "</div>"
      ],
      "text/plain": [
       "   age  workclass  education  education-num  marital-status  occupation  \\\n",
       "0   37          2          3              0               1           6   \n",
       "1    7          2         11              7               1           2   \n",
       "2    3          2         14              8               3           5   \n",
       "3   21          4         12             12               1           3   \n",
       "4   20          2          9             11               3          10   \n",
       "\n",
       "   relationship  race  sex  hours-per-week  native-country  income  \n",
       "0             0     4    1              21              11       0  \n",
       "1             0     4    1              28              17       0  \n",
       "2             3     4    0              21              17       0  \n",
       "3             0     4    1              36              17       0  \n",
       "4             1     4    0              21              17       0  "
      ]
     },
     "execution_count": 5,
     "metadata": {},
     "output_type": "execute_result"
    }
   ],
   "source": [
    "# Function to apply LabelEncoder on multiple columns\n",
    "def label_encode_columns(df, columns):\n",
    "    le = LabelEncoder()\n",
    "    for column in columns:\n",
    "        df[column] = le.fit_transform(df[column])\n",
    "    return df\n",
    "\n",
    "# Apply LabelEncoder on the specified columns\n",
    "df_encoded = label_encode_columns(df, df.columns)\n",
    "df_encoded.head()"
   ]
  },
  {
   "cell_type": "code",
   "execution_count": 6,
   "metadata": {},
   "outputs": [
    {
     "name": "stdout",
     "output_type": "stream",
     "text": [
      "<class 'numpy.ndarray'>\n",
      "(300, 11)\n",
      "<class 'numpy.ndarray'>\n",
      "(300,)\n"
     ]
    }
   ],
   "source": [
    "# transform pandas type into numpy type\n",
    "adult_x = df[['age', 'workclass', 'education', 'education-num', 'marital-status', 'occupation', 'relationship', 'race', 'sex', 'hours-per-week', 'native-country']].values\n",
    "adult_y = df['income'].values\n",
    "print(type(adult_x))\n",
    "print(adult_x.shape)\n",
    "print(type(adult_y))\n",
    "print(adult_y.shape)"
   ]
  },
  {
   "cell_type": "code",
   "execution_count": 7,
   "metadata": {},
   "outputs": [],
   "source": [
    "# normalize\n",
    "minmax = MinMaxScaler()\n",
    "adult_x = minmax.fit_transform(adult_x)"
   ]
  },
  {
   "cell_type": "code",
   "execution_count": 8,
   "metadata": {},
   "outputs": [
    {
     "name": "stdout",
     "output_type": "stream",
     "text": [
      "(240, 11)\n",
      "(240,)\n",
      "(30, 11)\n",
      "(30,)\n",
      "(30, 11)\n",
      "(30,)\n"
     ]
    }
   ],
   "source": [
    "# split dataset into training and validation\n",
    "train_x, valid_x, train_y, valid_y = train_test_split(adult_x, adult_y, test_size=0.2, random_state=1)\n",
    "valid_x, test_x, valid_y, test_y = train_test_split(valid_x, valid_y, test_size=0.5, random_state=1)\n",
    "print(train_x.shape)\n",
    "print(train_y.shape)\n",
    "print(valid_x.shape)\n",
    "print(valid_y.shape)\n",
    "print(test_x.shape)\n",
    "print(test_y.shape)"
   ]
  },
  {
   "cell_type": "code",
   "execution_count": 9,
   "metadata": {},
   "outputs": [],
   "source": [
    "train_x = torch.tensor(train_x, dtype=torch.float32)\n",
    "valid_x = torch.tensor(valid_x, dtype=torch.float32)\n",
    "test_x = torch.tensor(test_x, dtype=torch.float32)\n",
    "train_y = torch.tensor(train_y, dtype=torch.long)\n",
    "valid_y = torch.tensor(valid_y, dtype=torch.long)\n",
    "test_y = torch.tensor(test_y, dtype=torch.long)"
   ]
  },
  {
   "cell_type": "code",
   "execution_count": 10,
   "metadata": {},
   "outputs": [],
   "source": [
    "train_set = dataset(train_x, train_y)\n",
    "valid_set = dataset(valid_x, valid_y)\n",
    "test_set = dataset(test_x, test_y)\n",
    "batch_size = 8\n",
    "train_loader = DataLoader(dataset=train_set, batch_size=batch_size, shuffle=True)\n",
    "valid_loader = DataLoader(dataset=valid_set, batch_size=batch_size, shuffle=False)\n",
    "test_loader = DataLoader(dataset=test_set, batch_size=batch_size, shuffle=False)"
   ]
  },
  {
   "cell_type": "code",
   "execution_count": 11,
   "metadata": {},
   "outputs": [
    {
     "name": "stdout",
     "output_type": "stream",
     "text": [
      "Model(\n",
      "  (net): Sequential(\n",
      "    (0): Linear(in_features=11, out_features=128, bias=True)\n",
      "    (1): ReLU()\n",
      "    (2): Dropout(p=0.5, inplace=False)\n",
      "    (3): Linear(in_features=128, out_features=64, bias=True)\n",
      "    (4): ReLU()\n",
      "    (5): Linear(in_features=64, out_features=2, bias=True)\n",
      "    (6): Softmax(dim=1)\n",
      "  )\n",
      ")\n",
      "Running Epoch:1\n"
     ]
    },
    {
     "name": "stderr",
     "output_type": "stream",
     "text": [
      "Epoch 1 - Training: 100%|██████████████████████████████████████████████████████████████| 30/30 [00:00<00:00, 207.26it/s]\n"
     ]
    },
    {
     "name": "stdout",
     "output_type": "stream",
     "text": [
      "Training Loss= 0.6938807348410289\n",
      "Training Acc(%)= 50.0\n",
      "Validation Acc(%)= 53.333333333333336\n",
      "Running Epoch:2\n"
     ]
    },
    {
     "name": "stderr",
     "output_type": "stream",
     "text": [
      "Epoch 2 - Training: 100%|██████████████████████████████████████████████████████████████| 30/30 [00:00<00:00, 631.52it/s]\n"
     ]
    },
    {
     "name": "stdout",
     "output_type": "stream",
     "text": [
      "Training Loss= 0.6857130686442058\n",
      "Training Acc(%)= 56.25\n",
      "Validation Acc(%)= 70.0\n",
      "Running Epoch:3\n"
     ]
    },
    {
     "name": "stderr",
     "output_type": "stream",
     "text": [
      "Epoch 3 - Training: 100%|██████████████████████████████████████████████████████████████| 30/30 [00:00<00:00, 696.86it/s]\n"
     ]
    },
    {
     "name": "stdout",
     "output_type": "stream",
     "text": [
      "Training Loss= 0.6757097025712331\n",
      "Training Acc(%)= 58.333333333333336\n",
      "Validation Acc(%)= 73.33333333333333\n",
      "Running Epoch:4\n"
     ]
    },
    {
     "name": "stderr",
     "output_type": "stream",
     "text": [
      "Epoch 4 - Training: 100%|██████████████████████████████████████████████████████████████| 30/30 [00:00<00:00, 644.32it/s]\n"
     ]
    },
    {
     "name": "stdout",
     "output_type": "stream",
     "text": [
      "Training Loss= 0.6617822428544362\n",
      "Training Acc(%)= 65.41666666666667\n",
      "Validation Acc(%)= 76.66666666666667\n",
      "Running Epoch:5\n"
     ]
    },
    {
     "name": "stderr",
     "output_type": "stream",
     "text": [
      "Epoch 5 - Training: 100%|██████████████████████████████████████████████████████████████| 30/30 [00:00<00:00, 753.29it/s]\n"
     ]
    },
    {
     "name": "stdout",
     "output_type": "stream",
     "text": [
      "Training Loss= 0.6341152966022492\n",
      "Training Acc(%)= 70.0\n",
      "Validation Acc(%)= 76.66666666666667\n",
      "Running Epoch:6\n"
     ]
    },
    {
     "name": "stderr",
     "output_type": "stream",
     "text": [
      "Epoch 6 - Training: 100%|██████████████████████████████████████████████████████████████| 30/30 [00:00<00:00, 722.69it/s]\n"
     ]
    },
    {
     "name": "stdout",
     "output_type": "stream",
     "text": [
      "Training Loss= 0.6259933481613795\n",
      "Training Acc(%)= 67.91666666666667\n",
      "Validation Acc(%)= 70.0\n",
      "Running Epoch:7\n"
     ]
    },
    {
     "name": "stderr",
     "output_type": "stream",
     "text": [
      "Epoch 7 - Training: 100%|██████████████████████████████████████████████████████████████| 30/30 [00:00<00:00, 701.17it/s]\n"
     ]
    },
    {
     "name": "stdout",
     "output_type": "stream",
     "text": [
      "Training Loss= 0.602652923266093\n",
      "Training Acc(%)= 71.25\n",
      "Validation Acc(%)= 76.66666666666667\n",
      "Running Epoch:8\n"
     ]
    },
    {
     "name": "stderr",
     "output_type": "stream",
     "text": [
      "Epoch 8 - Training: 100%|██████████████████████████████████████████████████████████████| 30/30 [00:00<00:00, 673.88it/s]\n"
     ]
    },
    {
     "name": "stdout",
     "output_type": "stream",
     "text": [
      "Training Loss= 0.5929299314816793\n",
      "Training Acc(%)= 70.41666666666667\n",
      "Validation Acc(%)= 73.33333333333333\n",
      "Running Epoch:9\n"
     ]
    },
    {
     "name": "stderr",
     "output_type": "stream",
     "text": [
      "Epoch 9 - Training: 100%|██████████████████████████████████████████████████████████████| 30/30 [00:00<00:00, 664.38it/s]\n"
     ]
    },
    {
     "name": "stdout",
     "output_type": "stream",
     "text": [
      "Training Loss= 0.5923963834842046\n",
      "Training Acc(%)= 69.58333333333333\n",
      "Validation Acc(%)= 76.66666666666667\n",
      "Running Epoch:10\n"
     ]
    },
    {
     "name": "stderr",
     "output_type": "stream",
     "text": [
      "Epoch 10 - Training: 100%|█████████████████████████████████████████████████████████████| 30/30 [00:00<00:00, 726.82it/s]\n"
     ]
    },
    {
     "name": "stdout",
     "output_type": "stream",
     "text": [
      "Training Loss= 0.5748021513223648\n",
      "Training Acc(%)= 72.5\n",
      "Validation Acc(%)= 76.66666666666667\n",
      "Running Epoch:11\n"
     ]
    },
    {
     "name": "stderr",
     "output_type": "stream",
     "text": [
      "Epoch 11 - Training: 100%|█████████████████████████████████████████████████████████████| 30/30 [00:00<00:00, 757.26it/s]\n"
     ]
    },
    {
     "name": "stdout",
     "output_type": "stream",
     "text": [
      "Training Loss= 0.5923497766256333\n",
      "Training Acc(%)= 69.58333333333333\n",
      "Validation Acc(%)= 73.33333333333333\n",
      "Running Epoch:12\n"
     ]
    },
    {
     "name": "stderr",
     "output_type": "stream",
     "text": [
      "Epoch 12 - Training: 100%|█████████████████████████████████████████████████████████████| 30/30 [00:00<00:00, 703.80it/s]\n"
     ]
    },
    {
     "name": "stdout",
     "output_type": "stream",
     "text": [
      "Training Loss= 0.5654294987519582\n",
      "Training Acc(%)= 76.66666666666667\n",
      "Validation Acc(%)= 76.66666666666667\n",
      "Running Epoch:13\n"
     ]
    },
    {
     "name": "stderr",
     "output_type": "stream",
     "text": [
      "Epoch 13 - Training: 100%|█████████████████████████████████████████████████████████████| 30/30 [00:00<00:00, 746.82it/s]\n"
     ]
    },
    {
     "name": "stdout",
     "output_type": "stream",
     "text": [
      "Training Loss= 0.5535187393426895\n",
      "Training Acc(%)= 74.58333333333333\n",
      "Validation Acc(%)= 76.66666666666667\n",
      "Running Epoch:14\n"
     ]
    },
    {
     "name": "stderr",
     "output_type": "stream",
     "text": [
      "Epoch 14 - Training: 100%|█████████████████████████████████████████████████████████████| 30/30 [00:00<00:00, 733.30it/s]\n"
     ]
    },
    {
     "name": "stdout",
     "output_type": "stream",
     "text": [
      "Training Loss= 0.5506537288427353\n",
      "Training Acc(%)= 75.83333333333333\n",
      "Validation Acc(%)= 73.33333333333333\n",
      "Running Epoch:15\n"
     ]
    },
    {
     "name": "stderr",
     "output_type": "stream",
     "text": [
      "Epoch 15 - Training: 100%|█████████████████████████████████████████████████████████████| 30/30 [00:00<00:00, 661.77it/s]\n"
     ]
    },
    {
     "name": "stdout",
     "output_type": "stream",
     "text": [
      "Training Loss= 0.5535453766584396\n",
      "Training Acc(%)= 75.83333333333333\n",
      "Validation Acc(%)= 76.66666666666667\n",
      "Running Epoch:16\n"
     ]
    },
    {
     "name": "stderr",
     "output_type": "stream",
     "text": [
      "Epoch 16 - Training: 100%|█████████████████████████████████████████████████████████████| 30/30 [00:00<00:00, 764.12it/s]\n"
     ]
    },
    {
     "name": "stdout",
     "output_type": "stream",
     "text": [
      "Training Loss= 0.5546579271554947\n",
      "Training Acc(%)= 75.83333333333333\n",
      "Validation Acc(%)= 73.33333333333333\n",
      "Running Epoch:17\n"
     ]
    },
    {
     "name": "stderr",
     "output_type": "stream",
     "text": [
      "Epoch 17 - Training: 100%|█████████████████████████████████████████████████████████████| 30/30 [00:00<00:00, 776.22it/s]\n"
     ]
    },
    {
     "name": "stdout",
     "output_type": "stream",
     "text": [
      "Training Loss= 0.5459185550610225\n",
      "Training Acc(%)= 75.41666666666667\n",
      "Validation Acc(%)= 76.66666666666667\n",
      "Running Epoch:18\n"
     ]
    },
    {
     "name": "stderr",
     "output_type": "stream",
     "text": [
      "Epoch 18 - Training: 100%|█████████████████████████████████████████████████████████████| 30/30 [00:00<00:00, 752.97it/s]\n"
     ]
    },
    {
     "name": "stdout",
     "output_type": "stream",
     "text": [
      "Training Loss= 0.546530353029569\n",
      "Training Acc(%)= 75.41666666666667\n",
      "Validation Acc(%)= 73.33333333333333\n",
      "Running Epoch:19\n"
     ]
    },
    {
     "name": "stderr",
     "output_type": "stream",
     "text": [
      "Epoch 19 - Training: 100%|█████████████████████████████████████████████████████████████| 30/30 [00:00<00:00, 663.48it/s]\n"
     ]
    },
    {
     "name": "stdout",
     "output_type": "stream",
     "text": [
      "Training Loss= 0.5446838180224101\n",
      "Training Acc(%)= 75.83333333333333\n",
      "Validation Acc(%)= 80.0\n",
      "Running Epoch:20\n"
     ]
    },
    {
     "name": "stderr",
     "output_type": "stream",
     "text": [
      "Epoch 20 - Training: 100%|█████████████████████████████████████████████████████████████| 30/30 [00:00<00:00, 767.01it/s]\n"
     ]
    },
    {
     "name": "stdout",
     "output_type": "stream",
     "text": [
      "Training Loss= 0.5570584843556087\n",
      "Training Acc(%)= 72.91666666666666\n",
      "Validation Acc(%)= 73.33333333333333\n",
      "Running Epoch:21\n"
     ]
    },
    {
     "name": "stderr",
     "output_type": "stream",
     "text": [
      "Epoch 21 - Training: 100%|█████████████████████████████████████████████████████████████| 30/30 [00:00<00:00, 755.68it/s]\n"
     ]
    },
    {
     "name": "stdout",
     "output_type": "stream",
     "text": [
      "Training Loss= 0.5285178005695343\n",
      "Training Acc(%)= 79.16666666666666\n",
      "Validation Acc(%)= 80.0\n",
      "Running Epoch:22\n"
     ]
    },
    {
     "name": "stderr",
     "output_type": "stream",
     "text": [
      "Epoch 22 - Training: 100%|█████████████████████████████████████████████████████████████| 30/30 [00:00<00:00, 795.50it/s]\n"
     ]
    },
    {
     "name": "stdout",
     "output_type": "stream",
     "text": [
      "Training Loss= 0.538557709256808\n",
      "Training Acc(%)= 77.5\n",
      "Validation Acc(%)= 76.66666666666667\n",
      "Running Epoch:23\n"
     ]
    },
    {
     "name": "stderr",
     "output_type": "stream",
     "text": [
      "Epoch 23 - Training: 100%|█████████████████████████████████████████████████████████████| 30/30 [00:00<00:00, 752.61it/s]\n"
     ]
    },
    {
     "name": "stdout",
     "output_type": "stream",
     "text": [
      "Training Loss= 0.5372201104958853\n",
      "Training Acc(%)= 77.08333333333334\n",
      "Validation Acc(%)= 76.66666666666667\n",
      "Running Epoch:24\n"
     ]
    },
    {
     "name": "stderr",
     "output_type": "stream",
     "text": [
      "Epoch 24 - Training: 100%|█████████████████████████████████████████████████████████████| 30/30 [00:00<00:00, 723.70it/s]\n"
     ]
    },
    {
     "name": "stdout",
     "output_type": "stream",
     "text": [
      "Training Loss= 0.5319339066743851\n",
      "Training Acc(%)= 78.33333333333333\n",
      "Validation Acc(%)= 73.33333333333333\n",
      "Running Epoch:25\n"
     ]
    },
    {
     "name": "stderr",
     "output_type": "stream",
     "text": [
      "Epoch 25 - Training: 100%|█████████████████████████████████████████████████████████████| 30/30 [00:00<00:00, 777.26it/s]\n"
     ]
    },
    {
     "name": "stdout",
     "output_type": "stream",
     "text": [
      "Training Loss= 0.5302207837502162\n",
      "Training Acc(%)= 77.08333333333334\n",
      "Validation Acc(%)= 80.0\n",
      "Running Epoch:26\n"
     ]
    },
    {
     "name": "stderr",
     "output_type": "stream",
     "text": [
      "Epoch 26 - Training: 100%|█████████████████████████████████████████████████████████████| 30/30 [00:00<00:00, 831.11it/s]\n"
     ]
    },
    {
     "name": "stdout",
     "output_type": "stream",
     "text": [
      "Training Loss= 0.5122477094332377\n",
      "Training Acc(%)= 78.33333333333333\n",
      "Validation Acc(%)= 73.33333333333333\n",
      "Running Epoch:27\n"
     ]
    },
    {
     "name": "stderr",
     "output_type": "stream",
     "text": [
      "Epoch 27 - Training: 100%|█████████████████████████████████████████████████████████████| 30/30 [00:00<00:00, 828.07it/s]\n"
     ]
    },
    {
     "name": "stdout",
     "output_type": "stream",
     "text": [
      "Training Loss= 0.5332946221033732\n",
      "Training Acc(%)= 77.5\n",
      "Validation Acc(%)= 73.33333333333333\n",
      "Running Epoch:28\n"
     ]
    },
    {
     "name": "stderr",
     "output_type": "stream",
     "text": [
      "Epoch 28 - Training: 100%|█████████████████████████████████████████████████████████████| 30/30 [00:00<00:00, 812.64it/s]\n"
     ]
    },
    {
     "name": "stdout",
     "output_type": "stream",
     "text": [
      "Training Loss= 0.5135386705398559\n",
      "Training Acc(%)= 79.16666666666666\n",
      "Validation Acc(%)= 76.66666666666667\n",
      "Running Epoch:29\n"
     ]
    },
    {
     "name": "stderr",
     "output_type": "stream",
     "text": [
      "Epoch 29 - Training: 100%|█████████████████████████████████████████████████████████████| 30/30 [00:00<00:00, 757.30it/s]\n"
     ]
    },
    {
     "name": "stdout",
     "output_type": "stream",
     "text": [
      "Training Loss= 0.5307720084985097\n",
      "Training Acc(%)= 77.5\n",
      "Validation Acc(%)= 76.66666666666667\n",
      "Running Epoch:30\n"
     ]
    },
    {
     "name": "stderr",
     "output_type": "stream",
     "text": [
      "Epoch 30 - Training: 100%|█████████████████████████████████████████████████████████████| 30/30 [00:00<00:00, 861.92it/s]\n"
     ]
    },
    {
     "name": "stdout",
     "output_type": "stream",
     "text": [
      "Training Loss= 0.5044446339209875\n",
      "Training Acc(%)= 80.41666666666667\n",
      "Validation Acc(%)= 80.0\n",
      "Running Epoch:31\n"
     ]
    },
    {
     "name": "stderr",
     "output_type": "stream",
     "text": [
      "Epoch 31 - Training: 100%|█████████████████████████████████████████████████████████████| 30/30 [00:00<00:00, 708.66it/s]\n"
     ]
    },
    {
     "name": "stdout",
     "output_type": "stream",
     "text": [
      "Training Loss= 0.5159151524305343\n",
      "Training Acc(%)= 80.0\n",
      "Validation Acc(%)= 73.33333333333333\n",
      "Running Epoch:32\n"
     ]
    },
    {
     "name": "stderr",
     "output_type": "stream",
     "text": [
      "Epoch 32 - Training: 100%|█████████████████████████████████████████████████████████████| 30/30 [00:00<00:00, 744.09it/s]\n"
     ]
    },
    {
     "name": "stdout",
     "output_type": "stream",
     "text": [
      "Training Loss= 0.49621117611726123\n",
      "Training Acc(%)= 81.25\n",
      "Validation Acc(%)= 73.33333333333333\n",
      "Running Epoch:33\n"
     ]
    },
    {
     "name": "stderr",
     "output_type": "stream",
     "text": [
      "Epoch 33 - Training: 100%|█████████████████████████████████████████████████████████████| 30/30 [00:00<00:00, 809.07it/s]\n"
     ]
    },
    {
     "name": "stdout",
     "output_type": "stream",
     "text": [
      "Training Loss= 0.4993816723426183\n",
      "Training Acc(%)= 78.75\n",
      "Validation Acc(%)= 76.66666666666667\n",
      "Running Epoch:34\n"
     ]
    },
    {
     "name": "stderr",
     "output_type": "stream",
     "text": [
      "Epoch 34 - Training: 100%|█████████████████████████████████████████████████████████████| 30/30 [00:00<00:00, 800.23it/s]\n"
     ]
    },
    {
     "name": "stdout",
     "output_type": "stream",
     "text": [
      "Training Loss= 0.5253748774528504\n",
      "Training Acc(%)= 76.25\n",
      "Validation Acc(%)= 76.66666666666667\n",
      "Running Epoch:35\n"
     ]
    },
    {
     "name": "stderr",
     "output_type": "stream",
     "text": [
      "Epoch 35 - Training: 100%|█████████████████████████████████████████████████████████████| 30/30 [00:00<00:00, 812.22it/s]\n"
     ]
    },
    {
     "name": "stdout",
     "output_type": "stream",
     "text": [
      "Training Loss= 0.5042464107275009\n",
      "Training Acc(%)= 80.41666666666667\n",
      "Validation Acc(%)= 76.66666666666667\n",
      "Running Epoch:36\n"
     ]
    },
    {
     "name": "stderr",
     "output_type": "stream",
     "text": [
      "Epoch 36 - Training: 100%|█████████████████████████████████████████████████████████████| 30/30 [00:00<00:00, 761.17it/s]\n"
     ]
    },
    {
     "name": "stdout",
     "output_type": "stream",
     "text": [
      "Training Loss= 0.49287550449371337\n",
      "Training Acc(%)= 80.83333333333333\n",
      "Validation Acc(%)= 76.66666666666667\n",
      "Running Epoch:37\n"
     ]
    },
    {
     "name": "stderr",
     "output_type": "stream",
     "text": [
      "Epoch 37 - Training: 100%|█████████████████████████████████████████████████████████████| 30/30 [00:00<00:00, 776.35it/s]\n"
     ]
    },
    {
     "name": "stdout",
     "output_type": "stream",
     "text": [
      "Training Loss= 0.5069875091314315\n",
      "Training Acc(%)= 80.0\n",
      "Validation Acc(%)= 76.66666666666667\n",
      "Running Epoch:38\n"
     ]
    },
    {
     "name": "stderr",
     "output_type": "stream",
     "text": [
      "Epoch 38 - Training: 100%|█████████████████████████████████████████████████████████████| 30/30 [00:00<00:00, 763.50it/s]\n"
     ]
    },
    {
     "name": "stdout",
     "output_type": "stream",
     "text": [
      "Training Loss= 0.5075113922357559\n",
      "Training Acc(%)= 80.0\n",
      "Validation Acc(%)= 76.66666666666667\n",
      "Running Epoch:39\n"
     ]
    },
    {
     "name": "stderr",
     "output_type": "stream",
     "text": [
      "Epoch 39 - Training: 100%|█████████████████████████████████████████████████████████████| 30/30 [00:00<00:00, 754.85it/s]\n"
     ]
    },
    {
     "name": "stdout",
     "output_type": "stream",
     "text": [
      "Training Loss= 0.5073424220085144\n",
      "Training Acc(%)= 80.41666666666667\n",
      "Validation Acc(%)= 80.0\n",
      "Running Epoch:40\n"
     ]
    },
    {
     "name": "stderr",
     "output_type": "stream",
     "text": [
      "Epoch 40 - Training: 100%|█████████████████████████████████████████████████████████████| 30/30 [00:00<00:00, 820.56it/s]\n"
     ]
    },
    {
     "name": "stdout",
     "output_type": "stream",
     "text": [
      "Training Loss= 0.513355995217959\n",
      "Training Acc(%)= 78.75\n",
      "Validation Acc(%)= 76.66666666666667\n",
      "Running Epoch:41\n"
     ]
    },
    {
     "name": "stderr",
     "output_type": "stream",
     "text": [
      "Epoch 41 - Training: 100%|█████████████████████████████████████████████████████████████| 30/30 [00:00<00:00, 801.37it/s]\n"
     ]
    },
    {
     "name": "stdout",
     "output_type": "stream",
     "text": [
      "Training Loss= 0.528077487150828\n",
      "Training Acc(%)= 77.5\n",
      "Validation Acc(%)= 76.66666666666667\n",
      "Running Epoch:42\n"
     ]
    },
    {
     "name": "stderr",
     "output_type": "stream",
     "text": [
      "Epoch 42 - Training: 100%|█████████████████████████████████████████████████████████████| 30/30 [00:00<00:00, 814.19it/s]\n"
     ]
    },
    {
     "name": "stdout",
     "output_type": "stream",
     "text": [
      "Training Loss= 0.5012452910343806\n",
      "Training Acc(%)= 79.58333333333333\n",
      "Validation Acc(%)= 80.0\n",
      "Running Epoch:43\n"
     ]
    },
    {
     "name": "stderr",
     "output_type": "stream",
     "text": [
      "Epoch 43 - Training: 100%|█████████████████████████████████████████████████████████████| 30/30 [00:00<00:00, 750.05it/s]\n"
     ]
    },
    {
     "name": "stdout",
     "output_type": "stream",
     "text": [
      "Training Loss= 0.5144532243410747\n",
      "Training Acc(%)= 79.58333333333333\n",
      "Validation Acc(%)= 73.33333333333333\n",
      "Running Epoch:44\n"
     ]
    },
    {
     "name": "stderr",
     "output_type": "stream",
     "text": [
      "Epoch 44 - Training: 100%|█████████████████████████████████████████████████████████████| 30/30 [00:00<00:00, 654.17it/s]\n"
     ]
    },
    {
     "name": "stdout",
     "output_type": "stream",
     "text": [
      "Training Loss= 0.501376728216807\n",
      "Training Acc(%)= 80.41666666666667\n",
      "Validation Acc(%)= 73.33333333333333\n",
      "Running Epoch:45\n"
     ]
    },
    {
     "name": "stderr",
     "output_type": "stream",
     "text": [
      "Epoch 45 - Training: 100%|█████████████████████████████████████████████████████████████| 30/30 [00:00<00:00, 691.41it/s]\n"
     ]
    },
    {
     "name": "stdout",
     "output_type": "stream",
     "text": [
      "Training Loss= 0.5112190802892049\n",
      "Training Acc(%)= 80.41666666666667\n",
      "Validation Acc(%)= 76.66666666666667\n",
      "Running Epoch:46\n"
     ]
    },
    {
     "name": "stderr",
     "output_type": "stream",
     "text": [
      "Epoch 46 - Training: 100%|█████████████████████████████████████████████████████████████| 30/30 [00:00<00:00, 706.73it/s]\n"
     ]
    },
    {
     "name": "stdout",
     "output_type": "stream",
     "text": [
      "Training Loss= 0.5048762877782186\n",
      "Training Acc(%)= 80.83333333333333\n",
      "Validation Acc(%)= 76.66666666666667\n",
      "Running Epoch:47\n"
     ]
    },
    {
     "name": "stderr",
     "output_type": "stream",
     "text": [
      "Epoch 47 - Training: 100%|█████████████████████████████████████████████████████████████| 30/30 [00:00<00:00, 814.01it/s]\n"
     ]
    },
    {
     "name": "stdout",
     "output_type": "stream",
     "text": [
      "Training Loss= 0.4941642194986343\n",
      "Training Acc(%)= 82.08333333333333\n",
      "Validation Acc(%)= 73.33333333333333\n",
      "Running Epoch:48\n"
     ]
    },
    {
     "name": "stderr",
     "output_type": "stream",
     "text": [
      "Epoch 48 - Training: 100%|█████████████████████████████████████████████████████████████| 30/30 [00:00<00:00, 786.39it/s]\n"
     ]
    },
    {
     "name": "stdout",
     "output_type": "stream",
     "text": [
      "Training Loss= 0.5178485542535782\n",
      "Training Acc(%)= 78.33333333333333\n",
      "Validation Acc(%)= 80.0\n",
      "Running Epoch:49\n"
     ]
    },
    {
     "name": "stderr",
     "output_type": "stream",
     "text": [
      "Epoch 49 - Training: 100%|█████████████████████████████████████████████████████████████| 30/30 [00:00<00:00, 815.73it/s]\n"
     ]
    },
    {
     "name": "stdout",
     "output_type": "stream",
     "text": [
      "Training Loss= 0.49624217649300895\n",
      "Training Acc(%)= 81.25\n",
      "Validation Acc(%)= 73.33333333333333\n",
      "Running Epoch:50\n"
     ]
    },
    {
     "name": "stderr",
     "output_type": "stream",
     "text": [
      "Epoch 50 - Training: 100%|█████████████████████████████████████████████████████████████| 30/30 [00:00<00:00, 817.57it/s]\n"
     ]
    },
    {
     "name": "stdout",
     "output_type": "stream",
     "text": [
      "Training Loss= 0.5046435207128525\n",
      "Training Acc(%)= 80.41666666666667\n",
      "Validation Acc(%)= 76.66666666666667\n",
      "Running Epoch:51\n"
     ]
    },
    {
     "name": "stderr",
     "output_type": "stream",
     "text": [
      "Epoch 51 - Training: 100%|█████████████████████████████████████████████████████████████| 30/30 [00:00<00:00, 745.16it/s]\n"
     ]
    },
    {
     "name": "stdout",
     "output_type": "stream",
     "text": [
      "Training Loss= 0.5005369911591212\n",
      "Training Acc(%)= 82.91666666666667\n",
      "Validation Acc(%)= 76.66666666666667\n",
      "Running Epoch:52\n"
     ]
    },
    {
     "name": "stderr",
     "output_type": "stream",
     "text": [
      "Epoch 52 - Training: 100%|█████████████████████████████████████████████████████████████| 30/30 [00:00<00:00, 677.50it/s]\n"
     ]
    },
    {
     "name": "stdout",
     "output_type": "stream",
     "text": [
      "Training Loss= 0.48745534420013426\n",
      "Training Acc(%)= 81.66666666666667\n",
      "Validation Acc(%)= 76.66666666666667\n",
      "Running Epoch:53\n"
     ]
    },
    {
     "name": "stderr",
     "output_type": "stream",
     "text": [
      "Epoch 53 - Training: 100%|█████████████████████████████████████████████████████████████| 30/30 [00:00<00:00, 743.50it/s]\n"
     ]
    },
    {
     "name": "stdout",
     "output_type": "stream",
     "text": [
      "Training Loss= 0.4950946549574534\n",
      "Training Acc(%)= 82.08333333333333\n",
      "Validation Acc(%)= 76.66666666666667\n",
      "Running Epoch:54\n"
     ]
    },
    {
     "name": "stderr",
     "output_type": "stream",
     "text": [
      "Epoch 54 - Training: 100%|█████████████████████████████████████████████████████████████| 30/30 [00:00<00:00, 718.51it/s]\n"
     ]
    },
    {
     "name": "stdout",
     "output_type": "stream",
     "text": [
      "Training Loss= 0.5004551460345587\n",
      "Training Acc(%)= 81.25\n",
      "Validation Acc(%)= 73.33333333333333\n",
      "Running Epoch:55\n"
     ]
    },
    {
     "name": "stderr",
     "output_type": "stream",
     "text": [
      "Epoch 55 - Training: 100%|█████████████████████████████████████████████████████████████| 30/30 [00:00<00:00, 776.16it/s]\n"
     ]
    },
    {
     "name": "stdout",
     "output_type": "stream",
     "text": [
      "Training Loss= 0.4962517738342285\n",
      "Training Acc(%)= 80.0\n",
      "Validation Acc(%)= 76.66666666666667\n",
      "Running Epoch:56\n"
     ]
    },
    {
     "name": "stderr",
     "output_type": "stream",
     "text": [
      "Epoch 56 - Training: 100%|█████████████████████████████████████████████████████████████| 30/30 [00:00<00:00, 800.62it/s]\n"
     ]
    },
    {
     "name": "stdout",
     "output_type": "stream",
     "text": [
      "Training Loss= 0.485960907737414\n",
      "Training Acc(%)= 83.75\n",
      "Validation Acc(%)= 76.66666666666667\n",
      "Running Epoch:57\n"
     ]
    },
    {
     "name": "stderr",
     "output_type": "stream",
     "text": [
      "Epoch 57 - Training: 100%|█████████████████████████████████████████████████████████████| 30/30 [00:00<00:00, 803.30it/s]\n"
     ]
    },
    {
     "name": "stdout",
     "output_type": "stream",
     "text": [
      "Training Loss= 0.4994604418675105\n",
      "Training Acc(%)= 82.5\n",
      "Validation Acc(%)= 76.66666666666667\n",
      "Running Epoch:58\n"
     ]
    },
    {
     "name": "stderr",
     "output_type": "stream",
     "text": [
      "Epoch 58 - Training: 100%|█████████████████████████████████████████████████████████████| 30/30 [00:00<00:00, 807.59it/s]\n"
     ]
    },
    {
     "name": "stdout",
     "output_type": "stream",
     "text": [
      "Training Loss= 0.4976178526878357\n",
      "Training Acc(%)= 81.66666666666667\n",
      "Validation Acc(%)= 73.33333333333333\n",
      "Running Epoch:59\n"
     ]
    },
    {
     "name": "stderr",
     "output_type": "stream",
     "text": [
      "Epoch 59 - Training: 100%|█████████████████████████████████████████████████████████████| 30/30 [00:00<00:00, 815.95it/s]\n"
     ]
    },
    {
     "name": "stdout",
     "output_type": "stream",
     "text": [
      "Training Loss= 0.4993463118871053\n",
      "Training Acc(%)= 81.66666666666667\n",
      "Validation Acc(%)= 73.33333333333333\n",
      "Running Epoch:60\n"
     ]
    },
    {
     "name": "stderr",
     "output_type": "stream",
     "text": [
      "Epoch 60 - Training: 100%|█████████████████████████████████████████████████████████████| 30/30 [00:00<00:00, 797.98it/s]\n"
     ]
    },
    {
     "name": "stdout",
     "output_type": "stream",
     "text": [
      "Training Loss= 0.5059348235527674\n",
      "Training Acc(%)= 78.75\n",
      "Validation Acc(%)= 70.0\n",
      "Running Epoch:61\n"
     ]
    },
    {
     "name": "stderr",
     "output_type": "stream",
     "text": [
      "Epoch 61 - Training: 100%|█████████████████████████████████████████████████████████████| 30/30 [00:00<00:00, 765.39it/s]\n"
     ]
    },
    {
     "name": "stdout",
     "output_type": "stream",
     "text": [
      "Training Loss= 0.4928461790084839\n",
      "Training Acc(%)= 80.83333333333333\n",
      "Validation Acc(%)= 73.33333333333333\n",
      "Running Epoch:62\n"
     ]
    },
    {
     "name": "stderr",
     "output_type": "stream",
     "text": [
      "Epoch 62 - Training: 100%|█████████████████████████████████████████████████████████████| 30/30 [00:00<00:00, 732.37it/s]\n"
     ]
    },
    {
     "name": "stdout",
     "output_type": "stream",
     "text": [
      "Training Loss= 0.4880331705013911\n",
      "Training Acc(%)= 82.5\n",
      "Validation Acc(%)= 80.0\n",
      "Running Epoch:63\n"
     ]
    },
    {
     "name": "stderr",
     "output_type": "stream",
     "text": [
      "Epoch 63 - Training: 100%|█████████████████████████████████████████████████████████████| 30/30 [00:00<00:00, 740.42it/s]\n"
     ]
    },
    {
     "name": "stdout",
     "output_type": "stream",
     "text": [
      "Training Loss= 0.4806846996148427\n",
      "Training Acc(%)= 82.91666666666667\n",
      "Validation Acc(%)= 73.33333333333333\n",
      "Running Epoch:64\n"
     ]
    },
    {
     "name": "stderr",
     "output_type": "stream",
     "text": [
      "Epoch 64 - Training: 100%|█████████████████████████████████████████████████████████████| 30/30 [00:00<00:00, 760.52it/s]\n"
     ]
    },
    {
     "name": "stdout",
     "output_type": "stream",
     "text": [
      "Training Loss= 0.47690497636795043\n",
      "Training Acc(%)= 84.58333333333333\n",
      "Validation Acc(%)= 76.66666666666667\n",
      "Running Epoch:65\n"
     ]
    },
    {
     "name": "stderr",
     "output_type": "stream",
     "text": [
      "Epoch 65 - Training: 100%|█████████████████████████████████████████████████████████████| 30/30 [00:00<00:00, 821.82it/s]\n"
     ]
    },
    {
     "name": "stdout",
     "output_type": "stream",
     "text": [
      "Training Loss= 0.48563836614290873\n",
      "Training Acc(%)= 83.33333333333334\n",
      "Validation Acc(%)= 73.33333333333333\n",
      "Running Epoch:66\n"
     ]
    },
    {
     "name": "stderr",
     "output_type": "stream",
     "text": [
      "Epoch 66 - Training: 100%|█████████████████████████████████████████████████████████████| 30/30 [00:00<00:00, 838.56it/s]\n"
     ]
    },
    {
     "name": "stdout",
     "output_type": "stream",
     "text": [
      "Training Loss= 0.47066163221995033\n",
      "Training Acc(%)= 83.75\n",
      "Validation Acc(%)= 80.0\n",
      "Running Epoch:67\n"
     ]
    },
    {
     "name": "stderr",
     "output_type": "stream",
     "text": [
      "Epoch 67 - Training: 100%|█████████████████████████████████████████████████████████████| 30/30 [00:00<00:00, 798.90it/s]\n"
     ]
    },
    {
     "name": "stdout",
     "output_type": "stream",
     "text": [
      "Training Loss= 0.48607051769892373\n",
      "Training Acc(%)= 81.25\n",
      "Validation Acc(%)= 76.66666666666667\n",
      "Running Epoch:68\n"
     ]
    },
    {
     "name": "stderr",
     "output_type": "stream",
     "text": [
      "Epoch 68 - Training: 100%|█████████████████████████████████████████████████████████████| 30/30 [00:00<00:00, 800.30it/s]\n"
     ]
    },
    {
     "name": "stdout",
     "output_type": "stream",
     "text": [
      "Training Loss= 0.5013458440701167\n",
      "Training Acc(%)= 80.0\n",
      "Validation Acc(%)= 80.0\n",
      "Running Epoch:69\n"
     ]
    },
    {
     "name": "stderr",
     "output_type": "stream",
     "text": [
      "Epoch 69 - Training: 100%|█████████████████████████████████████████████████████████████| 30/30 [00:00<00:00, 755.55it/s]\n"
     ]
    },
    {
     "name": "stdout",
     "output_type": "stream",
     "text": [
      "Training Loss= 0.4735087166229884\n",
      "Training Acc(%)= 83.33333333333334\n",
      "Validation Acc(%)= 76.66666666666667\n",
      "Running Epoch:70\n"
     ]
    },
    {
     "name": "stderr",
     "output_type": "stream",
     "text": [
      "Epoch 70 - Training: 100%|█████████████████████████████████████████████████████████████| 30/30 [00:00<00:00, 789.96it/s]\n"
     ]
    },
    {
     "name": "stdout",
     "output_type": "stream",
     "text": [
      "Training Loss= 0.4898527354001999\n",
      "Training Acc(%)= 82.91666666666667\n",
      "Validation Acc(%)= 73.33333333333333\n",
      "Running Epoch:71\n"
     ]
    },
    {
     "name": "stderr",
     "output_type": "stream",
     "text": [
      "Epoch 71 - Training: 100%|█████████████████████████████████████████████████████████████| 30/30 [00:00<00:00, 804.54it/s]\n"
     ]
    },
    {
     "name": "stdout",
     "output_type": "stream",
     "text": [
      "Training Loss= 0.4900888582070669\n",
      "Training Acc(%)= 82.5\n",
      "Validation Acc(%)= 73.33333333333333\n",
      "Running Epoch:72\n"
     ]
    },
    {
     "name": "stderr",
     "output_type": "stream",
     "text": [
      "Epoch 72 - Training: 100%|█████████████████████████████████████████████████████████████| 30/30 [00:00<00:00, 820.11it/s]\n"
     ]
    },
    {
     "name": "stdout",
     "output_type": "stream",
     "text": [
      "Training Loss= 0.47319492399692537\n",
      "Training Acc(%)= 85.0\n",
      "Validation Acc(%)= 73.33333333333333\n",
      "Running Epoch:73\n"
     ]
    },
    {
     "name": "stderr",
     "output_type": "stream",
     "text": [
      "Epoch 73 - Training: 100%|█████████████████████████████████████████████████████████████| 30/30 [00:00<00:00, 721.47it/s]\n"
     ]
    },
    {
     "name": "stdout",
     "output_type": "stream",
     "text": [
      "Training Loss= 0.4716412862141927\n",
      "Training Acc(%)= 85.41666666666666\n",
      "Validation Acc(%)= 76.66666666666667\n",
      "Running Epoch:74\n"
     ]
    },
    {
     "name": "stderr",
     "output_type": "stream",
     "text": [
      "Epoch 74 - Training: 100%|█████████████████████████████████████████████████████████████| 30/30 [00:00<00:00, 830.14it/s]\n"
     ]
    },
    {
     "name": "stdout",
     "output_type": "stream",
     "text": [
      "Training Loss= 0.49853223462899526\n",
      "Training Acc(%)= 82.08333333333333\n",
      "Validation Acc(%)= 73.33333333333333\n",
      "Running Epoch:75\n"
     ]
    },
    {
     "name": "stderr",
     "output_type": "stream",
     "text": [
      "Epoch 75 - Training: 100%|█████████████████████████████████████████████████████████████| 30/30 [00:00<00:00, 811.14it/s]\n"
     ]
    },
    {
     "name": "stdout",
     "output_type": "stream",
     "text": [
      "Training Loss= 0.4688428113857905\n",
      "Training Acc(%)= 83.33333333333334\n",
      "Validation Acc(%)= 76.66666666666667\n",
      "Running Epoch:76\n"
     ]
    },
    {
     "name": "stderr",
     "output_type": "stream",
     "text": [
      "Epoch 76 - Training: 100%|█████████████████████████████████████████████████████████████| 30/30 [00:00<00:00, 790.31it/s]\n"
     ]
    },
    {
     "name": "stdout",
     "output_type": "stream",
     "text": [
      "Training Loss= 0.4742117722829183\n",
      "Training Acc(%)= 84.58333333333333\n",
      "Validation Acc(%)= 73.33333333333333\n",
      "Running Epoch:77\n"
     ]
    },
    {
     "name": "stderr",
     "output_type": "stream",
     "text": [
      "Epoch 77 - Training: 100%|█████████████████████████████████████████████████████████████| 30/30 [00:00<00:00, 831.09it/s]\n"
     ]
    },
    {
     "name": "stdout",
     "output_type": "stream",
     "text": [
      "Training Loss= 0.4839404453833898\n",
      "Training Acc(%)= 81.66666666666667\n",
      "Validation Acc(%)= 73.33333333333333\n",
      "Running Epoch:78\n"
     ]
    },
    {
     "name": "stderr",
     "output_type": "stream",
     "text": [
      "Epoch 78 - Training: 100%|█████████████████████████████████████████████████████████████| 30/30 [00:00<00:00, 778.64it/s]\n"
     ]
    },
    {
     "name": "stdout",
     "output_type": "stream",
     "text": [
      "Training Loss= 0.4686175763607025\n",
      "Training Acc(%)= 83.33333333333334\n",
      "Validation Acc(%)= 76.66666666666667\n",
      "Running Epoch:79\n"
     ]
    },
    {
     "name": "stderr",
     "output_type": "stream",
     "text": [
      "Epoch 79 - Training: 100%|█████████████████████████████████████████████████████████████| 30/30 [00:00<00:00, 730.36it/s]\n"
     ]
    },
    {
     "name": "stdout",
     "output_type": "stream",
     "text": [
      "Training Loss= 0.4847566207249959\n",
      "Training Acc(%)= 82.08333333333333\n",
      "Validation Acc(%)= 73.33333333333333\n",
      "Running Epoch:80\n"
     ]
    },
    {
     "name": "stderr",
     "output_type": "stream",
     "text": [
      "Epoch 80 - Training: 100%|█████████████████████████████████████████████████████████████| 30/30 [00:00<00:00, 822.43it/s]\n"
     ]
    },
    {
     "name": "stdout",
     "output_type": "stream",
     "text": [
      "Training Loss= 0.47949213087558745\n",
      "Training Acc(%)= 83.75\n",
      "Validation Acc(%)= 76.66666666666667\n",
      "Running Epoch:81\n"
     ]
    },
    {
     "name": "stderr",
     "output_type": "stream",
     "text": [
      "Epoch 81 - Training: 100%|█████████████████████████████████████████████████████████████| 30/30 [00:00<00:00, 823.05it/s]\n"
     ]
    },
    {
     "name": "stdout",
     "output_type": "stream",
     "text": [
      "Training Loss= 0.4908630609512329\n",
      "Training Acc(%)= 81.66666666666667\n",
      "Validation Acc(%)= 80.0\n",
      "Running Epoch:82\n"
     ]
    },
    {
     "name": "stderr",
     "output_type": "stream",
     "text": [
      "Epoch 82 - Training: 100%|█████████████████████████████████████████████████████████████| 30/30 [00:00<00:00, 843.21it/s]\n"
     ]
    },
    {
     "name": "stdout",
     "output_type": "stream",
     "text": [
      "Training Loss= 0.4636609613895416\n",
      "Training Acc(%)= 84.58333333333333\n",
      "Validation Acc(%)= 80.0\n",
      "Running Epoch:83\n"
     ]
    },
    {
     "name": "stderr",
     "output_type": "stream",
     "text": [
      "Epoch 83 - Training: 100%|█████████████████████████████████████████████████████████████| 30/30 [00:00<00:00, 818.67it/s]\n"
     ]
    },
    {
     "name": "stdout",
     "output_type": "stream",
     "text": [
      "Training Loss= 0.4816112051407496\n",
      "Training Acc(%)= 81.66666666666667\n",
      "Validation Acc(%)= 76.66666666666667\n",
      "Running Epoch:84\n"
     ]
    },
    {
     "name": "stderr",
     "output_type": "stream",
     "text": [
      "Epoch 84 - Training: 100%|█████████████████████████████████████████████████████████████| 30/30 [00:00<00:00, 874.68it/s]\n"
     ]
    },
    {
     "name": "stdout",
     "output_type": "stream",
     "text": [
      "Training Loss= 0.48427065114180246\n",
      "Training Acc(%)= 82.5\n",
      "Validation Acc(%)= 76.66666666666667\n",
      "Running Epoch:85\n"
     ]
    },
    {
     "name": "stderr",
     "output_type": "stream",
     "text": [
      "Epoch 85 - Training: 100%|█████████████████████████████████████████████████████████████| 30/30 [00:00<00:00, 715.55it/s]\n"
     ]
    },
    {
     "name": "stdout",
     "output_type": "stream",
     "text": [
      "Training Loss= 0.4634936571121216\n",
      "Training Acc(%)= 85.41666666666666\n",
      "Validation Acc(%)= 80.0\n",
      "Running Epoch:86\n"
     ]
    },
    {
     "name": "stderr",
     "output_type": "stream",
     "text": [
      "Epoch 86 - Training: 100%|█████████████████████████████████████████████████████████████| 30/30 [00:00<00:00, 836.08it/s]\n"
     ]
    },
    {
     "name": "stdout",
     "output_type": "stream",
     "text": [
      "Training Loss= 0.4841003845135371\n",
      "Training Acc(%)= 82.08333333333333\n",
      "Validation Acc(%)= 80.0\n",
      "Running Epoch:87\n"
     ]
    },
    {
     "name": "stderr",
     "output_type": "stream",
     "text": [
      "Epoch 87 - Training: 100%|█████████████████████████████████████████████████████████████| 30/30 [00:00<00:00, 841.55it/s]\n"
     ]
    },
    {
     "name": "stdout",
     "output_type": "stream",
     "text": [
      "Training Loss= 0.4733005593220393\n",
      "Training Acc(%)= 84.58333333333333\n",
      "Validation Acc(%)= 73.33333333333333\n",
      "Running Epoch:88\n"
     ]
    },
    {
     "name": "stderr",
     "output_type": "stream",
     "text": [
      "Epoch 88 - Training: 100%|█████████████████████████████████████████████████████████████| 30/30 [00:00<00:00, 815.26it/s]\n"
     ]
    },
    {
     "name": "stdout",
     "output_type": "stream",
     "text": [
      "Training Loss= 0.47242533167203266\n",
      "Training Acc(%)= 84.16666666666667\n",
      "Validation Acc(%)= 76.66666666666667\n",
      "Running Epoch:89\n"
     ]
    },
    {
     "name": "stderr",
     "output_type": "stream",
     "text": [
      "Epoch 89 - Training: 100%|█████████████████████████████████████████████████████████████| 30/30 [00:00<00:00, 787.34it/s]\n"
     ]
    },
    {
     "name": "stdout",
     "output_type": "stream",
     "text": [
      "Training Loss= 0.47650220890839895\n",
      "Training Acc(%)= 83.33333333333334\n",
      "Validation Acc(%)= 70.0\n",
      "Running Epoch:90\n"
     ]
    },
    {
     "name": "stderr",
     "output_type": "stream",
     "text": [
      "Epoch 90 - Training: 100%|█████████████████████████████████████████████████████████████| 30/30 [00:00<00:00, 730.56it/s]\n"
     ]
    },
    {
     "name": "stdout",
     "output_type": "stream",
     "text": [
      "Training Loss= 0.4918773502111435\n",
      "Training Acc(%)= 81.25\n",
      "Validation Acc(%)= 70.0\n",
      "Running Epoch:91\n"
     ]
    },
    {
     "name": "stderr",
     "output_type": "stream",
     "text": [
      "Epoch 91 - Training: 100%|█████████████████████████████████████████████████████████████| 30/30 [00:00<00:00, 779.84it/s]\n"
     ]
    },
    {
     "name": "stdout",
     "output_type": "stream",
     "text": [
      "Training Loss= 0.4710886816183726\n",
      "Training Acc(%)= 83.75\n",
      "Validation Acc(%)= 76.66666666666667\n",
      "Running Epoch:92\n"
     ]
    },
    {
     "name": "stderr",
     "output_type": "stream",
     "text": [
      "Epoch 92 - Training: 100%|█████████████████████████████████████████████████████████████| 30/30 [00:00<00:00, 805.41it/s]\n"
     ]
    },
    {
     "name": "stdout",
     "output_type": "stream",
     "text": [
      "Training Loss= 0.46519082387288413\n",
      "Training Acc(%)= 85.0\n",
      "Validation Acc(%)= 73.33333333333333\n",
      "Running Epoch:93\n"
     ]
    },
    {
     "name": "stderr",
     "output_type": "stream",
     "text": [
      "Epoch 93 - Training: 100%|█████████████████████████████████████████████████████████████| 30/30 [00:00<00:00, 805.24it/s]\n"
     ]
    },
    {
     "name": "stdout",
     "output_type": "stream",
     "text": [
      "Training Loss= 0.4528804341952006\n",
      "Training Acc(%)= 87.08333333333333\n",
      "Validation Acc(%)= 73.33333333333333\n",
      "Running Epoch:94\n"
     ]
    },
    {
     "name": "stderr",
     "output_type": "stream",
     "text": [
      "Epoch 94 - Training: 100%|█████████████████████████████████████████████████████████████| 30/30 [00:00<00:00, 786.03it/s]\n"
     ]
    },
    {
     "name": "stdout",
     "output_type": "stream",
     "text": [
      "Training Loss= 0.46865331927935283\n",
      "Training Acc(%)= 84.58333333333333\n",
      "Validation Acc(%)= 73.33333333333333\n",
      "Running Epoch:95\n"
     ]
    },
    {
     "name": "stderr",
     "output_type": "stream",
     "text": [
      "Epoch 95 - Training: 100%|█████████████████████████████████████████████████████████████| 30/30 [00:00<00:00, 794.15it/s]\n"
     ]
    },
    {
     "name": "stdout",
     "output_type": "stream",
     "text": [
      "Training Loss= 0.46293713251749674\n",
      "Training Acc(%)= 85.83333333333333\n",
      "Validation Acc(%)= 76.66666666666667\n",
      "Running Epoch:96\n"
     ]
    },
    {
     "name": "stderr",
     "output_type": "stream",
     "text": [
      "Epoch 96 - Training: 100%|█████████████████████████████████████████████████████████████| 30/30 [00:00<00:00, 759.59it/s]\n"
     ]
    },
    {
     "name": "stdout",
     "output_type": "stream",
     "text": [
      "Training Loss= 0.4813456783692042\n",
      "Training Acc(%)= 82.91666666666667\n",
      "Validation Acc(%)= 73.33333333333333\n",
      "Running Epoch:97\n"
     ]
    },
    {
     "name": "stderr",
     "output_type": "stream",
     "text": [
      "Epoch 97 - Training: 100%|█████████████████████████████████████████████████████████████| 30/30 [00:00<00:00, 824.07it/s]\n"
     ]
    },
    {
     "name": "stdout",
     "output_type": "stream",
     "text": [
      "Training Loss= 0.46686669488747917\n",
      "Training Acc(%)= 84.58333333333333\n",
      "Validation Acc(%)= 80.0\n",
      "Running Epoch:98\n"
     ]
    },
    {
     "name": "stderr",
     "output_type": "stream",
     "text": [
      "Epoch 98 - Training: 100%|█████████████████████████████████████████████████████████████| 30/30 [00:00<00:00, 833.24it/s]\n"
     ]
    },
    {
     "name": "stdout",
     "output_type": "stream",
     "text": [
      "Training Loss= 0.47639837364355725\n",
      "Training Acc(%)= 83.33333333333334\n",
      "Validation Acc(%)= 73.33333333333333\n",
      "Running Epoch:99\n"
     ]
    },
    {
     "name": "stderr",
     "output_type": "stream",
     "text": [
      "Epoch 99 - Training: 100%|█████████████████████████████████████████████████████████████| 30/30 [00:00<00:00, 832.31it/s]\n"
     ]
    },
    {
     "name": "stdout",
     "output_type": "stream",
     "text": [
      "Training Loss= 0.4634904017051061\n",
      "Training Acc(%)= 86.25\n",
      "Validation Acc(%)= 76.66666666666667\n",
      "Running Epoch:100\n"
     ]
    },
    {
     "name": "stderr",
     "output_type": "stream",
     "text": [
      "Epoch 100 - Training: 100%|████████████████████████████████████████████████████████████| 30/30 [00:00<00:00, 777.06it/s]\n"
     ]
    },
    {
     "name": "stdout",
     "output_type": "stream",
     "text": [
      "Training Loss= 0.4609104096889496\n",
      "Training Acc(%)= 84.58333333333333\n",
      "Validation Acc(%)= 76.66666666666667\n",
      "Running Epoch:101\n"
     ]
    },
    {
     "name": "stderr",
     "output_type": "stream",
     "text": [
      "Epoch 101 - Training: 100%|████████████████████████████████████████████████████████████| 30/30 [00:00<00:00, 781.34it/s]\n"
     ]
    },
    {
     "name": "stdout",
     "output_type": "stream",
     "text": [
      "Training Loss= 0.45960330466429394\n",
      "Training Acc(%)= 84.58333333333333\n",
      "Validation Acc(%)= 76.66666666666667\n",
      "Running Epoch:102\n"
     ]
    },
    {
     "name": "stderr",
     "output_type": "stream",
     "text": [
      "Epoch 102 - Training: 100%|████████████████████████████████████████████████████████████| 30/30 [00:00<00:00, 780.80it/s]\n"
     ]
    },
    {
     "name": "stdout",
     "output_type": "stream",
     "text": [
      "Training Loss= 0.48204711377620696\n",
      "Training Acc(%)= 82.91666666666667\n",
      "Validation Acc(%)= 70.0\n",
      "Running Epoch:103\n"
     ]
    },
    {
     "name": "stderr",
     "output_type": "stream",
     "text": [
      "Epoch 103 - Training: 100%|████████████████████████████████████████████████████████████| 30/30 [00:00<00:00, 746.67it/s]\n"
     ]
    },
    {
     "name": "stdout",
     "output_type": "stream",
     "text": [
      "Training Loss= 0.4691112846136093\n",
      "Training Acc(%)= 85.0\n",
      "Validation Acc(%)= 73.33333333333333\n",
      "Running Epoch:104\n"
     ]
    },
    {
     "name": "stderr",
     "output_type": "stream",
     "text": [
      "Epoch 104 - Training: 100%|████████████████████████████████████████████████████████████| 30/30 [00:00<00:00, 797.08it/s]\n"
     ]
    },
    {
     "name": "stdout",
     "output_type": "stream",
     "text": [
      "Training Loss= 0.4734886954228083\n",
      "Training Acc(%)= 84.58333333333333\n",
      "Validation Acc(%)= 73.33333333333333\n",
      "Running Epoch:105\n"
     ]
    },
    {
     "name": "stderr",
     "output_type": "stream",
     "text": [
      "Epoch 105 - Training: 100%|████████████████████████████████████████████████████████████| 30/30 [00:00<00:00, 780.46it/s]\n"
     ]
    },
    {
     "name": "stdout",
     "output_type": "stream",
     "text": [
      "Training Loss= 0.473071817557017\n",
      "Training Acc(%)= 84.16666666666667\n",
      "Validation Acc(%)= 73.33333333333333\n",
      "Running Epoch:106\n"
     ]
    },
    {
     "name": "stderr",
     "output_type": "stream",
     "text": [
      "Epoch 106 - Training: 100%|████████████████████████████████████████████████████████████| 30/30 [00:00<00:00, 791.53it/s]\n"
     ]
    },
    {
     "name": "stdout",
     "output_type": "stream",
     "text": [
      "Training Loss= 0.47684466441472373\n",
      "Training Acc(%)= 82.91666666666667\n",
      "Validation Acc(%)= 73.33333333333333\n",
      "Running Epoch:107\n"
     ]
    },
    {
     "name": "stderr",
     "output_type": "stream",
     "text": [
      "Epoch 107 - Training: 100%|████████████████████████████████████████████████████████████| 30/30 [00:00<00:00, 793.49it/s]\n"
     ]
    },
    {
     "name": "stdout",
     "output_type": "stream",
     "text": [
      "Training Loss= 0.4662525097529093\n",
      "Training Acc(%)= 85.0\n",
      "Validation Acc(%)= 80.0\n",
      "Running Epoch:108\n"
     ]
    },
    {
     "name": "stderr",
     "output_type": "stream",
     "text": [
      "Epoch 108 - Training: 100%|████████████████████████████████████████████████████████████| 30/30 [00:00<00:00, 810.87it/s]\n"
     ]
    },
    {
     "name": "stdout",
     "output_type": "stream",
     "text": [
      "Training Loss= 0.4717217723528544\n",
      "Training Acc(%)= 83.75\n",
      "Validation Acc(%)= 76.66666666666667\n",
      "Running Epoch:109\n"
     ]
    },
    {
     "name": "stderr",
     "output_type": "stream",
     "text": [
      "Epoch 109 - Training: 100%|████████████████████████████████████████████████████████████| 30/30 [00:00<00:00, 767.70it/s]\n"
     ]
    },
    {
     "name": "stdout",
     "output_type": "stream",
     "text": [
      "Training Loss= 0.4733993162711461\n",
      "Training Acc(%)= 82.5\n",
      "Validation Acc(%)= 80.0\n",
      "Running Epoch:110\n"
     ]
    },
    {
     "name": "stderr",
     "output_type": "stream",
     "text": [
      "Epoch 110 - Training: 100%|████████████████████████████████████████████████████████████| 30/30 [00:00<00:00, 777.50it/s]\n"
     ]
    },
    {
     "name": "stdout",
     "output_type": "stream",
     "text": [
      "Training Loss= 0.4804186979929606\n",
      "Training Acc(%)= 81.66666666666667\n",
      "Validation Acc(%)= 76.66666666666667\n",
      "Running Epoch:111\n"
     ]
    },
    {
     "name": "stderr",
     "output_type": "stream",
     "text": [
      "Epoch 111 - Training: 100%|████████████████████████████████████████████████████████████| 30/30 [00:00<00:00, 760.31it/s]\n"
     ]
    },
    {
     "name": "stdout",
     "output_type": "stream",
     "text": [
      "Training Loss= 0.47660879890124\n",
      "Training Acc(%)= 82.91666666666667\n",
      "Validation Acc(%)= 80.0\n",
      "Running Epoch:112\n"
     ]
    },
    {
     "name": "stderr",
     "output_type": "stream",
     "text": [
      "Epoch 112 - Training: 100%|████████████████████████████████████████████████████████████| 30/30 [00:00<00:00, 776.06it/s]\n"
     ]
    },
    {
     "name": "stdout",
     "output_type": "stream",
     "text": [
      "Training Loss= 0.4842408607403437\n",
      "Training Acc(%)= 82.5\n",
      "Validation Acc(%)= 76.66666666666667\n",
      "Running Epoch:113\n"
     ]
    },
    {
     "name": "stderr",
     "output_type": "stream",
     "text": [
      "Epoch 113 - Training: 100%|████████████████████████████████████████████████████████████| 30/30 [00:00<00:00, 788.69it/s]\n"
     ]
    },
    {
     "name": "stdout",
     "output_type": "stream",
     "text": [
      "Training Loss= 0.466312966744105\n",
      "Training Acc(%)= 84.16666666666667\n",
      "Validation Acc(%)= 80.0\n",
      "Running Epoch:114\n"
     ]
    },
    {
     "name": "stderr",
     "output_type": "stream",
     "text": [
      "Epoch 114 - Training: 100%|████████████████████████████████████████████████████████████| 30/30 [00:00<00:00, 780.81it/s]\n"
     ]
    },
    {
     "name": "stdout",
     "output_type": "stream",
     "text": [
      "Training Loss= 0.4592462132374446\n",
      "Training Acc(%)= 85.0\n",
      "Validation Acc(%)= 73.33333333333333\n",
      "Running Epoch:115\n"
     ]
    },
    {
     "name": "stderr",
     "output_type": "stream",
     "text": [
      "Epoch 115 - Training: 100%|████████████████████████████████████████████████████████████| 30/30 [00:00<00:00, 813.05it/s]\n"
     ]
    },
    {
     "name": "stdout",
     "output_type": "stream",
     "text": [
      "Training Loss= 0.4662747949361801\n",
      "Training Acc(%)= 85.83333333333333\n",
      "Validation Acc(%)= 76.66666666666667\n",
      "Running Epoch:116\n"
     ]
    },
    {
     "name": "stderr",
     "output_type": "stream",
     "text": [
      "Epoch 116 - Training: 100%|████████████████████████████████████████████████████████████| 30/30 [00:00<00:00, 810.25it/s]\n"
     ]
    },
    {
     "name": "stdout",
     "output_type": "stream",
     "text": [
      "Training Loss= 0.46776516536871593\n",
      "Training Acc(%)= 84.16666666666667\n",
      "Validation Acc(%)= 80.0\n",
      "Running Epoch:117\n"
     ]
    },
    {
     "name": "stderr",
     "output_type": "stream",
     "text": [
      "Epoch 117 - Training: 100%|████████████████████████████████████████████████████████████| 30/30 [00:00<00:00, 795.19it/s]\n"
     ]
    },
    {
     "name": "stdout",
     "output_type": "stream",
     "text": [
      "Training Loss= 0.4572060624758402\n",
      "Training Acc(%)= 86.25\n",
      "Validation Acc(%)= 80.0\n",
      "Running Epoch:118\n"
     ]
    },
    {
     "name": "stderr",
     "output_type": "stream",
     "text": [
      "Epoch 118 - Training: 100%|████████████████████████████████████████████████████████████| 30/30 [00:00<00:00, 802.01it/s]\n"
     ]
    },
    {
     "name": "stdout",
     "output_type": "stream",
     "text": [
      "Training Loss= 0.4654612809419632\n",
      "Training Acc(%)= 83.75\n",
      "Validation Acc(%)= 80.0\n",
      "Running Epoch:119\n"
     ]
    },
    {
     "name": "stderr",
     "output_type": "stream",
     "text": [
      "Epoch 119 - Training: 100%|████████████████████████████████████████████████████████████| 30/30 [00:00<00:00, 803.38it/s]\n"
     ]
    },
    {
     "name": "stdout",
     "output_type": "stream",
     "text": [
      "Training Loss= 0.46469975312550865\n",
      "Training Acc(%)= 85.0\n",
      "Validation Acc(%)= 76.66666666666667\n",
      "Running Epoch:120\n"
     ]
    },
    {
     "name": "stderr",
     "output_type": "stream",
     "text": [
      "Epoch 120 - Training: 100%|████████████████████████████████████████████████████████████| 30/30 [00:00<00:00, 831.90it/s]\n"
     ]
    },
    {
     "name": "stdout",
     "output_type": "stream",
     "text": [
      "Training Loss= 0.47587334116299945\n",
      "Training Acc(%)= 82.5\n",
      "Validation Acc(%)= 76.66666666666667\n",
      "Running Epoch:121\n"
     ]
    },
    {
     "name": "stderr",
     "output_type": "stream",
     "text": [
      "Epoch 121 - Training: 100%|████████████████████████████████████████████████████████████| 30/30 [00:00<00:00, 795.61it/s]\n"
     ]
    },
    {
     "name": "stdout",
     "output_type": "stream",
     "text": [
      "Training Loss= 0.4614995330572128\n",
      "Training Acc(%)= 83.75\n",
      "Validation Acc(%)= 83.33333333333334\n",
      "Running Epoch:122\n"
     ]
    },
    {
     "name": "stderr",
     "output_type": "stream",
     "text": [
      "Epoch 122 - Training: 100%|████████████████████████████████████████████████████████████| 30/30 [00:00<00:00, 825.62it/s]\n"
     ]
    },
    {
     "name": "stdout",
     "output_type": "stream",
     "text": [
      "Training Loss= 0.464518341422081\n",
      "Training Acc(%)= 84.58333333333333\n",
      "Validation Acc(%)= 80.0\n",
      "Running Epoch:123\n"
     ]
    },
    {
     "name": "stderr",
     "output_type": "stream",
     "text": [
      "Epoch 123 - Training: 100%|████████████████████████████████████████████████████████████| 30/30 [00:00<00:00, 786.52it/s]\n"
     ]
    },
    {
     "name": "stdout",
     "output_type": "stream",
     "text": [
      "Training Loss= 0.4709392229715983\n",
      "Training Acc(%)= 84.16666666666667\n",
      "Validation Acc(%)= 73.33333333333333\n",
      "Running Epoch:124\n"
     ]
    },
    {
     "name": "stderr",
     "output_type": "stream",
     "text": [
      "Epoch 124 - Training: 100%|████████████████████████████████████████████████████████████| 30/30 [00:00<00:00, 843.81it/s]\n"
     ]
    },
    {
     "name": "stdout",
     "output_type": "stream",
     "text": [
      "Training Loss= 0.4538472771644592\n",
      "Training Acc(%)= 86.66666666666667\n",
      "Validation Acc(%)= 80.0\n",
      "Running Epoch:125\n"
     ]
    },
    {
     "name": "stderr",
     "output_type": "stream",
     "text": [
      "Epoch 125 - Training: 100%|████████████████████████████████████████████████████████████| 30/30 [00:00<00:00, 817.86it/s]\n"
     ]
    },
    {
     "name": "stdout",
     "output_type": "stream",
     "text": [
      "Training Loss= 0.4601051092147827\n",
      "Training Acc(%)= 85.0\n",
      "Validation Acc(%)= 80.0\n",
      "Running Epoch:126\n"
     ]
    },
    {
     "name": "stderr",
     "output_type": "stream",
     "text": [
      "Epoch 126 - Training: 100%|████████████████████████████████████████████████████████████| 30/30 [00:00<00:00, 807.36it/s]\n"
     ]
    },
    {
     "name": "stdout",
     "output_type": "stream",
     "text": [
      "Training Loss= 0.4531415025393168\n",
      "Training Acc(%)= 85.0\n",
      "Validation Acc(%)= 80.0\n",
      "Running Epoch:127\n"
     ]
    },
    {
     "name": "stderr",
     "output_type": "stream",
     "text": [
      "Epoch 127 - Training: 100%|████████████████████████████████████████████████████████████| 30/30 [00:00<00:00, 831.44it/s]\n"
     ]
    },
    {
     "name": "stdout",
     "output_type": "stream",
     "text": [
      "Training Loss= 0.47288087407747903\n",
      "Training Acc(%)= 82.5\n",
      "Validation Acc(%)= 83.33333333333334\n",
      "Running Epoch:128\n"
     ]
    },
    {
     "name": "stderr",
     "output_type": "stream",
     "text": [
      "Epoch 128 - Training: 100%|████████████████████████████████████████████████████████████| 30/30 [00:00<00:00, 827.30it/s]\n"
     ]
    },
    {
     "name": "stdout",
     "output_type": "stream",
     "text": [
      "Training Loss= 0.46320673525333406\n",
      "Training Acc(%)= 85.41666666666666\n",
      "Validation Acc(%)= 80.0\n",
      "Running Epoch:129\n"
     ]
    },
    {
     "name": "stderr",
     "output_type": "stream",
     "text": [
      "Epoch 129 - Training: 100%|████████████████████████████████████████████████████████████| 30/30 [00:00<00:00, 806.53it/s]\n"
     ]
    },
    {
     "name": "stdout",
     "output_type": "stream",
     "text": [
      "Training Loss= 0.45957619647185005\n",
      "Training Acc(%)= 84.58333333333333\n",
      "Validation Acc(%)= 80.0\n",
      "Running Epoch:130\n"
     ]
    },
    {
     "name": "stderr",
     "output_type": "stream",
     "text": [
      "Epoch 130 - Training: 100%|████████████████████████████████████████████████████████████| 30/30 [00:00<00:00, 805.76it/s]\n"
     ]
    },
    {
     "name": "stdout",
     "output_type": "stream",
     "text": [
      "Training Loss= 0.4639963368574778\n",
      "Training Acc(%)= 85.41666666666666\n",
      "Validation Acc(%)= 73.33333333333333\n",
      "Running Epoch:131\n"
     ]
    },
    {
     "name": "stderr",
     "output_type": "stream",
     "text": [
      "Epoch 131 - Training: 100%|████████████████████████████████████████████████████████████| 30/30 [00:00<00:00, 819.13it/s]\n"
     ]
    },
    {
     "name": "stdout",
     "output_type": "stream",
     "text": [
      "Training Loss= 0.4605932682752609\n",
      "Training Acc(%)= 85.41666666666666\n",
      "Validation Acc(%)= 80.0\n",
      "Running Epoch:132\n"
     ]
    },
    {
     "name": "stderr",
     "output_type": "stream",
     "text": [
      "Epoch 132 - Training: 100%|████████████████████████████████████████████████████████████| 30/30 [00:00<00:00, 815.55it/s]\n"
     ]
    },
    {
     "name": "stdout",
     "output_type": "stream",
     "text": [
      "Training Loss= 0.4689568817615509\n",
      "Training Acc(%)= 83.33333333333334\n",
      "Validation Acc(%)= 80.0\n",
      "Running Epoch:133\n"
     ]
    },
    {
     "name": "stderr",
     "output_type": "stream",
     "text": [
      "Epoch 133 - Training: 100%|████████████████████████████████████████████████████████████| 30/30 [00:00<00:00, 786.89it/s]\n"
     ]
    },
    {
     "name": "stdout",
     "output_type": "stream",
     "text": [
      "Training Loss= 0.45954709549744927\n",
      "Training Acc(%)= 84.58333333333333\n",
      "Validation Acc(%)= 73.33333333333333\n",
      "Running Epoch:134\n"
     ]
    },
    {
     "name": "stderr",
     "output_type": "stream",
     "text": [
      "Epoch 134 - Training: 100%|████████████████████████████████████████████████████████████| 30/30 [00:00<00:00, 846.97it/s]\n"
     ]
    },
    {
     "name": "stdout",
     "output_type": "stream",
     "text": [
      "Training Loss= 0.4638386567433675\n",
      "Training Acc(%)= 84.58333333333333\n",
      "Validation Acc(%)= 76.66666666666667\n",
      "Running Epoch:135\n"
     ]
    },
    {
     "name": "stderr",
     "output_type": "stream",
     "text": [
      "Epoch 135 - Training: 100%|████████████████████████████████████████████████████████████| 30/30 [00:00<00:00, 781.46it/s]\n"
     ]
    },
    {
     "name": "stdout",
     "output_type": "stream",
     "text": [
      "Training Loss= 0.46460610727469126\n",
      "Training Acc(%)= 83.33333333333334\n",
      "Validation Acc(%)= 76.66666666666667\n",
      "Running Epoch:136\n"
     ]
    },
    {
     "name": "stderr",
     "output_type": "stream",
     "text": [
      "Epoch 136 - Training: 100%|████████████████████████████████████████████████████████████| 30/30 [00:00<00:00, 785.60it/s]\n"
     ]
    },
    {
     "name": "stdout",
     "output_type": "stream",
     "text": [
      "Training Loss= 0.4608469287554423\n",
      "Training Acc(%)= 84.58333333333333\n",
      "Validation Acc(%)= 73.33333333333333\n",
      "Running Epoch:137\n"
     ]
    },
    {
     "name": "stderr",
     "output_type": "stream",
     "text": [
      "Epoch 137 - Training: 100%|████████████████████████████████████████████████████████████| 30/30 [00:00<00:00, 827.50it/s]\n"
     ]
    },
    {
     "name": "stdout",
     "output_type": "stream",
     "text": [
      "Training Loss= 0.4736373712619146\n",
      "Training Acc(%)= 83.33333333333334\n",
      "Validation Acc(%)= 73.33333333333333\n",
      "Running Epoch:138\n"
     ]
    },
    {
     "name": "stderr",
     "output_type": "stream",
     "text": [
      "Epoch 138 - Training: 100%|████████████████████████████████████████████████████████████| 30/30 [00:00<00:00, 793.37it/s]\n"
     ]
    },
    {
     "name": "stdout",
     "output_type": "stream",
     "text": [
      "Training Loss= 0.4589997589588165\n",
      "Training Acc(%)= 85.0\n",
      "Validation Acc(%)= 76.66666666666667\n",
      "Running Epoch:139\n"
     ]
    },
    {
     "name": "stderr",
     "output_type": "stream",
     "text": [
      "Epoch 139 - Training: 100%|████████████████████████████████████████████████████████████| 30/30 [00:00<00:00, 814.26it/s]\n"
     ]
    },
    {
     "name": "stdout",
     "output_type": "stream",
     "text": [
      "Training Loss= 0.46107816100120547\n",
      "Training Acc(%)= 85.0\n",
      "Validation Acc(%)= 80.0\n",
      "Running Epoch:140\n"
     ]
    },
    {
     "name": "stderr",
     "output_type": "stream",
     "text": [
      "Epoch 140 - Training: 100%|████████████████████████████████████████████████████████████| 30/30 [00:00<00:00, 823.25it/s]\n"
     ]
    },
    {
     "name": "stdout",
     "output_type": "stream",
     "text": [
      "Training Loss= 0.45654184619585675\n",
      "Training Acc(%)= 85.41666666666666\n",
      "Validation Acc(%)= 73.33333333333333\n",
      "Running Epoch:141\n"
     ]
    },
    {
     "name": "stderr",
     "output_type": "stream",
     "text": [
      "Epoch 141 - Training: 100%|████████████████████████████████████████████████████████████| 30/30 [00:00<00:00, 778.91it/s]\n"
     ]
    },
    {
     "name": "stdout",
     "output_type": "stream",
     "text": [
      "Training Loss= 0.46502461830774944\n",
      "Training Acc(%)= 85.41666666666666\n",
      "Validation Acc(%)= 73.33333333333333\n",
      "Running Epoch:142\n"
     ]
    },
    {
     "name": "stderr",
     "output_type": "stream",
     "text": [
      "Epoch 142 - Training: 100%|████████████████████████████████████████████████████████████| 30/30 [00:00<00:00, 829.37it/s]\n"
     ]
    },
    {
     "name": "stdout",
     "output_type": "stream",
     "text": [
      "Training Loss= 0.4554407248894374\n",
      "Training Acc(%)= 86.25\n",
      "Validation Acc(%)= 76.66666666666667\n",
      "Running Epoch:143\n"
     ]
    },
    {
     "name": "stderr",
     "output_type": "stream",
     "text": [
      "Epoch 143 - Training: 100%|████████████████████████████████████████████████████████████| 30/30 [00:00<00:00, 813.11it/s]\n"
     ]
    },
    {
     "name": "stdout",
     "output_type": "stream",
     "text": [
      "Training Loss= 0.4606096178293228\n",
      "Training Acc(%)= 85.41666666666666\n",
      "Validation Acc(%)= 73.33333333333333\n",
      "Running Epoch:144\n"
     ]
    },
    {
     "name": "stderr",
     "output_type": "stream",
     "text": [
      "Epoch 144 - Training: 100%|████████████████████████████████████████████████████████████| 30/30 [00:00<00:00, 806.22it/s]\n"
     ]
    },
    {
     "name": "stdout",
     "output_type": "stream",
     "text": [
      "Training Loss= 0.4741116682688395\n",
      "Training Acc(%)= 84.16666666666667\n",
      "Validation Acc(%)= 73.33333333333333\n",
      "Running Epoch:145\n"
     ]
    },
    {
     "name": "stderr",
     "output_type": "stream",
     "text": [
      "Epoch 145 - Training: 100%|████████████████████████████████████████████████████████████| 30/30 [00:00<00:00, 804.86it/s]\n"
     ]
    },
    {
     "name": "stdout",
     "output_type": "stream",
     "text": [
      "Training Loss= 0.4766162465016047\n",
      "Training Acc(%)= 83.75\n",
      "Validation Acc(%)= 73.33333333333333\n",
      "Running Epoch:146\n"
     ]
    },
    {
     "name": "stderr",
     "output_type": "stream",
     "text": [
      "Epoch 146 - Training: 100%|████████████████████████████████████████████████████████████| 30/30 [00:00<00:00, 821.42it/s]\n"
     ]
    },
    {
     "name": "stdout",
     "output_type": "stream",
     "text": [
      "Training Loss= 0.47006543576717374\n",
      "Training Acc(%)= 82.91666666666667\n",
      "Validation Acc(%)= 73.33333333333333\n",
      "Running Epoch:147\n"
     ]
    },
    {
     "name": "stderr",
     "output_type": "stream",
     "text": [
      "Epoch 147 - Training: 100%|████████████████████████████████████████████████████████████| 30/30 [00:00<00:00, 778.30it/s]\n"
     ]
    },
    {
     "name": "stdout",
     "output_type": "stream",
     "text": [
      "Training Loss= 0.4503208816051483\n",
      "Training Acc(%)= 86.25\n",
      "Validation Acc(%)= 73.33333333333333\n",
      "Running Epoch:148\n"
     ]
    },
    {
     "name": "stderr",
     "output_type": "stream",
     "text": [
      "Epoch 148 - Training: 100%|████████████████████████████████████████████████████████████| 30/30 [00:00<00:00, 799.44it/s]\n"
     ]
    },
    {
     "name": "stdout",
     "output_type": "stream",
     "text": [
      "Training Loss= 0.4534841299057007\n",
      "Training Acc(%)= 85.0\n",
      "Validation Acc(%)= 83.33333333333334\n",
      "Running Epoch:149\n"
     ]
    },
    {
     "name": "stderr",
     "output_type": "stream",
     "text": [
      "Epoch 149 - Training: 100%|████████████████████████████████████████████████████████████| 30/30 [00:00<00:00, 845.27it/s]\n"
     ]
    },
    {
     "name": "stdout",
     "output_type": "stream",
     "text": [
      "Training Loss= 0.46260610620180764\n",
      "Training Acc(%)= 85.0\n",
      "Validation Acc(%)= 80.0\n",
      "Running Epoch:150\n"
     ]
    },
    {
     "name": "stderr",
     "output_type": "stream",
     "text": [
      "Epoch 150 - Training: 100%|████████████████████████████████████████████████████████████| 30/30 [00:00<00:00, 796.46it/s]\n"
     ]
    },
    {
     "name": "stdout",
     "output_type": "stream",
     "text": [
      "Training Loss= 0.455312180519104\n",
      "Training Acc(%)= 85.83333333333333\n",
      "Validation Acc(%)= 73.33333333333333\n",
      "Running Epoch:151\n"
     ]
    },
    {
     "name": "stderr",
     "output_type": "stream",
     "text": [
      "Epoch 151 - Training: 100%|████████████████████████████████████████████████████████████| 30/30 [00:00<00:00, 770.53it/s]\n"
     ]
    },
    {
     "name": "stdout",
     "output_type": "stream",
     "text": [
      "Training Loss= 0.4524823238452276\n",
      "Training Acc(%)= 85.41666666666666\n",
      "Validation Acc(%)= 73.33333333333333\n",
      "Running Epoch:152\n"
     ]
    },
    {
     "name": "stderr",
     "output_type": "stream",
     "text": [
      "Epoch 152 - Training: 100%|████████████████████████████████████████████████████████████| 30/30 [00:00<00:00, 824.50it/s]\n"
     ]
    },
    {
     "name": "stdout",
     "output_type": "stream",
     "text": [
      "Training Loss= 0.47180069585641227\n",
      "Training Acc(%)= 83.33333333333334\n",
      "Validation Acc(%)= 76.66666666666667\n",
      "Running Epoch:153\n"
     ]
    },
    {
     "name": "stderr",
     "output_type": "stream",
     "text": [
      "Epoch 153 - Training: 100%|████████████████████████████████████████████████████████████| 30/30 [00:00<00:00, 809.16it/s]\n"
     ]
    },
    {
     "name": "stdout",
     "output_type": "stream",
     "text": [
      "Training Loss= 0.46346939901510875\n",
      "Training Acc(%)= 85.0\n",
      "Validation Acc(%)= 76.66666666666667\n",
      "Running Epoch:154\n"
     ]
    },
    {
     "name": "stderr",
     "output_type": "stream",
     "text": [
      "Epoch 154 - Training: 100%|████████████████████████████████████████████████████████████| 30/30 [00:00<00:00, 800.25it/s]\n"
     ]
    },
    {
     "name": "stdout",
     "output_type": "stream",
     "text": [
      "Training Loss= 0.4598612954219182\n",
      "Training Acc(%)= 85.41666666666666\n",
      "Validation Acc(%)= 73.33333333333333\n",
      "Running Epoch:155\n"
     ]
    },
    {
     "name": "stderr",
     "output_type": "stream",
     "text": [
      "Epoch 155 - Training: 100%|████████████████████████████████████████████████████████████| 30/30 [00:00<00:00, 789.64it/s]\n"
     ]
    },
    {
     "name": "stdout",
     "output_type": "stream",
     "text": [
      "Training Loss= 0.45399215718110403\n",
      "Training Acc(%)= 86.25\n",
      "Validation Acc(%)= 80.0\n",
      "Running Epoch:156\n"
     ]
    },
    {
     "name": "stderr",
     "output_type": "stream",
     "text": [
      "Epoch 156 - Training: 100%|████████████████████████████████████████████████████████████| 30/30 [00:00<00:00, 843.02it/s]\n"
     ]
    },
    {
     "name": "stdout",
     "output_type": "stream",
     "text": [
      "Training Loss= 0.4631566792726517\n",
      "Training Acc(%)= 84.58333333333333\n",
      "Validation Acc(%)= 76.66666666666667\n",
      "Running Epoch:157\n"
     ]
    },
    {
     "name": "stderr",
     "output_type": "stream",
     "text": [
      "Epoch 157 - Training: 100%|████████████████████████████████████████████████████████████| 30/30 [00:00<00:00, 824.13it/s]\n"
     ]
    },
    {
     "name": "stdout",
     "output_type": "stream",
     "text": [
      "Training Loss= 0.4633062978585561\n",
      "Training Acc(%)= 84.16666666666667\n",
      "Validation Acc(%)= 80.0\n",
      "Running Epoch:158\n"
     ]
    },
    {
     "name": "stderr",
     "output_type": "stream",
     "text": [
      "Epoch 158 - Training: 100%|████████████████████████████████████████████████████████████| 30/30 [00:00<00:00, 803.52it/s]\n"
     ]
    },
    {
     "name": "stdout",
     "output_type": "stream",
     "text": [
      "Training Loss= 0.4478577862183253\n",
      "Training Acc(%)= 87.08333333333333\n",
      "Validation Acc(%)= 80.0\n",
      "Running Epoch:159\n"
     ]
    },
    {
     "name": "stderr",
     "output_type": "stream",
     "text": [
      "Epoch 159 - Training: 100%|████████████████████████████████████████████████████████████| 30/30 [00:00<00:00, 830.11it/s]\n"
     ]
    },
    {
     "name": "stdout",
     "output_type": "stream",
     "text": [
      "Training Loss= 0.44522461891174314\n",
      "Training Acc(%)= 87.08333333333333\n",
      "Validation Acc(%)= 83.33333333333334\n",
      "Running Epoch:160\n"
     ]
    },
    {
     "name": "stderr",
     "output_type": "stream",
     "text": [
      "Epoch 160 - Training: 100%|████████████████████████████████████████████████████████████| 30/30 [00:00<00:00, 825.84it/s]\n"
     ]
    },
    {
     "name": "stdout",
     "output_type": "stream",
     "text": [
      "Training Loss= 0.45807168185710906\n",
      "Training Acc(%)= 84.58333333333333\n",
      "Validation Acc(%)= 80.0\n",
      "Running Epoch:161\n"
     ]
    },
    {
     "name": "stderr",
     "output_type": "stream",
     "text": [
      "Epoch 161 - Training: 100%|████████████████████████████████████████████████████████████| 30/30 [00:00<00:00, 832.13it/s]\n"
     ]
    },
    {
     "name": "stdout",
     "output_type": "stream",
     "text": [
      "Training Loss= 0.4688106268644333\n",
      "Training Acc(%)= 83.75\n",
      "Validation Acc(%)= 83.33333333333334\n",
      "Running Epoch:162\n"
     ]
    },
    {
     "name": "stderr",
     "output_type": "stream",
     "text": [
      "Epoch 162 - Training: 100%|████████████████████████████████████████████████████████████| 30/30 [00:00<00:00, 737.15it/s]\n"
     ]
    },
    {
     "name": "stdout",
     "output_type": "stream",
     "text": [
      "Training Loss= 0.454748077193896\n",
      "Training Acc(%)= 84.58333333333333\n",
      "Validation Acc(%)= 80.0\n",
      "Running Epoch:163\n"
     ]
    },
    {
     "name": "stderr",
     "output_type": "stream",
     "text": [
      "Epoch 163 - Training: 100%|████████████████████████████████████████████████████████████| 30/30 [00:00<00:00, 835.90it/s]\n"
     ]
    },
    {
     "name": "stdout",
     "output_type": "stream",
     "text": [
      "Training Loss= 0.47203024129072824\n",
      "Training Acc(%)= 83.33333333333334\n",
      "Validation Acc(%)= 80.0\n",
      "Running Epoch:164\n"
     ]
    },
    {
     "name": "stderr",
     "output_type": "stream",
     "text": [
      "Epoch 164 - Training: 100%|████████████████████████████████████████████████████████████| 30/30 [00:00<00:00, 815.16it/s]\n"
     ]
    },
    {
     "name": "stdout",
     "output_type": "stream",
     "text": [
      "Training Loss= 0.4537021150191625\n",
      "Training Acc(%)= 86.25\n",
      "Validation Acc(%)= 80.0\n",
      "Running Epoch:165\n"
     ]
    },
    {
     "name": "stderr",
     "output_type": "stream",
     "text": [
      "Epoch 165 - Training: 100%|████████████████████████████████████████████████████████████| 30/30 [00:00<00:00, 821.81it/s]\n"
     ]
    },
    {
     "name": "stdout",
     "output_type": "stream",
     "text": [
      "Training Loss= 0.45443881352742516\n",
      "Training Acc(%)= 85.83333333333333\n",
      "Validation Acc(%)= 80.0\n",
      "Running Epoch:166\n"
     ]
    },
    {
     "name": "stderr",
     "output_type": "stream",
     "text": [
      "Epoch 166 - Training: 100%|████████████████████████████████████████████████████████████| 30/30 [00:00<00:00, 804.10it/s]\n"
     ]
    },
    {
     "name": "stdout",
     "output_type": "stream",
     "text": [
      "Training Loss= 0.4682587534189224\n",
      "Training Acc(%)= 83.75\n",
      "Validation Acc(%)= 80.0\n",
      "Running Epoch:167\n"
     ]
    },
    {
     "name": "stderr",
     "output_type": "stream",
     "text": [
      "Epoch 167 - Training: 100%|████████████████████████████████████████████████████████████| 30/30 [00:00<00:00, 795.53it/s]\n"
     ]
    },
    {
     "name": "stdout",
     "output_type": "stream",
     "text": [
      "Training Loss= 0.45232056081295013\n",
      "Training Acc(%)= 85.41666666666666\n",
      "Validation Acc(%)= 76.66666666666667\n",
      "Running Epoch:168\n"
     ]
    },
    {
     "name": "stderr",
     "output_type": "stream",
     "text": [
      "Epoch 168 - Training: 100%|████████████████████████████████████████████████████████████| 30/30 [00:00<00:00, 726.45it/s]\n"
     ]
    },
    {
     "name": "stdout",
     "output_type": "stream",
     "text": [
      "Training Loss= 0.4489509850740433\n",
      "Training Acc(%)= 87.08333333333333\n",
      "Validation Acc(%)= 80.0\n",
      "Running Epoch:169\n"
     ]
    },
    {
     "name": "stderr",
     "output_type": "stream",
     "text": [
      "Epoch 169 - Training: 100%|████████████████████████████████████████████████████████████| 30/30 [00:00<00:00, 795.20it/s]\n"
     ]
    },
    {
     "name": "stdout",
     "output_type": "stream",
     "text": [
      "Training Loss= 0.45554931660493214\n",
      "Training Acc(%)= 85.83333333333333\n",
      "Validation Acc(%)= 80.0\n",
      "Running Epoch:170\n"
     ]
    },
    {
     "name": "stderr",
     "output_type": "stream",
     "text": [
      "Epoch 170 - Training: 100%|████████████████████████████████████████████████████████████| 30/30 [00:00<00:00, 802.61it/s]\n"
     ]
    },
    {
     "name": "stdout",
     "output_type": "stream",
     "text": [
      "Training Loss= 0.44890755812327066\n",
      "Training Acc(%)= 86.25\n",
      "Validation Acc(%)= 80.0\n",
      "Running Epoch:171\n"
     ]
    },
    {
     "name": "stderr",
     "output_type": "stream",
     "text": [
      "Epoch 171 - Training: 100%|████████████████████████████████████████████████████████████| 30/30 [00:00<00:00, 815.62it/s]\n"
     ]
    },
    {
     "name": "stdout",
     "output_type": "stream",
     "text": [
      "Training Loss= 0.45860610604286195\n",
      "Training Acc(%)= 86.66666666666667\n",
      "Validation Acc(%)= 83.33333333333334\n",
      "Running Epoch:172\n"
     ]
    },
    {
     "name": "stderr",
     "output_type": "stream",
     "text": [
      "Epoch 172 - Training: 100%|████████████████████████████████████████████████████████████| 30/30 [00:00<00:00, 784.55it/s]\n"
     ]
    },
    {
     "name": "stdout",
     "output_type": "stream",
     "text": [
      "Training Loss= 0.44927915136019386\n",
      "Training Acc(%)= 86.25\n",
      "Validation Acc(%)= 76.66666666666667\n",
      "Running Epoch:173\n"
     ]
    },
    {
     "name": "stderr",
     "output_type": "stream",
     "text": [
      "Epoch 173 - Training: 100%|████████████████████████████████████████████████████████████| 30/30 [00:00<00:00, 795.27it/s]\n"
     ]
    },
    {
     "name": "stdout",
     "output_type": "stream",
     "text": [
      "Training Loss= 0.4548270006974538\n",
      "Training Acc(%)= 84.16666666666667\n",
      "Validation Acc(%)= 83.33333333333334\n",
      "Running Epoch:174\n"
     ]
    },
    {
     "name": "stderr",
     "output_type": "stream",
     "text": [
      "Epoch 174 - Training: 100%|████████████████████████████████████████████████████████████| 30/30 [00:00<00:00, 798.26it/s]\n"
     ]
    },
    {
     "name": "stdout",
     "output_type": "stream",
     "text": [
      "Training Loss= 0.4480769455432892\n",
      "Training Acc(%)= 86.25\n",
      "Validation Acc(%)= 83.33333333333334\n",
      "Running Epoch:175\n"
     ]
    },
    {
     "name": "stderr",
     "output_type": "stream",
     "text": [
      "Epoch 175 - Training: 100%|████████████████████████████████████████████████████████████| 30/30 [00:00<00:00, 760.40it/s]\n"
     ]
    },
    {
     "name": "stdout",
     "output_type": "stream",
     "text": [
      "Training Loss= 0.46733436187108357\n",
      "Training Acc(%)= 82.5\n",
      "Validation Acc(%)= 76.66666666666667\n",
      "Running Epoch:176\n"
     ]
    },
    {
     "name": "stderr",
     "output_type": "stream",
     "text": [
      "Epoch 176 - Training: 100%|████████████████████████████████████████████████████████████| 30/30 [00:00<00:00, 790.37it/s]\n"
     ]
    },
    {
     "name": "stdout",
     "output_type": "stream",
     "text": [
      "Training Loss= 0.464523246884346\n",
      "Training Acc(%)= 84.16666666666667\n",
      "Validation Acc(%)= 76.66666666666667\n",
      "Running Epoch:177\n"
     ]
    },
    {
     "name": "stderr",
     "output_type": "stream",
     "text": [
      "Epoch 177 - Training: 100%|████████████████████████████████████████████████████████████| 30/30 [00:00<00:00, 819.42it/s]\n"
     ]
    },
    {
     "name": "stdout",
     "output_type": "stream",
     "text": [
      "Training Loss= 0.45377003252506254\n",
      "Training Acc(%)= 85.83333333333333\n",
      "Validation Acc(%)= 80.0\n",
      "Running Epoch:178\n"
     ]
    },
    {
     "name": "stderr",
     "output_type": "stream",
     "text": [
      "Epoch 178 - Training: 100%|████████████████████████████████████████████████████████████| 30/30 [00:00<00:00, 791.00it/s]\n"
     ]
    },
    {
     "name": "stdout",
     "output_type": "stream",
     "text": [
      "Training Loss= 0.4513414849837621\n",
      "Training Acc(%)= 86.25\n",
      "Validation Acc(%)= 80.0\n",
      "Running Epoch:179\n"
     ]
    },
    {
     "name": "stderr",
     "output_type": "stream",
     "text": [
      "Epoch 179 - Training: 100%|████████████████████████████████████████████████████████████| 30/30 [00:00<00:00, 799.75it/s]\n"
     ]
    },
    {
     "name": "stdout",
     "output_type": "stream",
     "text": [
      "Training Loss= 0.4483101010322571\n",
      "Training Acc(%)= 86.25\n",
      "Validation Acc(%)= 80.0\n",
      "Running Epoch:180\n"
     ]
    },
    {
     "name": "stderr",
     "output_type": "stream",
     "text": [
      "Epoch 180 - Training: 100%|████████████████████████████████████████████████████████████| 30/30 [00:00<00:00, 759.04it/s]\n"
     ]
    },
    {
     "name": "stdout",
     "output_type": "stream",
     "text": [
      "Training Loss= 0.437710706392924\n",
      "Training Acc(%)= 87.5\n",
      "Validation Acc(%)= 76.66666666666667\n",
      "Running Epoch:181\n"
     ]
    },
    {
     "name": "stderr",
     "output_type": "stream",
     "text": [
      "Epoch 181 - Training: 100%|████████████████████████████████████████████████████████████| 30/30 [00:00<00:00, 787.08it/s]\n"
     ]
    },
    {
     "name": "stdout",
     "output_type": "stream",
     "text": [
      "Training Loss= 0.4463278075059255\n",
      "Training Acc(%)= 86.66666666666667\n",
      "Validation Acc(%)= 80.0\n",
      "Running Epoch:182\n"
     ]
    },
    {
     "name": "stderr",
     "output_type": "stream",
     "text": [
      "Epoch 182 - Training: 100%|████████████████████████████████████████████████████████████| 30/30 [00:00<00:00, 821.61it/s]\n"
     ]
    },
    {
     "name": "stdout",
     "output_type": "stream",
     "text": [
      "Training Loss= 0.4432964732249578\n",
      "Training Acc(%)= 87.08333333333333\n",
      "Validation Acc(%)= 83.33333333333334\n",
      "Running Epoch:183\n"
     ]
    },
    {
     "name": "stderr",
     "output_type": "stream",
     "text": [
      "Epoch 183 - Training: 100%|████████████████████████████████████████████████████████████| 30/30 [00:00<00:00, 806.98it/s]\n"
     ]
    },
    {
     "name": "stdout",
     "output_type": "stream",
     "text": [
      "Training Loss= 0.45448147455851234\n",
      "Training Acc(%)= 85.83333333333333\n",
      "Validation Acc(%)= 83.33333333333334\n",
      "Running Epoch:184\n"
     ]
    },
    {
     "name": "stderr",
     "output_type": "stream",
     "text": [
      "Epoch 184 - Training: 100%|████████████████████████████████████████████████████████████| 30/30 [00:00<00:00, 799.30it/s]\n"
     ]
    },
    {
     "name": "stdout",
     "output_type": "stream",
     "text": [
      "Training Loss= 0.4445174366235733\n",
      "Training Acc(%)= 86.25\n",
      "Validation Acc(%)= 80.0\n",
      "Running Epoch:185\n"
     ]
    },
    {
     "name": "stderr",
     "output_type": "stream",
     "text": [
      "Epoch 185 - Training: 100%|████████████████████████████████████████████████████████████| 30/30 [00:00<00:00, 822.02it/s]\n"
     ]
    },
    {
     "name": "stdout",
     "output_type": "stream",
     "text": [
      "Training Loss= 0.44147620101769763\n",
      "Training Acc(%)= 87.08333333333333\n",
      "Validation Acc(%)= 83.33333333333334\n",
      "Running Epoch:186\n"
     ]
    },
    {
     "name": "stderr",
     "output_type": "stream",
     "text": [
      "Epoch 186 - Training: 100%|████████████████████████████████████████████████████████████| 30/30 [00:00<00:00, 785.54it/s]\n"
     ]
    },
    {
     "name": "stdout",
     "output_type": "stream",
     "text": [
      "Training Loss= 0.46290572384993234\n",
      "Training Acc(%)= 85.0\n",
      "Validation Acc(%)= 83.33333333333334\n",
      "Running Epoch:187\n"
     ]
    },
    {
     "name": "stderr",
     "output_type": "stream",
     "text": [
      "Epoch 187 - Training: 100%|████████████████████████████████████████████████████████████| 30/30 [00:00<00:00, 790.28it/s]\n"
     ]
    },
    {
     "name": "stdout",
     "output_type": "stream",
     "text": [
      "Training Loss= 0.4496414085229238\n",
      "Training Acc(%)= 86.25\n",
      "Validation Acc(%)= 83.33333333333334\n",
      "Running Epoch:188\n"
     ]
    },
    {
     "name": "stderr",
     "output_type": "stream",
     "text": [
      "Epoch 188 - Training: 100%|████████████████████████████████████████████████████████████| 30/30 [00:00<00:00, 776.13it/s]\n"
     ]
    },
    {
     "name": "stdout",
     "output_type": "stream",
     "text": [
      "Training Loss= 0.4475042929251989\n",
      "Training Acc(%)= 86.66666666666667\n",
      "Validation Acc(%)= 83.33333333333334\n",
      "Running Epoch:189\n"
     ]
    },
    {
     "name": "stderr",
     "output_type": "stream",
     "text": [
      "Epoch 189 - Training: 100%|████████████████████████████████████████████████████████████| 30/30 [00:00<00:00, 798.76it/s]\n"
     ]
    },
    {
     "name": "stdout",
     "output_type": "stream",
     "text": [
      "Training Loss= 0.4581583301226298\n",
      "Training Acc(%)= 85.0\n",
      "Validation Acc(%)= 80.0\n",
      "Running Epoch:190\n"
     ]
    },
    {
     "name": "stderr",
     "output_type": "stream",
     "text": [
      "Epoch 190 - Training: 100%|████████████████████████████████████████████████████████████| 30/30 [00:00<00:00, 782.12it/s]\n"
     ]
    },
    {
     "name": "stdout",
     "output_type": "stream",
     "text": [
      "Training Loss= 0.4573131968577703\n",
      "Training Acc(%)= 84.58333333333333\n",
      "Validation Acc(%)= 76.66666666666667\n",
      "Running Epoch:191\n"
     ]
    },
    {
     "name": "stderr",
     "output_type": "stream",
     "text": [
      "Epoch 191 - Training: 100%|████████████████████████████████████████████████████████████| 30/30 [00:00<00:00, 713.50it/s]\n"
     ]
    },
    {
     "name": "stdout",
     "output_type": "stream",
     "text": [
      "Training Loss= 0.4433410793542862\n",
      "Training Acc(%)= 86.66666666666667\n",
      "Validation Acc(%)= 83.33333333333334\n",
      "Running Epoch:192\n"
     ]
    },
    {
     "name": "stderr",
     "output_type": "stream",
     "text": [
      "Epoch 192 - Training: 100%|████████████████████████████████████████████████████████████| 30/30 [00:00<00:00, 792.58it/s]\n"
     ]
    },
    {
     "name": "stdout",
     "output_type": "stream",
     "text": [
      "Training Loss= 0.4272841691970825\n",
      "Training Acc(%)= 89.16666666666667\n",
      "Validation Acc(%)= 83.33333333333334\n",
      "Running Epoch:193\n"
     ]
    },
    {
     "name": "stderr",
     "output_type": "stream",
     "text": [
      "Epoch 193 - Training: 100%|████████████████████████████████████████████████████████████| 30/30 [00:00<00:00, 766.19it/s]\n"
     ]
    },
    {
     "name": "stdout",
     "output_type": "stream",
     "text": [
      "Training Loss= 0.43642221987247465\n",
      "Training Acc(%)= 87.5\n",
      "Validation Acc(%)= 83.33333333333334\n",
      "Running Epoch:194\n"
     ]
    },
    {
     "name": "stderr",
     "output_type": "stream",
     "text": [
      "Epoch 194 - Training: 100%|████████████████████████████████████████████████████████████| 30/30 [00:00<00:00, 770.37it/s]\n"
     ]
    },
    {
     "name": "stdout",
     "output_type": "stream",
     "text": [
      "Training Loss= 0.4638355712095896\n",
      "Training Acc(%)= 84.16666666666667\n",
      "Validation Acc(%)= 83.33333333333334\n",
      "Running Epoch:195\n"
     ]
    },
    {
     "name": "stderr",
     "output_type": "stream",
     "text": [
      "Epoch 195 - Training: 100%|████████████████████████████████████████████████████████████| 30/30 [00:00<00:00, 812.19it/s]\n"
     ]
    },
    {
     "name": "stdout",
     "output_type": "stream",
     "text": [
      "Training Loss= 0.4431444446245829\n",
      "Training Acc(%)= 87.08333333333333\n",
      "Validation Acc(%)= 80.0\n",
      "Running Epoch:196\n"
     ]
    },
    {
     "name": "stderr",
     "output_type": "stream",
     "text": [
      "Epoch 196 - Training: 100%|████████████████████████████████████████████████████████████| 30/30 [00:00<00:00, 794.40it/s]\n"
     ]
    },
    {
     "name": "stdout",
     "output_type": "stream",
     "text": [
      "Training Loss= 0.4549009919166565\n",
      "Training Acc(%)= 84.16666666666667\n",
      "Validation Acc(%)= 80.0\n",
      "Running Epoch:197\n"
     ]
    },
    {
     "name": "stderr",
     "output_type": "stream",
     "text": [
      "Epoch 197 - Training: 100%|████████████████████████████████████████████████████████████| 30/30 [00:00<00:00, 816.04it/s]\n"
     ]
    },
    {
     "name": "stdout",
     "output_type": "stream",
     "text": [
      "Training Loss= 0.45643841922283174\n",
      "Training Acc(%)= 85.0\n",
      "Validation Acc(%)= 83.33333333333334\n",
      "Running Epoch:198\n"
     ]
    },
    {
     "name": "stderr",
     "output_type": "stream",
     "text": [
      "Epoch 198 - Training: 100%|████████████████████████████████████████████████████████████| 30/30 [00:00<00:00, 765.77it/s]\n"
     ]
    },
    {
     "name": "stdout",
     "output_type": "stream",
     "text": [
      "Training Loss= 0.45370292067527773\n",
      "Training Acc(%)= 85.83333333333333\n",
      "Validation Acc(%)= 83.33333333333334\n",
      "Running Epoch:199\n"
     ]
    },
    {
     "name": "stderr",
     "output_type": "stream",
     "text": [
      "Epoch 199 - Training: 100%|████████████████████████████████████████████████████████████| 30/30 [00:00<00:00, 774.98it/s]\n"
     ]
    },
    {
     "name": "stdout",
     "output_type": "stream",
     "text": [
      "Training Loss= 0.4490222066640854\n",
      "Training Acc(%)= 85.0\n",
      "Validation Acc(%)= 76.66666666666667\n",
      "Running Epoch:200\n"
     ]
    },
    {
     "name": "stderr",
     "output_type": "stream",
     "text": [
      "Epoch 200 - Training: 100%|████████████████████████████████████████████████████████████| 30/30 [00:00<00:00, 812.32it/s]\n"
     ]
    },
    {
     "name": "stdout",
     "output_type": "stream",
     "text": [
      "Training Loss= 0.4402317970991135\n",
      "Training Acc(%)= 87.5\n",
      "Validation Acc(%)= 80.0\n",
      "Running Epoch:201\n"
     ]
    },
    {
     "name": "stderr",
     "output_type": "stream",
     "text": [
      "Epoch 201 - Training: 100%|████████████████████████████████████████████████████████████| 30/30 [00:00<00:00, 782.42it/s]\n"
     ]
    },
    {
     "name": "stdout",
     "output_type": "stream",
     "text": [
      "Training Loss= 0.45465616285800936\n",
      "Training Acc(%)= 84.58333333333333\n",
      "Validation Acc(%)= 80.0\n",
      "Running Epoch:202\n"
     ]
    },
    {
     "name": "stderr",
     "output_type": "stream",
     "text": [
      "Epoch 202 - Training: 100%|████████████████████████████████████████████████████████████| 30/30 [00:00<00:00, 820.81it/s]\n"
     ]
    },
    {
     "name": "stdout",
     "output_type": "stream",
     "text": [
      "Training Loss= 0.43728919327259064\n",
      "Training Acc(%)= 87.91666666666667\n",
      "Validation Acc(%)= 80.0\n",
      "Running Epoch:203\n"
     ]
    },
    {
     "name": "stderr",
     "output_type": "stream",
     "text": [
      "Epoch 203 - Training: 100%|████████████████████████████████████████████████████████████| 30/30 [00:00<00:00, 752.73it/s]\n"
     ]
    },
    {
     "name": "stdout",
     "output_type": "stream",
     "text": [
      "Training Loss= 0.43502768576145173\n",
      "Training Acc(%)= 88.75\n",
      "Validation Acc(%)= 83.33333333333334\n",
      "Running Epoch:204\n"
     ]
    },
    {
     "name": "stderr",
     "output_type": "stream",
     "text": [
      "Epoch 204 - Training: 100%|████████████████████████████████████████████████████████████| 30/30 [00:00<00:00, 780.02it/s]\n"
     ]
    },
    {
     "name": "stdout",
     "output_type": "stream",
     "text": [
      "Training Loss= 0.4479970504840215\n",
      "Training Acc(%)= 86.66666666666667\n",
      "Validation Acc(%)= 80.0\n",
      "Running Epoch:205\n"
     ]
    },
    {
     "name": "stderr",
     "output_type": "stream",
     "text": [
      "Epoch 205 - Training: 100%|████████████████████████████████████████████████████████████| 30/30 [00:00<00:00, 753.59it/s]\n"
     ]
    },
    {
     "name": "stdout",
     "output_type": "stream",
     "text": [
      "Training Loss= 0.4652859995762507\n",
      "Training Acc(%)= 85.83333333333333\n",
      "Validation Acc(%)= 83.33333333333334\n",
      "Running Epoch:206\n"
     ]
    },
    {
     "name": "stderr",
     "output_type": "stream",
     "text": [
      "Epoch 206 - Training: 100%|████████████████████████████████████████████████████████████| 30/30 [00:00<00:00, 819.02it/s]\n"
     ]
    },
    {
     "name": "stdout",
     "output_type": "stream",
     "text": [
      "Training Loss= 0.45980948209762573\n",
      "Training Acc(%)= 85.0\n",
      "Validation Acc(%)= 80.0\n",
      "Running Epoch:207\n"
     ]
    },
    {
     "name": "stderr",
     "output_type": "stream",
     "text": [
      "Epoch 207 - Training: 100%|████████████████████████████████████████████████████████████| 30/30 [00:00<00:00, 780.95it/s]\n"
     ]
    },
    {
     "name": "stdout",
     "output_type": "stream",
     "text": [
      "Training Loss= 0.4607708921035131\n",
      "Training Acc(%)= 84.58333333333333\n",
      "Validation Acc(%)= 76.66666666666667\n",
      "Running Epoch:208\n"
     ]
    },
    {
     "name": "stderr",
     "output_type": "stream",
     "text": [
      "Epoch 208 - Training: 100%|████████████████████████████████████████████████████████████| 30/30 [00:00<00:00, 790.32it/s]\n"
     ]
    },
    {
     "name": "stdout",
     "output_type": "stream",
     "text": [
      "Training Loss= 0.43519493440787\n",
      "Training Acc(%)= 87.91666666666667\n",
      "Validation Acc(%)= 80.0\n",
      "Running Epoch:209\n"
     ]
    },
    {
     "name": "stderr",
     "output_type": "stream",
     "text": [
      "Epoch 209 - Training: 100%|████████████████████████████████████████████████████████████| 30/30 [00:00<00:00, 781.51it/s]\n"
     ]
    },
    {
     "name": "stdout",
     "output_type": "stream",
     "text": [
      "Training Loss= 0.4597767780224482\n",
      "Training Acc(%)= 85.0\n",
      "Validation Acc(%)= 76.66666666666667\n",
      "Running Epoch:210\n"
     ]
    },
    {
     "name": "stderr",
     "output_type": "stream",
     "text": [
      "Epoch 210 - Training: 100%|████████████████████████████████████████████████████████████| 30/30 [00:00<00:00, 767.01it/s]\n"
     ]
    },
    {
     "name": "stdout",
     "output_type": "stream",
     "text": [
      "Training Loss= 0.43676055371761324\n",
      "Training Acc(%)= 87.91666666666667\n",
      "Validation Acc(%)= 76.66666666666667\n",
      "Running Epoch:211\n"
     ]
    },
    {
     "name": "stderr",
     "output_type": "stream",
     "text": [
      "Epoch 211 - Training: 100%|████████████████████████████████████████████████████████████| 30/30 [00:00<00:00, 777.15it/s]\n"
     ]
    },
    {
     "name": "stdout",
     "output_type": "stream",
     "text": [
      "Training Loss= 0.44900454878807067\n",
      "Training Acc(%)= 85.83333333333333\n",
      "Validation Acc(%)= 80.0\n",
      "Running Epoch:212\n"
     ]
    },
    {
     "name": "stderr",
     "output_type": "stream",
     "text": [
      "Epoch 212 - Training: 100%|████████████████████████████████████████████████████████████| 30/30 [00:00<00:00, 760.26it/s]\n"
     ]
    },
    {
     "name": "stdout",
     "output_type": "stream",
     "text": [
      "Training Loss= 0.43860692779223126\n",
      "Training Acc(%)= 87.08333333333333\n",
      "Validation Acc(%)= 83.33333333333334\n",
      "Running Epoch:213\n"
     ]
    },
    {
     "name": "stderr",
     "output_type": "stream",
     "text": [
      "Epoch 213 - Training: 100%|████████████████████████████████████████████████████████████| 30/30 [00:00<00:00, 728.36it/s]\n"
     ]
    },
    {
     "name": "stdout",
     "output_type": "stream",
     "text": [
      "Training Loss= 0.46126185556252797\n",
      "Training Acc(%)= 85.0\n",
      "Validation Acc(%)= 76.66666666666667\n",
      "Running Epoch:214\n"
     ]
    },
    {
     "name": "stderr",
     "output_type": "stream",
     "text": [
      "Epoch 214 - Training: 100%|████████████████████████████████████████████████████████████| 30/30 [00:00<00:00, 791.78it/s]\n"
     ]
    },
    {
     "name": "stdout",
     "output_type": "stream",
     "text": [
      "Training Loss= 0.45082021355628965\n",
      "Training Acc(%)= 85.41666666666666\n",
      "Validation Acc(%)= 76.66666666666667\n",
      "Running Epoch:215\n"
     ]
    },
    {
     "name": "stderr",
     "output_type": "stream",
     "text": [
      "Epoch 215 - Training: 100%|████████████████████████████████████████████████████████████| 30/30 [00:00<00:00, 725.14it/s]\n"
     ]
    },
    {
     "name": "stdout",
     "output_type": "stream",
     "text": [
      "Training Loss= 0.44337850411732993\n",
      "Training Acc(%)= 87.08333333333333\n",
      "Validation Acc(%)= 73.33333333333333\n",
      "Running Epoch:216\n"
     ]
    },
    {
     "name": "stderr",
     "output_type": "stream",
     "text": [
      "Epoch 216 - Training: 100%|████████████████████████████████████████████████████████████| 30/30 [00:00<00:00, 750.77it/s]\n"
     ]
    },
    {
     "name": "stdout",
     "output_type": "stream",
     "text": [
      "Training Loss= 0.4435809314250946\n",
      "Training Acc(%)= 86.25\n",
      "Validation Acc(%)= 83.33333333333334\n",
      "Running Epoch:217\n"
     ]
    },
    {
     "name": "stderr",
     "output_type": "stream",
     "text": [
      "Epoch 217 - Training: 100%|████████████████████████████████████████████████████████████| 30/30 [00:00<00:00, 689.94it/s]\n"
     ]
    },
    {
     "name": "stdout",
     "output_type": "stream",
     "text": [
      "Training Loss= 0.45658145348231\n",
      "Training Acc(%)= 84.58333333333333\n",
      "Validation Acc(%)= 80.0\n",
      "Running Epoch:218\n"
     ]
    },
    {
     "name": "stderr",
     "output_type": "stream",
     "text": [
      "Epoch 218 - Training: 100%|████████████████████████████████████████████████████████████| 30/30 [00:00<00:00, 790.07it/s]\n"
     ]
    },
    {
     "name": "stdout",
     "output_type": "stream",
     "text": [
      "Training Loss= 0.4476350486278534\n",
      "Training Acc(%)= 87.08333333333333\n",
      "Validation Acc(%)= 80.0\n",
      "Running Epoch:219\n"
     ]
    },
    {
     "name": "stderr",
     "output_type": "stream",
     "text": [
      "Epoch 219 - Training: 100%|████████████████████████████████████████████████████████████| 30/30 [00:00<00:00, 720.25it/s]\n"
     ]
    },
    {
     "name": "stdout",
     "output_type": "stream",
     "text": [
      "Training Loss= 0.4474327713251114\n",
      "Training Acc(%)= 85.41666666666666\n",
      "Validation Acc(%)= 80.0\n",
      "Running Epoch:220\n"
     ]
    },
    {
     "name": "stderr",
     "output_type": "stream",
     "text": [
      "Epoch 220 - Training: 100%|████████████████████████████████████████████████████████████| 30/30 [00:00<00:00, 798.99it/s]\n"
     ]
    },
    {
     "name": "stdout",
     "output_type": "stream",
     "text": [
      "Training Loss= 0.44285413026809695\n",
      "Training Acc(%)= 85.41666666666666\n",
      "Validation Acc(%)= 80.0\n",
      "Running Epoch:221\n"
     ]
    },
    {
     "name": "stderr",
     "output_type": "stream",
     "text": [
      "Epoch 221 - Training: 100%|████████████████████████████████████████████████████████████| 30/30 [00:00<00:00, 767.10it/s]\n"
     ]
    },
    {
     "name": "stdout",
     "output_type": "stream",
     "text": [
      "Training Loss= 0.44812172452608745\n",
      "Training Acc(%)= 86.66666666666667\n",
      "Validation Acc(%)= 86.66666666666667\n",
      "Running Epoch:222\n"
     ]
    },
    {
     "name": "stderr",
     "output_type": "stream",
     "text": [
      "Epoch 222 - Training: 100%|████████████████████████████████████████████████████████████| 30/30 [00:00<00:00, 781.16it/s]\n"
     ]
    },
    {
     "name": "stdout",
     "output_type": "stream",
     "text": [
      "Training Loss= 0.4377875566482544\n",
      "Training Acc(%)= 87.08333333333333\n",
      "Validation Acc(%)= 86.66666666666667\n",
      "Running Epoch:223\n"
     ]
    },
    {
     "name": "stderr",
     "output_type": "stream",
     "text": [
      "Epoch 223 - Training: 100%|████████████████████████████████████████████████████████████| 30/30 [00:00<00:00, 743.15it/s]\n"
     ]
    },
    {
     "name": "stdout",
     "output_type": "stream",
     "text": [
      "Training Loss= 0.444267338514328\n",
      "Training Acc(%)= 85.83333333333333\n",
      "Validation Acc(%)= 83.33333333333334\n",
      "Running Epoch:224\n"
     ]
    },
    {
     "name": "stderr",
     "output_type": "stream",
     "text": [
      "Epoch 224 - Training: 100%|████████████████████████████████████████████████████████████| 30/30 [00:00<00:00, 747.24it/s]\n"
     ]
    },
    {
     "name": "stdout",
     "output_type": "stream",
     "text": [
      "Training Loss= 0.44889748295148213\n",
      "Training Acc(%)= 85.83333333333333\n",
      "Validation Acc(%)= 80.0\n",
      "Running Epoch:225\n"
     ]
    },
    {
     "name": "stderr",
     "output_type": "stream",
     "text": [
      "Epoch 225 - Training: 100%|████████████████████████████████████████████████████████████| 30/30 [00:00<00:00, 780.82it/s]\n"
     ]
    },
    {
     "name": "stdout",
     "output_type": "stream",
     "text": [
      "Training Loss= 0.43313229580720264\n",
      "Training Acc(%)= 88.75\n",
      "Validation Acc(%)= 83.33333333333334\n",
      "Running Epoch:226\n"
     ]
    },
    {
     "name": "stderr",
     "output_type": "stream",
     "text": [
      "Epoch 226 - Training: 100%|████████████████████████████████████████████████████████████| 30/30 [00:00<00:00, 739.32it/s]\n"
     ]
    },
    {
     "name": "stdout",
     "output_type": "stream",
     "text": [
      "Training Loss= 0.44014935692151386\n",
      "Training Acc(%)= 88.33333333333333\n",
      "Validation Acc(%)= 83.33333333333334\n",
      "Running Epoch:227\n"
     ]
    },
    {
     "name": "stderr",
     "output_type": "stream",
     "text": [
      "Epoch 227 - Training: 100%|████████████████████████████████████████████████████████████| 30/30 [00:00<00:00, 751.59it/s]\n"
     ]
    },
    {
     "name": "stdout",
     "output_type": "stream",
     "text": [
      "Training Loss= 0.4328840951124827\n",
      "Training Acc(%)= 87.91666666666667\n",
      "Validation Acc(%)= 83.33333333333334\n",
      "Running Epoch:228\n"
     ]
    },
    {
     "name": "stderr",
     "output_type": "stream",
     "text": [
      "Epoch 228 - Training: 100%|████████████████████████████████████████████████████████████| 30/30 [00:00<00:00, 790.29it/s]\n"
     ]
    },
    {
     "name": "stdout",
     "output_type": "stream",
     "text": [
      "Training Loss= 0.4306020816167196\n",
      "Training Acc(%)= 87.08333333333333\n",
      "Validation Acc(%)= 83.33333333333334\n",
      "Running Epoch:229\n"
     ]
    },
    {
     "name": "stderr",
     "output_type": "stream",
     "text": [
      "Epoch 229 - Training: 100%|████████████████████████████████████████████████████████████| 30/30 [00:00<00:00, 716.84it/s]\n"
     ]
    },
    {
     "name": "stdout",
     "output_type": "stream",
     "text": [
      "Training Loss= 0.4460904975732168\n",
      "Training Acc(%)= 85.83333333333333\n",
      "Validation Acc(%)= 80.0\n",
      "Running Epoch:230\n"
     ]
    },
    {
     "name": "stderr",
     "output_type": "stream",
     "text": [
      "Epoch 230 - Training: 100%|████████████████████████████████████████████████████████████| 30/30 [00:00<00:00, 732.38it/s]\n"
     ]
    },
    {
     "name": "stdout",
     "output_type": "stream",
     "text": [
      "Training Loss= 0.44251248240470886\n",
      "Training Acc(%)= 86.25\n",
      "Validation Acc(%)= 80.0\n",
      "Running Epoch:231\n"
     ]
    },
    {
     "name": "stderr",
     "output_type": "stream",
     "text": [
      "Epoch 231 - Training: 100%|████████████████████████████████████████████████████████████| 30/30 [00:00<00:00, 804.18it/s]\n"
     ]
    },
    {
     "name": "stdout",
     "output_type": "stream",
     "text": [
      "Training Loss= 0.43613892098267876\n",
      "Training Acc(%)= 87.5\n",
      "Validation Acc(%)= 80.0\n",
      "Running Epoch:232\n"
     ]
    },
    {
     "name": "stderr",
     "output_type": "stream",
     "text": [
      "Epoch 232 - Training: 100%|████████████████████████████████████████████████████████████| 30/30 [00:00<00:00, 778.03it/s]\n"
     ]
    },
    {
     "name": "stdout",
     "output_type": "stream",
     "text": [
      "Training Loss= 0.4406215657790502\n",
      "Training Acc(%)= 86.66666666666667\n",
      "Validation Acc(%)= 83.33333333333334\n",
      "Running Epoch:233\n"
     ]
    },
    {
     "name": "stderr",
     "output_type": "stream",
     "text": [
      "Epoch 233 - Training: 100%|████████████████████████████████████████████████████████████| 30/30 [00:00<00:00, 814.90it/s]\n"
     ]
    },
    {
     "name": "stdout",
     "output_type": "stream",
     "text": [
      "Training Loss= 0.43590225676695504\n",
      "Training Acc(%)= 87.08333333333333\n",
      "Validation Acc(%)= 86.66666666666667\n",
      "Running Epoch:234\n"
     ]
    },
    {
     "name": "stderr",
     "output_type": "stream",
     "text": [
      "Epoch 234 - Training: 100%|████████████████████████████████████████████████████████████| 30/30 [00:00<00:00, 812.85it/s]\n"
     ]
    },
    {
     "name": "stdout",
     "output_type": "stream",
     "text": [
      "Training Loss= 0.4419604867696762\n",
      "Training Acc(%)= 87.08333333333333\n",
      "Validation Acc(%)= 83.33333333333334\n",
      "Running Epoch:235\n"
     ]
    },
    {
     "name": "stderr",
     "output_type": "stream",
     "text": [
      "Epoch 235 - Training: 100%|████████████████████████████████████████████████████████████| 30/30 [00:00<00:00, 755.16it/s]\n"
     ]
    },
    {
     "name": "stdout",
     "output_type": "stream",
     "text": [
      "Training Loss= 0.4327927579482396\n",
      "Training Acc(%)= 88.33333333333333\n",
      "Validation Acc(%)= 83.33333333333334\n",
      "Running Epoch:236\n"
     ]
    },
    {
     "name": "stderr",
     "output_type": "stream",
     "text": [
      "Epoch 236 - Training: 100%|████████████████████████████████████████████████████████████| 30/30 [00:00<00:00, 770.79it/s]\n"
     ]
    },
    {
     "name": "stdout",
     "output_type": "stream",
     "text": [
      "Training Loss= 0.44133311609427134\n",
      "Training Acc(%)= 87.08333333333333\n",
      "Validation Acc(%)= 83.33333333333334\n",
      "Running Epoch:237\n"
     ]
    },
    {
     "name": "stderr",
     "output_type": "stream",
     "text": [
      "Epoch 237 - Training: 100%|████████████████████████████████████████████████████████████| 30/30 [00:00<00:00, 782.52it/s]\n"
     ]
    },
    {
     "name": "stdout",
     "output_type": "stream",
     "text": [
      "Training Loss= 0.4354383796453476\n",
      "Training Acc(%)= 88.75\n",
      "Validation Acc(%)= 83.33333333333334\n",
      "Running Epoch:238\n"
     ]
    },
    {
     "name": "stderr",
     "output_type": "stream",
     "text": [
      "Epoch 238 - Training: 100%|████████████████████████████████████████████████████████████| 30/30 [00:00<00:00, 828.51it/s]\n"
     ]
    },
    {
     "name": "stdout",
     "output_type": "stream",
     "text": [
      "Training Loss= 0.44946934084097545\n",
      "Training Acc(%)= 87.08333333333333\n",
      "Validation Acc(%)= 83.33333333333334\n",
      "Running Epoch:239\n"
     ]
    },
    {
     "name": "stderr",
     "output_type": "stream",
     "text": [
      "Epoch 239 - Training: 100%|████████████████████████████████████████████████████████████| 30/30 [00:00<00:00, 772.28it/s]\n"
     ]
    },
    {
     "name": "stdout",
     "output_type": "stream",
     "text": [
      "Training Loss= 0.45365833938121797\n",
      "Training Acc(%)= 85.0\n",
      "Validation Acc(%)= 83.33333333333334\n",
      "Running Epoch:240\n"
     ]
    },
    {
     "name": "stderr",
     "output_type": "stream",
     "text": [
      "Epoch 240 - Training: 100%|████████████████████████████████████████████████████████████| 30/30 [00:00<00:00, 809.00it/s]\n"
     ]
    },
    {
     "name": "stdout",
     "output_type": "stream",
     "text": [
      "Training Loss= 0.44630645513534545\n",
      "Training Acc(%)= 86.66666666666667\n",
      "Validation Acc(%)= 83.33333333333334\n",
      "Running Epoch:241\n"
     ]
    },
    {
     "name": "stderr",
     "output_type": "stream",
     "text": [
      "Epoch 241 - Training: 100%|████████████████████████████████████████████████████████████| 30/30 [00:00<00:00, 719.49it/s]\n"
     ]
    },
    {
     "name": "stdout",
     "output_type": "stream",
     "text": [
      "Training Loss= 0.4393127471208572\n",
      "Training Acc(%)= 87.5\n",
      "Validation Acc(%)= 83.33333333333334\n",
      "Running Epoch:242\n"
     ]
    },
    {
     "name": "stderr",
     "output_type": "stream",
     "text": [
      "Epoch 242 - Training: 100%|████████████████████████████████████████████████████████████| 30/30 [00:00<00:00, 761.10it/s]\n"
     ]
    },
    {
     "name": "stdout",
     "output_type": "stream",
     "text": [
      "Training Loss= 0.4444826285044352\n",
      "Training Acc(%)= 85.83333333333333\n",
      "Validation Acc(%)= 83.33333333333334\n",
      "Running Epoch:243\n"
     ]
    },
    {
     "name": "stderr",
     "output_type": "stream",
     "text": [
      "Epoch 243 - Training: 100%|████████████████████████████████████████████████████████████| 30/30 [00:00<00:00, 744.29it/s]\n"
     ]
    },
    {
     "name": "stdout",
     "output_type": "stream",
     "text": [
      "Training Loss= 0.43213257392247517\n",
      "Training Acc(%)= 88.75\n",
      "Validation Acc(%)= 83.33333333333334\n",
      "Running Epoch:244\n"
     ]
    },
    {
     "name": "stderr",
     "output_type": "stream",
     "text": [
      "Epoch 244 - Training: 100%|████████████████████████████████████████████████████████████| 30/30 [00:00<00:00, 750.49it/s]\n"
     ]
    },
    {
     "name": "stdout",
     "output_type": "stream",
     "text": [
      "Training Loss= 0.4258612742026647\n",
      "Training Acc(%)= 88.33333333333333\n",
      "Validation Acc(%)= 83.33333333333334\n",
      "Running Epoch:245\n"
     ]
    },
    {
     "name": "stderr",
     "output_type": "stream",
     "text": [
      "Epoch 245 - Training: 100%|████████████████████████████████████████████████████████████| 30/30 [00:00<00:00, 750.95it/s]\n"
     ]
    },
    {
     "name": "stdout",
     "output_type": "stream",
     "text": [
      "Training Loss= 0.4374320864677429\n",
      "Training Acc(%)= 87.5\n",
      "Validation Acc(%)= 80.0\n",
      "Running Epoch:246\n"
     ]
    },
    {
     "name": "stderr",
     "output_type": "stream",
     "text": [
      "Epoch 246 - Training: 100%|████████████████████████████████████████████████████████████| 30/30 [00:00<00:00, 746.34it/s]\n"
     ]
    },
    {
     "name": "stdout",
     "output_type": "stream",
     "text": [
      "Training Loss= 0.43802713851133984\n",
      "Training Acc(%)= 86.25\n",
      "Validation Acc(%)= 83.33333333333334\n",
      "Running Epoch:247\n"
     ]
    },
    {
     "name": "stderr",
     "output_type": "stream",
     "text": [
      "Epoch 247 - Training: 100%|████████████████████████████████████████████████████████████| 30/30 [00:00<00:00, 736.76it/s]\n"
     ]
    },
    {
     "name": "stdout",
     "output_type": "stream",
     "text": [
      "Training Loss= 0.43547682762145995\n",
      "Training Acc(%)= 87.08333333333333\n",
      "Validation Acc(%)= 83.33333333333334\n",
      "Running Epoch:248\n"
     ]
    },
    {
     "name": "stderr",
     "output_type": "stream",
     "text": [
      "Epoch 248 - Training: 100%|████████████████████████████████████████████████████████████| 30/30 [00:00<00:00, 750.30it/s]\n"
     ]
    },
    {
     "name": "stdout",
     "output_type": "stream",
     "text": [
      "Training Loss= 0.43319479922453563\n",
      "Training Acc(%)= 87.91666666666667\n",
      "Validation Acc(%)= 80.0\n",
      "Running Epoch:249\n"
     ]
    },
    {
     "name": "stderr",
     "output_type": "stream",
     "text": [
      "Epoch 249 - Training: 100%|████████████████████████████████████████████████████████████| 30/30 [00:00<00:00, 781.29it/s]\n"
     ]
    },
    {
     "name": "stdout",
     "output_type": "stream",
     "text": [
      "Training Loss= 0.443436931570371\n",
      "Training Acc(%)= 87.08333333333333\n",
      "Validation Acc(%)= 83.33333333333334\n",
      "Running Epoch:250\n"
     ]
    },
    {
     "name": "stderr",
     "output_type": "stream",
     "text": [
      "Epoch 250 - Training: 100%|████████████████████████████████████████████████████████████| 30/30 [00:00<00:00, 803.26it/s]"
     ]
    },
    {
     "name": "stdout",
     "output_type": "stream",
     "text": [
      "Training Loss= 0.44243353803952534\n",
      "Training Acc(%)= 86.25\n",
      "Validation Acc(%)= 83.33333333333334\n"
     ]
    },
    {
     "name": "stderr",
     "output_type": "stream",
     "text": [
      "\n"
     ]
    }
   ],
   "source": [
    "device=torch.device('cuda')\n",
    "step_size=1000\n",
    "learning_rate = 0.001\n",
    "epoch = 250\n",
    "\n",
    "model = Model().to(device)\n",
    "print(model)\n",
    "criterion = nn.CrossEntropyLoss()\n",
    "optimizer = torch.optim.Adam(model.parameters(), lr=learning_rate)\n",
    "scheduler=torch.optim.lr_scheduler.StepLR(optimizer,step_size,0.1)\n",
    "train_acc_his,train_losses_his,valid_acc_his,valid_losses_his=[],[],[],[]\n",
    "for i in range(1, epoch+1):\n",
    "    print('Running Epoch:'+str(i))\n",
    "    train_correct,train_loss,train_total,valid_correct,valid_loss,valid_total=0,0,0,0,0,0\n",
    "    model.train()\n",
    "    for samples,labels in tqdm(train_loader, desc=f'Epoch {i} - Training'):\n",
    "        samples, labels = samples.to(device), labels.to(device)\n",
    "        pred = model(samples)\n",
    "        loss = criterion(pred, labels)\n",
    "        output_id = torch.max(pred, dim=1)[1]\n",
    "        train_correct += np.sum(torch.eq(labels, output_id).cpu().numpy())\n",
    "        train_loss += loss.item()*samples.size(0)\n",
    "        train_total += samples.size(0)\n",
    "        optimizer.zero_grad()\n",
    "        loss.backward()\n",
    "        optimizer.step()\n",
    "    model.eval()\n",
    "    for samples,labels in valid_loader:\n",
    "        samples, labels = samples.to(device), labels.to(device)\n",
    "        pred = model(samples)\n",
    "        loss = criterion(pred, labels)\n",
    "        output_id = torch.max(pred, dim=1)[1]\n",
    "        valid_correct += np.sum(torch.eq(labels, output_id).cpu().numpy())\n",
    "        valid_loss += loss.item()*samples.size(0)\n",
    "        valid_total += samples.size(0)\n",
    "    \n",
    "    train_acc = train_correct/train_total*100\n",
    "    train_loss = train_loss/train_total\n",
    "    valid_acc = valid_correct/valid_total*100\n",
    "    valid_loss = valid_loss/valid_total\n",
    "    train_acc_his.append(train_acc)\n",
    "    train_losses_his.append(train_loss)\n",
    "    valid_acc_his.append(valid_acc)\n",
    "    valid_losses_his.append(valid_loss)\n",
    "    print(f'Training Loss= {train_loss}')\n",
    "    print(f'Training Acc(%)= {train_acc}')\n",
    "    print(f'Validation Acc(%)= {valid_acc}')"
   ]
  },
  {
   "cell_type": "code",
   "execution_count": null,
   "metadata": {
    "scrolled": true
   },
   "outputs": [],
   "source": [
    "import matplotlib.pyplot as plt\n",
    "\n",
    "plt.figure(figsize=(15,10))\n",
    "plt.subplot(211)\n",
    "plt.plot(train_acc_his,'b',label='training accuracy')\n",
    "plt.plot(valid_acc_his,'r',label='validation accuracy')\n",
    "plt.title('Accuracy(%)')\n",
    "plt.legend(loc='best')\n",
    "plt.subplot(212)\n",
    "plt.plot(train_losses_his,'b',label='training loss')\n",
    "plt.plot(valid_losses_his,'r',label='validation loss')\n",
    "plt.title('Loss')\n",
    "plt.legend(loc='best')\n",
    "plt.show()\n",
    "#plt.savefig(\"training and validation fig.jpg\")"
   ]
  },
  {
   "cell_type": "markdown",
   "metadata": {},
   "source": [
    "## Prediction (After Training)"
   ]
  },
  {
   "cell_type": "code",
   "execution_count": 12,
   "metadata": {},
   "outputs": [
    {
     "name": "stdout",
     "output_type": "stream",
     "text": [
      "Confusion matrix: [[11  3]\n",
      " [ 2 14]]\n",
      "\n",
      "Accuracy: 0.83\n",
      "\n",
      "Precision (per class): [0.84615385 0.82352941]\n",
      "\n",
      "Recall (per class): [0.78571429 0.875     ]\n",
      "\n"
     ]
    }
   ],
   "source": [
    "import matplotlib.pyplot as plt\n",
    "from sklearn.metrics import confusion_matrix\n",
    "\n",
    "all_preds = []\n",
    "all_labels = []\n",
    "\n",
    "with torch.no_grad():\n",
    "    for images, labels in test_loader:\n",
    "        images,labbels = images.to(device), labels.to(device)\n",
    "        output = model(images).to(device)\n",
    "        _, preds = torch.max(output, 1)\n",
    "        all_preds.extend(preds.cpu().numpy())\n",
    "        all_labels.extend(labels.numpy())\n",
    "\n",
    "# Calculate confusion matrix\n",
    "cm = confusion_matrix(all_labels, all_preds)\n",
    "from sklearn.metrics import confusion_matrix, accuracy_score, precision_score, recall_score\n",
    "\n",
    "# all_labels: ground truth labels\n",
    "# all_preds: predicted labels\n",
    "\n",
    "# Compute the confusion matrix\n",
    "cm = confusion_matrix(all_labels, all_preds)\n",
    "\n",
    "# Calculate accuracy\n",
    "accuracy = accuracy_score(all_labels, all_preds)\n",
    "\n",
    "# Calculate precision and recall for each class\n",
    "precision = precision_score(all_labels, all_preds, average=None)\n",
    "recall = recall_score(all_labels, all_preds, average=None)\n",
    "\n",
    "# Print the results\n",
    "print(f'Confusion matrix: {cm}\\n')\n",
    "print(f\"Accuracy: {accuracy:.2f}\\n\")\n",
    "print(f\"Precision (per class): {precision}\\n\")\n",
    "print(f\"Recall (per class): {recall}\\n\")"
   ]
  },
  {
   "cell_type": "code",
   "execution_count": 13,
   "metadata": {},
   "outputs": [
    {
     "data": {
      "image/png": "[encoded data removed]",
      "text/plain": [
       "<Figure size 640x480 with 1 Axes>"
      ]
     },
     "metadata": {},
     "output_type": "display_data"
    }
   ],
   "source": [
    "from sklearn.metrics import roc_auc_score, roc_curve, auc, RocCurveDisplay\n",
    "import numpy as np\n",
    "import torch\n",
    "\n",
    "all_probs = []\n",
    "all_labels = []\n",
    "\n",
    "model.eval()  # Set the model to evaluation mode\n",
    "\n",
    "with torch.no_grad():  # Disable gradient calculation for inference\n",
    "    for images, labels in test_loader:\n",
    "        images, labels = images.to(device), labels.to(device)\n",
    "        output = model(images).to(device)  # Get model outputs\n",
    "        #print(f'output: {output}')\n",
    "        # Assuming output is a tensor of shape (batch_size, num_classes)\n",
    "        #probs = torch.softmax(output, dim=1)  # Get predicted probabilities\n",
    "        #print(f'probs: {probs}')\n",
    "        \n",
    "        # Collect all probabilities\n",
    "        all_probs.extend(output.cpu().numpy())\n",
    "        \n",
    "        # Collect true labels\n",
    "        all_labels.extend(labels.cpu().numpy())\n",
    "\n",
    "# Convert lists to NumPy arrays\n",
    "all_probs = np.array(all_probs)\n",
    "all_labels = np.array(all_labels)\n",
    "\n",
    "fpr, tpr, _ = roc_curve(all_labels, all_probs[:, 1])\n",
    "roc_auc = auc(fpr, tpr)\n",
    "display = RocCurveDisplay(fpr=fpr, tpr=tpr, roc_auc=roc_auc,\n",
    "                                  estimator_name='ANN ')\n",
    "\n",
    "display.plot()\n",
    "plt.plot([0, 1], [0, 1], color='navy', lw=2, linestyle='--')\n",
    "plt.title('Deep Learning with anonymized dataset')\n",
    "plt.legend(loc='lower right')\n",
    "plt.show()\n"
   ]
  },
  {
   "cell_type": "code",
   "execution_count": null,
   "metadata": {},
   "outputs": [],
   "source": []
  }
 ],
 "metadata": {
  "kernelspec": {
   "display_name": "Python 3 (ipykernel)",
   "language": "python",
   "name": "python3"
  },
  "language_info": {
   "codemirror_mode": {
    "name": "ipython",
    "version": 3
   },
   "file_extension": ".py",
   "mimetype": "text/x-python",
   "name": "python",
   "nbconvert_exporter": "python",
   "pygments_lexer": "ipython3",
   "version": "3.10.12"
  }
 },
 "nbformat": 4,
 "nbformat_minor": 2
}
